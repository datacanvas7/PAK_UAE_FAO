{
 "cells": [
  {
   "cell_type": "markdown",
   "id": "3f47515e-479a-4657-b68b-55b50bbfca97",
   "metadata": {},
   "source": [
    "## Food and Agriculture Organization of United Nations\n",
    "### This project analyzes various parameters comparing Pakistan and UAE data.\n",
    "### i- Demographics - Rural vs Urban Population"
   ]
  },
  {
   "cell_type": "code",
   "execution_count": 1,
   "id": "96bd1225-58b9-4b62-bbcb-54f6829e25b9",
   "metadata": {},
   "outputs": [],
   "source": [
    "#import libraries\n",
    "import pandas as pd\n",
    "import numpy as np\n",
    "import plotly.express as px"
   ]
  },
  {
   "cell_type": "code",
   "execution_count": 2,
   "id": "fdd1dca3-bc0e-428e-af4a-1473cf2805e0",
   "metadata": {},
   "outputs": [],
   "source": [
    "#load dataset\n",
    "uae_data = pd.read_csv(r\"F:\\Courses-Learning\\Codanics-Data Science\\datasets_practice\\uae_ruralvsurban_FAOSTAT_data_en_2-25-2025.csv\")\n",
    "pak_data = pd.read_csv(r\"F:\\Courses-Learning\\Codanics-Data Science\\datasets_practice\\pak_ruralvsurban_FAOSTAT_data_en_2-25-2025.csv\")"
   ]
  },
  {
   "cell_type": "code",
   "execution_count": 3,
   "id": "80943aa7-1fb1-48b5-9a79-fa92321ec692",
   "metadata": {},
   "outputs": [
    {
     "name": "stdout",
     "output_type": "stream",
     "text": [
      "UAE Data Preview:\n"
     ]
    },
    {
     "data": {
      "application/vnd.microsoft.datawrangler.viewer.v0+json": {
       "columns": [
        {
         "name": "index",
         "rawType": "int64",
         "type": "integer"
        },
        {
         "name": "Domain Code",
         "rawType": "object",
         "type": "string"
        },
        {
         "name": "Domain",
         "rawType": "object",
         "type": "string"
        },
        {
         "name": "Area Code",
         "rawType": "int64",
         "type": "integer"
        },
        {
         "name": "Area",
         "rawType": "object",
         "type": "string"
        },
        {
         "name": "Element Code",
         "rawType": "int64",
         "type": "integer"
        },
        {
         "name": "Element",
         "rawType": "object",
         "type": "string"
        },
        {
         "name": "Item Code",
         "rawType": "int64",
         "type": "integer"
        },
        {
         "name": "Item",
         "rawType": "object",
         "type": "string"
        },
        {
         "name": "Year Code",
         "rawType": "int64",
         "type": "integer"
        },
        {
         "name": "Year",
         "rawType": "int64",
         "type": "integer"
        },
        {
         "name": "Unit",
         "rawType": "object",
         "type": "string"
        },
        {
         "name": "Value",
         "rawType": "float64",
         "type": "float"
        },
        {
         "name": "Flag",
         "rawType": "object",
         "type": "string"
        },
        {
         "name": "Flag Description",
         "rawType": "object",
         "type": "string"
        },
        {
         "name": "Note",
         "rawType": "float64",
         "type": "float"
        }
       ],
       "conversionMethod": "pd.DataFrame",
       "ref": "a89e1bf9-50f4-436a-9747-dc3598f47af9",
       "rows": [
        [
         "0",
         "OA",
         "Annual population",
         "225",
         "United Arab Emirates",
         "551",
         "Rural population",
         "3010",
         "Population - Est. & Proj.",
         "1990",
         "1990",
         "1000 No",
         "389.683",
         "X",
         "Figure from international organizations",
         null
        ],
        [
         "1",
         "OA",
         "Annual population",
         "225",
         "United Arab Emirates",
         "561",
         "Urban population",
         "3010",
         "Population - Est. & Proj.",
         "1990",
         "1990",
         "1000 No",
         "1470.491",
         "X",
         "Figure from international organizations",
         null
        ],
        [
         "2",
         "OA",
         "Annual population",
         "225",
         "United Arab Emirates",
         "561",
         "Urban population",
         "3010",
         "Population - Est. & Proj.",
         "1991",
         "1991",
         "1000 No",
         "1554.473",
         "X",
         "Figure from international organizations",
         null
        ],
        [
         "3",
         "OA",
         "Annual population",
         "225",
         "United Arab Emirates",
         "551",
         "Rural population",
         "3010",
         "Population - Est. & Proj.",
         "1991",
         "1991",
         "1000 No",
         "415.553",
         "X",
         "Figure from international organizations",
         null
        ],
        [
         "4",
         "OA",
         "Annual population",
         "225",
         "United Arab Emirates",
         "551",
         "Rural population",
         "3010",
         "Population - Est. & Proj.",
         "1992",
         "1992",
         "1000 No",
         "443.197",
         "X",
         "Figure from international organizations",
         null
        ]
       ],
       "shape": {
        "columns": 15,
        "rows": 5
       }
      },
      "text/html": [
       "<div>\n",
       "<style scoped>\n",
       "    .dataframe tbody tr th:only-of-type {\n",
       "        vertical-align: middle;\n",
       "    }\n",
       "\n",
       "    .dataframe tbody tr th {\n",
       "        vertical-align: top;\n",
       "    }\n",
       "\n",
       "    .dataframe thead th {\n",
       "        text-align: right;\n",
       "    }\n",
       "</style>\n",
       "<table border=\"1\" class=\"dataframe\">\n",
       "  <thead>\n",
       "    <tr style=\"text-align: right;\">\n",
       "      <th></th>\n",
       "      <th>Domain Code</th>\n",
       "      <th>Domain</th>\n",
       "      <th>Area Code</th>\n",
       "      <th>Area</th>\n",
       "      <th>Element Code</th>\n",
       "      <th>Element</th>\n",
       "      <th>Item Code</th>\n",
       "      <th>Item</th>\n",
       "      <th>Year Code</th>\n",
       "      <th>Year</th>\n",
       "      <th>Unit</th>\n",
       "      <th>Value</th>\n",
       "      <th>Flag</th>\n",
       "      <th>Flag Description</th>\n",
       "      <th>Note</th>\n",
       "    </tr>\n",
       "  </thead>\n",
       "  <tbody>\n",
       "    <tr>\n",
       "      <th>0</th>\n",
       "      <td>OA</td>\n",
       "      <td>Annual population</td>\n",
       "      <td>225</td>\n",
       "      <td>United Arab Emirates</td>\n",
       "      <td>551</td>\n",
       "      <td>Rural population</td>\n",
       "      <td>3010</td>\n",
       "      <td>Population - Est. &amp; Proj.</td>\n",
       "      <td>1990</td>\n",
       "      <td>1990</td>\n",
       "      <td>1000 No</td>\n",
       "      <td>389.683</td>\n",
       "      <td>X</td>\n",
       "      <td>Figure from international organizations</td>\n",
       "      <td>NaN</td>\n",
       "    </tr>\n",
       "    <tr>\n",
       "      <th>1</th>\n",
       "      <td>OA</td>\n",
       "      <td>Annual population</td>\n",
       "      <td>225</td>\n",
       "      <td>United Arab Emirates</td>\n",
       "      <td>561</td>\n",
       "      <td>Urban population</td>\n",
       "      <td>3010</td>\n",
       "      <td>Population - Est. &amp; Proj.</td>\n",
       "      <td>1990</td>\n",
       "      <td>1990</td>\n",
       "      <td>1000 No</td>\n",
       "      <td>1470.491</td>\n",
       "      <td>X</td>\n",
       "      <td>Figure from international organizations</td>\n",
       "      <td>NaN</td>\n",
       "    </tr>\n",
       "    <tr>\n",
       "      <th>2</th>\n",
       "      <td>OA</td>\n",
       "      <td>Annual population</td>\n",
       "      <td>225</td>\n",
       "      <td>United Arab Emirates</td>\n",
       "      <td>561</td>\n",
       "      <td>Urban population</td>\n",
       "      <td>3010</td>\n",
       "      <td>Population - Est. &amp; Proj.</td>\n",
       "      <td>1991</td>\n",
       "      <td>1991</td>\n",
       "      <td>1000 No</td>\n",
       "      <td>1554.473</td>\n",
       "      <td>X</td>\n",
       "      <td>Figure from international organizations</td>\n",
       "      <td>NaN</td>\n",
       "    </tr>\n",
       "    <tr>\n",
       "      <th>3</th>\n",
       "      <td>OA</td>\n",
       "      <td>Annual population</td>\n",
       "      <td>225</td>\n",
       "      <td>United Arab Emirates</td>\n",
       "      <td>551</td>\n",
       "      <td>Rural population</td>\n",
       "      <td>3010</td>\n",
       "      <td>Population - Est. &amp; Proj.</td>\n",
       "      <td>1991</td>\n",
       "      <td>1991</td>\n",
       "      <td>1000 No</td>\n",
       "      <td>415.553</td>\n",
       "      <td>X</td>\n",
       "      <td>Figure from international organizations</td>\n",
       "      <td>NaN</td>\n",
       "    </tr>\n",
       "    <tr>\n",
       "      <th>4</th>\n",
       "      <td>OA</td>\n",
       "      <td>Annual population</td>\n",
       "      <td>225</td>\n",
       "      <td>United Arab Emirates</td>\n",
       "      <td>551</td>\n",
       "      <td>Rural population</td>\n",
       "      <td>3010</td>\n",
       "      <td>Population - Est. &amp; Proj.</td>\n",
       "      <td>1992</td>\n",
       "      <td>1992</td>\n",
       "      <td>1000 No</td>\n",
       "      <td>443.197</td>\n",
       "      <td>X</td>\n",
       "      <td>Figure from international organizations</td>\n",
       "      <td>NaN</td>\n",
       "    </tr>\n",
       "  </tbody>\n",
       "</table>\n",
       "</div>"
      ],
      "text/plain": [
       "  Domain Code             Domain  Area Code                  Area  \\\n",
       "0          OA  Annual population        225  United Arab Emirates   \n",
       "1          OA  Annual population        225  United Arab Emirates   \n",
       "2          OA  Annual population        225  United Arab Emirates   \n",
       "3          OA  Annual population        225  United Arab Emirates   \n",
       "4          OA  Annual population        225  United Arab Emirates   \n",
       "\n",
       "   Element Code           Element  Item Code                       Item  \\\n",
       "0           551  Rural population       3010  Population - Est. & Proj.   \n",
       "1           561  Urban population       3010  Population - Est. & Proj.   \n",
       "2           561  Urban population       3010  Population - Est. & Proj.   \n",
       "3           551  Rural population       3010  Population - Est. & Proj.   \n",
       "4           551  Rural population       3010  Population - Est. & Proj.   \n",
       "\n",
       "   Year Code  Year     Unit     Value Flag  \\\n",
       "0       1990  1990  1000 No   389.683    X   \n",
       "1       1990  1990  1000 No  1470.491    X   \n",
       "2       1991  1991  1000 No  1554.473    X   \n",
       "3       1991  1991  1000 No   415.553    X   \n",
       "4       1992  1992  1000 No   443.197    X   \n",
       "\n",
       "                          Flag Description  Note  \n",
       "0  Figure from international organizations   NaN  \n",
       "1  Figure from international organizations   NaN  \n",
       "2  Figure from international organizations   NaN  \n",
       "3  Figure from international organizations   NaN  \n",
       "4  Figure from international organizations   NaN  "
      ]
     },
     "metadata": {},
     "output_type": "display_data"
    },
    {
     "name": "stdout",
     "output_type": "stream",
     "text": [
      "\n",
      "Pakistan Data Preview:\n"
     ]
    },
    {
     "data": {
      "application/vnd.microsoft.datawrangler.viewer.v0+json": {
       "columns": [
        {
         "name": "index",
         "rawType": "int64",
         "type": "integer"
        },
        {
         "name": "Domain Code",
         "rawType": "object",
         "type": "string"
        },
        {
         "name": "Domain",
         "rawType": "object",
         "type": "string"
        },
        {
         "name": "Area Code",
         "rawType": "int64",
         "type": "integer"
        },
        {
         "name": "Area",
         "rawType": "object",
         "type": "string"
        },
        {
         "name": "Element Code",
         "rawType": "int64",
         "type": "integer"
        },
        {
         "name": "Element",
         "rawType": "object",
         "type": "string"
        },
        {
         "name": "Item Code",
         "rawType": "int64",
         "type": "integer"
        },
        {
         "name": "Item",
         "rawType": "object",
         "type": "string"
        },
        {
         "name": "Year Code",
         "rawType": "int64",
         "type": "integer"
        },
        {
         "name": "Year",
         "rawType": "int64",
         "type": "integer"
        },
        {
         "name": "Unit",
         "rawType": "object",
         "type": "string"
        },
        {
         "name": "Value",
         "rawType": "float64",
         "type": "float"
        },
        {
         "name": "Flag",
         "rawType": "object",
         "type": "string"
        },
        {
         "name": "Flag Description",
         "rawType": "object",
         "type": "string"
        },
        {
         "name": "Note",
         "rawType": "float64",
         "type": "float"
        }
       ],
       "conversionMethod": "pd.DataFrame",
       "ref": "388f0772-30f1-4876-a4a6-b5f3501a18d9",
       "rows": [
        [
         "0",
         "OA",
         "Annual population",
         "165",
         "Pakistan",
         "551",
         "Rural population",
         "3010",
         "Population - Est. & Proj.",
         "1990",
         "1990",
         "1000 No",
         "74754.921",
         "X",
         "Figure from international organizations",
         null
        ],
        [
         "1",
         "OA",
         "Annual population",
         "165",
         "Pakistan",
         "561",
         "Urban population",
         "3010",
         "Population - Est. & Proj.",
         "1990",
         "1990",
         "1000 No",
         "32923.693",
         "X",
         "Figure from international organizations",
         null
        ],
        [
         "2",
         "OA",
         "Annual population",
         "165",
         "Pakistan",
         "561",
         "Urban population",
         "3010",
         "Population - Est. & Proj.",
         "1991",
         "1991",
         "1000 No",
         "34133.44",
         "X",
         "Figure from international organizations",
         null
        ],
        [
         "3",
         "OA",
         "Annual population",
         "165",
         "Pakistan",
         "551",
         "Rural population",
         "3010",
         "Population - Est. & Proj.",
         "1991",
         "1991",
         "1000 No",
         "76596.98",
         "X",
         "Figure from international organizations",
         null
        ],
        [
         "4",
         "OA",
         "Annual population",
         "165",
         "Pakistan",
         "551",
         "Rural population",
         "3010",
         "Population - Est. & Proj.",
         "1992",
         "1992",
         "1000 No",
         "78397.927",
         "X",
         "Figure from international organizations",
         null
        ]
       ],
       "shape": {
        "columns": 15,
        "rows": 5
       }
      },
      "text/html": [
       "<div>\n",
       "<style scoped>\n",
       "    .dataframe tbody tr th:only-of-type {\n",
       "        vertical-align: middle;\n",
       "    }\n",
       "\n",
       "    .dataframe tbody tr th {\n",
       "        vertical-align: top;\n",
       "    }\n",
       "\n",
       "    .dataframe thead th {\n",
       "        text-align: right;\n",
       "    }\n",
       "</style>\n",
       "<table border=\"1\" class=\"dataframe\">\n",
       "  <thead>\n",
       "    <tr style=\"text-align: right;\">\n",
       "      <th></th>\n",
       "      <th>Domain Code</th>\n",
       "      <th>Domain</th>\n",
       "      <th>Area Code</th>\n",
       "      <th>Area</th>\n",
       "      <th>Element Code</th>\n",
       "      <th>Element</th>\n",
       "      <th>Item Code</th>\n",
       "      <th>Item</th>\n",
       "      <th>Year Code</th>\n",
       "      <th>Year</th>\n",
       "      <th>Unit</th>\n",
       "      <th>Value</th>\n",
       "      <th>Flag</th>\n",
       "      <th>Flag Description</th>\n",
       "      <th>Note</th>\n",
       "    </tr>\n",
       "  </thead>\n",
       "  <tbody>\n",
       "    <tr>\n",
       "      <th>0</th>\n",
       "      <td>OA</td>\n",
       "      <td>Annual population</td>\n",
       "      <td>165</td>\n",
       "      <td>Pakistan</td>\n",
       "      <td>551</td>\n",
       "      <td>Rural population</td>\n",
       "      <td>3010</td>\n",
       "      <td>Population - Est. &amp; Proj.</td>\n",
       "      <td>1990</td>\n",
       "      <td>1990</td>\n",
       "      <td>1000 No</td>\n",
       "      <td>74754.921</td>\n",
       "      <td>X</td>\n",
       "      <td>Figure from international organizations</td>\n",
       "      <td>NaN</td>\n",
       "    </tr>\n",
       "    <tr>\n",
       "      <th>1</th>\n",
       "      <td>OA</td>\n",
       "      <td>Annual population</td>\n",
       "      <td>165</td>\n",
       "      <td>Pakistan</td>\n",
       "      <td>561</td>\n",
       "      <td>Urban population</td>\n",
       "      <td>3010</td>\n",
       "      <td>Population - Est. &amp; Proj.</td>\n",
       "      <td>1990</td>\n",
       "      <td>1990</td>\n",
       "      <td>1000 No</td>\n",
       "      <td>32923.693</td>\n",
       "      <td>X</td>\n",
       "      <td>Figure from international organizations</td>\n",
       "      <td>NaN</td>\n",
       "    </tr>\n",
       "    <tr>\n",
       "      <th>2</th>\n",
       "      <td>OA</td>\n",
       "      <td>Annual population</td>\n",
       "      <td>165</td>\n",
       "      <td>Pakistan</td>\n",
       "      <td>561</td>\n",
       "      <td>Urban population</td>\n",
       "      <td>3010</td>\n",
       "      <td>Population - Est. &amp; Proj.</td>\n",
       "      <td>1991</td>\n",
       "      <td>1991</td>\n",
       "      <td>1000 No</td>\n",
       "      <td>34133.440</td>\n",
       "      <td>X</td>\n",
       "      <td>Figure from international organizations</td>\n",
       "      <td>NaN</td>\n",
       "    </tr>\n",
       "    <tr>\n",
       "      <th>3</th>\n",
       "      <td>OA</td>\n",
       "      <td>Annual population</td>\n",
       "      <td>165</td>\n",
       "      <td>Pakistan</td>\n",
       "      <td>551</td>\n",
       "      <td>Rural population</td>\n",
       "      <td>3010</td>\n",
       "      <td>Population - Est. &amp; Proj.</td>\n",
       "      <td>1991</td>\n",
       "      <td>1991</td>\n",
       "      <td>1000 No</td>\n",
       "      <td>76596.980</td>\n",
       "      <td>X</td>\n",
       "      <td>Figure from international organizations</td>\n",
       "      <td>NaN</td>\n",
       "    </tr>\n",
       "    <tr>\n",
       "      <th>4</th>\n",
       "      <td>OA</td>\n",
       "      <td>Annual population</td>\n",
       "      <td>165</td>\n",
       "      <td>Pakistan</td>\n",
       "      <td>551</td>\n",
       "      <td>Rural population</td>\n",
       "      <td>3010</td>\n",
       "      <td>Population - Est. &amp; Proj.</td>\n",
       "      <td>1992</td>\n",
       "      <td>1992</td>\n",
       "      <td>1000 No</td>\n",
       "      <td>78397.927</td>\n",
       "      <td>X</td>\n",
       "      <td>Figure from international organizations</td>\n",
       "      <td>NaN</td>\n",
       "    </tr>\n",
       "  </tbody>\n",
       "</table>\n",
       "</div>"
      ],
      "text/plain": [
       "  Domain Code             Domain  Area Code      Area  Element Code  \\\n",
       "0          OA  Annual population        165  Pakistan           551   \n",
       "1          OA  Annual population        165  Pakistan           561   \n",
       "2          OA  Annual population        165  Pakistan           561   \n",
       "3          OA  Annual population        165  Pakistan           551   \n",
       "4          OA  Annual population        165  Pakistan           551   \n",
       "\n",
       "            Element  Item Code                       Item  Year Code  Year  \\\n",
       "0  Rural population       3010  Population - Est. & Proj.       1990  1990   \n",
       "1  Urban population       3010  Population - Est. & Proj.       1990  1990   \n",
       "2  Urban population       3010  Population - Est. & Proj.       1991  1991   \n",
       "3  Rural population       3010  Population - Est. & Proj.       1991  1991   \n",
       "4  Rural population       3010  Population - Est. & Proj.       1992  1992   \n",
       "\n",
       "      Unit      Value Flag                         Flag Description  Note  \n",
       "0  1000 No  74754.921    X  Figure from international organizations   NaN  \n",
       "1  1000 No  32923.693    X  Figure from international organizations   NaN  \n",
       "2  1000 No  34133.440    X  Figure from international organizations   NaN  \n",
       "3  1000 No  76596.980    X  Figure from international organizations   NaN  \n",
       "4  1000 No  78397.927    X  Figure from international organizations   NaN  "
      ]
     },
     "metadata": {},
     "output_type": "display_data"
    }
   ],
   "source": [
    "#Preview the dataset\n",
    "print(\"UAE Data Preview:\")\n",
    "display(uae_data.head())\n",
    "\n",
    "print(\"\\nPakistan Data Preview:\")\n",
    "display(pak_data.head())"
   ]
  },
  {
   "cell_type": "code",
   "execution_count": 4,
   "id": "95f82332-2dcd-48d9-a87d-a1e1af09b92b",
   "metadata": {},
   "outputs": [
    {
     "name": "stdout",
     "output_type": "stream",
     "text": [
      "UAE Columns: Index(['Domain Code', 'Domain', 'Area Code', 'Area', 'Element Code', 'Element',\n",
      "       'Item Code', 'Item', 'Year Code', 'Year', 'Unit', 'Value', 'Flag',\n",
      "       'Flag Description', 'Note'],\n",
      "      dtype='object')\n",
      "\n",
      "Pakistan Columns: Index(['Domain Code', 'Domain', 'Area Code', 'Area', 'Element Code', 'Element',\n",
      "       'Item Code', 'Item', 'Year Code', 'Year', 'Unit', 'Value', 'Flag',\n",
      "       'Flag Description', 'Note'],\n",
      "      dtype='object')\n",
      "\n",
      "UAE Data Types:\n",
      " Domain Code          object\n",
      "Domain               object\n",
      "Area Code             int64\n",
      "Area                 object\n",
      "Element Code          int64\n",
      "Element              object\n",
      "Item Code             int64\n",
      "Item                 object\n",
      "Year Code             int64\n",
      "Year                  int64\n",
      "Unit                 object\n",
      "Value               float64\n",
      "Flag                 object\n",
      "Flag Description     object\n",
      "Note                float64\n",
      "dtype: object\n",
      "\n",
      "Pakistan Data Types:\n",
      " Domain Code          object\n",
      "Domain               object\n",
      "Area Code             int64\n",
      "Area                 object\n",
      "Element Code          int64\n",
      "Element              object\n",
      "Item Code             int64\n",
      "Item                 object\n",
      "Year Code             int64\n",
      "Year                  int64\n",
      "Unit                 object\n",
      "Value               float64\n",
      "Flag                 object\n",
      "Flag Description     object\n",
      "Note                float64\n",
      "dtype: object\n"
     ]
    }
   ],
   "source": [
    "#Check column name and data types\n",
    "print(\"UAE Columns:\", uae_data.columns)\n",
    "print(\"\\nPakistan Columns:\", pak_data.columns)\n",
    "\n",
    "print(\"\\nUAE Data Types:\\n\", uae_data.dtypes)\n",
    "print(\"\\nPakistan Data Types:\\n\", pak_data.dtypes)"
   ]
  },
  {
   "cell_type": "code",
   "execution_count": 5,
   "id": "be668609-dc4e-4848-9561-7c4d59bd0550",
   "metadata": {},
   "outputs": [
    {
     "name": "stdout",
     "output_type": "stream",
     "text": [
      "Missing Values in UAE Data:\n",
      " Domain Code          0\n",
      "Domain               0\n",
      "Area Code            0\n",
      "Area                 0\n",
      "Element Code         0\n",
      "Element              0\n",
      "Item Code            0\n",
      "Item                 0\n",
      "Year Code            0\n",
      "Year                 0\n",
      "Unit                 0\n",
      "Value                0\n",
      "Flag                 0\n",
      "Flag Description     0\n",
      "Note                68\n",
      "dtype: int64\n",
      "\n",
      "Missing Values in Pakistan Data:\n",
      " Domain Code          0\n",
      "Domain               0\n",
      "Area Code            0\n",
      "Area                 0\n",
      "Element Code         0\n",
      "Element              0\n",
      "Item Code            0\n",
      "Item                 0\n",
      "Year Code            0\n",
      "Year                 0\n",
      "Unit                 0\n",
      "Value                0\n",
      "Flag                 0\n",
      "Flag Description     0\n",
      "Note                68\n",
      "dtype: int64\n"
     ]
    }
   ],
   "source": [
    "#Check for missing values\n",
    "print(\"Missing Values in UAE Data:\\n\", uae_data.isnull().sum())\n",
    "print(\"\\nMissing Values in Pakistan Data:\\n\", pak_data.isnull().sum())"
   ]
  },
  {
   "cell_type": "code",
   "execution_count": 6,
   "id": "cd10e89c-7a88-438a-b593-eba395084a1e",
   "metadata": {},
   "outputs": [
    {
     "name": "stdout",
     "output_type": "stream",
     "text": [
      "UAE Data Summary:\n"
     ]
    },
    {
     "data": {
      "application/vnd.microsoft.datawrangler.viewer.v0+json": {
       "columns": [
        {
         "name": "index",
         "rawType": "object",
         "type": "string"
        },
        {
         "name": "Area Code",
         "rawType": "float64",
         "type": "float"
        },
        {
         "name": "Element Code",
         "rawType": "float64",
         "type": "float"
        },
        {
         "name": "Item Code",
         "rawType": "float64",
         "type": "float"
        },
        {
         "name": "Year Code",
         "rawType": "float64",
         "type": "float"
        },
        {
         "name": "Year",
         "rawType": "float64",
         "type": "float"
        },
        {
         "name": "Value",
         "rawType": "float64",
         "type": "float"
        },
        {
         "name": "Note",
         "rawType": "float64",
         "type": "float"
        }
       ],
       "conversionMethod": "pd.DataFrame",
       "ref": "a0b17f27-5884-4113-adf5-4b5a4b4bb492",
       "rows": [
        [
         "count",
         "68.0",
         "68.0",
         "68.0",
         "68.0",
         "68.0",
         "68.0",
         "0.0"
        ],
        [
         "mean",
         "225.0",
         "556.0",
         "3010.0",
         "2006.5",
         "2006.5",
         "2988.39675",
         null
        ],
        [
         "std",
         "0.0",
         "5.037175233040658",
         "0.0",
         "9.883651509648603",
         "9.883651509648603",
         "2867.159196786355",
         null
        ],
        [
         "min",
         "225.0",
         "551.0",
         "3010.0",
         "1990.0",
         "1990.0",
         "389.683",
         null
        ],
        [
         "25%",
         "225.0",
         "551.0",
         "3010.0",
         "1998.0",
         "1998.0",
         "997.0025",
         null
        ],
        [
         "50%",
         "225.0",
         "556.0",
         "3010.0",
         "2006.5",
         "2006.5",
         "1413.9389999999999",
         null
        ],
        [
         "75%",
         "225.0",
         "561.0",
         "3010.0",
         "2015.0",
         "2015.0",
         "4503.79525",
         null
        ],
        [
         "max",
         "225.0",
         "561.0",
         "3010.0",
         "2023.0",
         "2023.0",
         "8941.577",
         null
        ]
       ],
       "shape": {
        "columns": 7,
        "rows": 8
       }
      },
      "text/html": [
       "<div>\n",
       "<style scoped>\n",
       "    .dataframe tbody tr th:only-of-type {\n",
       "        vertical-align: middle;\n",
       "    }\n",
       "\n",
       "    .dataframe tbody tr th {\n",
       "        vertical-align: top;\n",
       "    }\n",
       "\n",
       "    .dataframe thead th {\n",
       "        text-align: right;\n",
       "    }\n",
       "</style>\n",
       "<table border=\"1\" class=\"dataframe\">\n",
       "  <thead>\n",
       "    <tr style=\"text-align: right;\">\n",
       "      <th></th>\n",
       "      <th>Area Code</th>\n",
       "      <th>Element Code</th>\n",
       "      <th>Item Code</th>\n",
       "      <th>Year Code</th>\n",
       "      <th>Year</th>\n",
       "      <th>Value</th>\n",
       "      <th>Note</th>\n",
       "    </tr>\n",
       "  </thead>\n",
       "  <tbody>\n",
       "    <tr>\n",
       "      <th>count</th>\n",
       "      <td>68.0</td>\n",
       "      <td>68.000000</td>\n",
       "      <td>68.0</td>\n",
       "      <td>68.000000</td>\n",
       "      <td>68.000000</td>\n",
       "      <td>68.000000</td>\n",
       "      <td>0.0</td>\n",
       "    </tr>\n",
       "    <tr>\n",
       "      <th>mean</th>\n",
       "      <td>225.0</td>\n",
       "      <td>556.000000</td>\n",
       "      <td>3010.0</td>\n",
       "      <td>2006.500000</td>\n",
       "      <td>2006.500000</td>\n",
       "      <td>2988.396750</td>\n",
       "      <td>NaN</td>\n",
       "    </tr>\n",
       "    <tr>\n",
       "      <th>std</th>\n",
       "      <td>0.0</td>\n",
       "      <td>5.037175</td>\n",
       "      <td>0.0</td>\n",
       "      <td>9.883652</td>\n",
       "      <td>9.883652</td>\n",
       "      <td>2867.159197</td>\n",
       "      <td>NaN</td>\n",
       "    </tr>\n",
       "    <tr>\n",
       "      <th>min</th>\n",
       "      <td>225.0</td>\n",
       "      <td>551.000000</td>\n",
       "      <td>3010.0</td>\n",
       "      <td>1990.000000</td>\n",
       "      <td>1990.000000</td>\n",
       "      <td>389.683000</td>\n",
       "      <td>NaN</td>\n",
       "    </tr>\n",
       "    <tr>\n",
       "      <th>25%</th>\n",
       "      <td>225.0</td>\n",
       "      <td>551.000000</td>\n",
       "      <td>3010.0</td>\n",
       "      <td>1998.000000</td>\n",
       "      <td>1998.000000</td>\n",
       "      <td>997.002500</td>\n",
       "      <td>NaN</td>\n",
       "    </tr>\n",
       "    <tr>\n",
       "      <th>50%</th>\n",
       "      <td>225.0</td>\n",
       "      <td>556.000000</td>\n",
       "      <td>3010.0</td>\n",
       "      <td>2006.500000</td>\n",
       "      <td>2006.500000</td>\n",
       "      <td>1413.939000</td>\n",
       "      <td>NaN</td>\n",
       "    </tr>\n",
       "    <tr>\n",
       "      <th>75%</th>\n",
       "      <td>225.0</td>\n",
       "      <td>561.000000</td>\n",
       "      <td>3010.0</td>\n",
       "      <td>2015.000000</td>\n",
       "      <td>2015.000000</td>\n",
       "      <td>4503.795250</td>\n",
       "      <td>NaN</td>\n",
       "    </tr>\n",
       "    <tr>\n",
       "      <th>max</th>\n",
       "      <td>225.0</td>\n",
       "      <td>561.000000</td>\n",
       "      <td>3010.0</td>\n",
       "      <td>2023.000000</td>\n",
       "      <td>2023.000000</td>\n",
       "      <td>8941.577000</td>\n",
       "      <td>NaN</td>\n",
       "    </tr>\n",
       "  </tbody>\n",
       "</table>\n",
       "</div>"
      ],
      "text/plain": [
       "       Area Code  Element Code  Item Code    Year Code         Year  \\\n",
       "count       68.0     68.000000       68.0    68.000000    68.000000   \n",
       "mean       225.0    556.000000     3010.0  2006.500000  2006.500000   \n",
       "std          0.0      5.037175        0.0     9.883652     9.883652   \n",
       "min        225.0    551.000000     3010.0  1990.000000  1990.000000   \n",
       "25%        225.0    551.000000     3010.0  1998.000000  1998.000000   \n",
       "50%        225.0    556.000000     3010.0  2006.500000  2006.500000   \n",
       "75%        225.0    561.000000     3010.0  2015.000000  2015.000000   \n",
       "max        225.0    561.000000     3010.0  2023.000000  2023.000000   \n",
       "\n",
       "             Value  Note  \n",
       "count    68.000000   0.0  \n",
       "mean   2988.396750   NaN  \n",
       "std    2867.159197   NaN  \n",
       "min     389.683000   NaN  \n",
       "25%     997.002500   NaN  \n",
       "50%    1413.939000   NaN  \n",
       "75%    4503.795250   NaN  \n",
       "max    8941.577000   NaN  "
      ]
     },
     "metadata": {},
     "output_type": "display_data"
    },
    {
     "name": "stdout",
     "output_type": "stream",
     "text": [
      "\n",
      "Pakistan Data Summary:\n"
     ]
    },
    {
     "data": {
      "application/vnd.microsoft.datawrangler.viewer.v0+json": {
       "columns": [
        {
         "name": "index",
         "rawType": "object",
         "type": "string"
        },
        {
         "name": "Area Code",
         "rawType": "float64",
         "type": "float"
        },
        {
         "name": "Element Code",
         "rawType": "float64",
         "type": "float"
        },
        {
         "name": "Item Code",
         "rawType": "float64",
         "type": "float"
        },
        {
         "name": "Year Code",
         "rawType": "float64",
         "type": "float"
        },
        {
         "name": "Year",
         "rawType": "float64",
         "type": "float"
        },
        {
         "name": "Value",
         "rawType": "float64",
         "type": "float"
        },
        {
         "name": "Note",
         "rawType": "float64",
         "type": "float"
        }
       ],
       "conversionMethod": "pd.DataFrame",
       "ref": "4a04e341-ff8a-484b-97d5-42dca7432251",
       "rows": [
        [
         "count",
         "68.0",
         "68.0",
         "68.0",
         "68.0",
         "68.0",
         "68.0",
         "0.0"
        ],
        [
         "mean",
         "165.0",
         "556.0",
         "3010.0",
         "2006.5",
         "2006.5",
         "80444.26214705883",
         null
        ],
        [
         "std",
         "0.0",
         "5.037175233040658",
         "0.0",
         "9.883651509648603",
         "9.883651509648603",
         "29946.680115745414",
         null
        ],
        [
         "min",
         "165.0",
         "551.0",
         "3010.0",
         "1990.0",
         "1990.0",
         "32923.693",
         null
        ],
        [
         "25%",
         "165.0",
         "551.0",
         "3010.0",
         "1998.0",
         "1998.0",
         "54774.967",
         null
        ],
        [
         "50%",
         "165.0",
         "556.0",
         "3010.0",
         "2006.5",
         "2006.5",
         "78904.9415",
         null
        ],
        [
         "75%",
         "165.0",
         "561.0",
         "3010.0",
         "2015.0",
         "2015.0",
         "103844.69524999999",
         null
        ],
        [
         "max",
         "165.0",
         "561.0",
         "3010.0",
         "2023.0",
         "2023.0",
         "136008.8",
         null
        ]
       ],
       "shape": {
        "columns": 7,
        "rows": 8
       }
      },
      "text/html": [
       "<div>\n",
       "<style scoped>\n",
       "    .dataframe tbody tr th:only-of-type {\n",
       "        vertical-align: middle;\n",
       "    }\n",
       "\n",
       "    .dataframe tbody tr th {\n",
       "        vertical-align: top;\n",
       "    }\n",
       "\n",
       "    .dataframe thead th {\n",
       "        text-align: right;\n",
       "    }\n",
       "</style>\n",
       "<table border=\"1\" class=\"dataframe\">\n",
       "  <thead>\n",
       "    <tr style=\"text-align: right;\">\n",
       "      <th></th>\n",
       "      <th>Area Code</th>\n",
       "      <th>Element Code</th>\n",
       "      <th>Item Code</th>\n",
       "      <th>Year Code</th>\n",
       "      <th>Year</th>\n",
       "      <th>Value</th>\n",
       "      <th>Note</th>\n",
       "    </tr>\n",
       "  </thead>\n",
       "  <tbody>\n",
       "    <tr>\n",
       "      <th>count</th>\n",
       "      <td>68.0</td>\n",
       "      <td>68.000000</td>\n",
       "      <td>68.0</td>\n",
       "      <td>68.000000</td>\n",
       "      <td>68.000000</td>\n",
       "      <td>68.000000</td>\n",
       "      <td>0.0</td>\n",
       "    </tr>\n",
       "    <tr>\n",
       "      <th>mean</th>\n",
       "      <td>165.0</td>\n",
       "      <td>556.000000</td>\n",
       "      <td>3010.0</td>\n",
       "      <td>2006.500000</td>\n",
       "      <td>2006.500000</td>\n",
       "      <td>80444.262147</td>\n",
       "      <td>NaN</td>\n",
       "    </tr>\n",
       "    <tr>\n",
       "      <th>std</th>\n",
       "      <td>0.0</td>\n",
       "      <td>5.037175</td>\n",
       "      <td>0.0</td>\n",
       "      <td>9.883652</td>\n",
       "      <td>9.883652</td>\n",
       "      <td>29946.680116</td>\n",
       "      <td>NaN</td>\n",
       "    </tr>\n",
       "    <tr>\n",
       "      <th>min</th>\n",
       "      <td>165.0</td>\n",
       "      <td>551.000000</td>\n",
       "      <td>3010.0</td>\n",
       "      <td>1990.000000</td>\n",
       "      <td>1990.000000</td>\n",
       "      <td>32923.693000</td>\n",
       "      <td>NaN</td>\n",
       "    </tr>\n",
       "    <tr>\n",
       "      <th>25%</th>\n",
       "      <td>165.0</td>\n",
       "      <td>551.000000</td>\n",
       "      <td>3010.0</td>\n",
       "      <td>1998.000000</td>\n",
       "      <td>1998.000000</td>\n",
       "      <td>54774.967000</td>\n",
       "      <td>NaN</td>\n",
       "    </tr>\n",
       "    <tr>\n",
       "      <th>50%</th>\n",
       "      <td>165.0</td>\n",
       "      <td>556.000000</td>\n",
       "      <td>3010.0</td>\n",
       "      <td>2006.500000</td>\n",
       "      <td>2006.500000</td>\n",
       "      <td>78904.941500</td>\n",
       "      <td>NaN</td>\n",
       "    </tr>\n",
       "    <tr>\n",
       "      <th>75%</th>\n",
       "      <td>165.0</td>\n",
       "      <td>561.000000</td>\n",
       "      <td>3010.0</td>\n",
       "      <td>2015.000000</td>\n",
       "      <td>2015.000000</td>\n",
       "      <td>103844.695250</td>\n",
       "      <td>NaN</td>\n",
       "    </tr>\n",
       "    <tr>\n",
       "      <th>max</th>\n",
       "      <td>165.0</td>\n",
       "      <td>561.000000</td>\n",
       "      <td>3010.0</td>\n",
       "      <td>2023.000000</td>\n",
       "      <td>2023.000000</td>\n",
       "      <td>136008.800000</td>\n",
       "      <td>NaN</td>\n",
       "    </tr>\n",
       "  </tbody>\n",
       "</table>\n",
       "</div>"
      ],
      "text/plain": [
       "       Area Code  Element Code  Item Code    Year Code         Year  \\\n",
       "count       68.0     68.000000       68.0    68.000000    68.000000   \n",
       "mean       165.0    556.000000     3010.0  2006.500000  2006.500000   \n",
       "std          0.0      5.037175        0.0     9.883652     9.883652   \n",
       "min        165.0    551.000000     3010.0  1990.000000  1990.000000   \n",
       "25%        165.0    551.000000     3010.0  1998.000000  1998.000000   \n",
       "50%        165.0    556.000000     3010.0  2006.500000  2006.500000   \n",
       "75%        165.0    561.000000     3010.0  2015.000000  2015.000000   \n",
       "max        165.0    561.000000     3010.0  2023.000000  2023.000000   \n",
       "\n",
       "               Value  Note  \n",
       "count      68.000000   0.0  \n",
       "mean    80444.262147   NaN  \n",
       "std     29946.680116   NaN  \n",
       "min     32923.693000   NaN  \n",
       "25%     54774.967000   NaN  \n",
       "50%     78904.941500   NaN  \n",
       "75%    103844.695250   NaN  \n",
       "max    136008.800000   NaN  "
      ]
     },
     "metadata": {},
     "output_type": "display_data"
    }
   ],
   "source": [
    "#Summary Statistics\n",
    "print(\"UAE Data Summary:\")\n",
    "display(uae_data.describe())\n",
    "\n",
    "print(\"\\nPakistan Data Summary:\")\n",
    "display(pak_data.describe())"
   ]
  },
  {
   "cell_type": "markdown",
   "id": "3d56992d-be23-4bce-ba33-3b253ee07a70",
   "metadata": {},
   "source": [
    "---\n",
    "## Combining datasets"
   ]
  },
  {
   "cell_type": "code",
   "execution_count": 7,
   "id": "350ba926-392a-4735-9501-c2510f35a5b2",
   "metadata": {},
   "outputs": [],
   "source": [
    "# Combine datasets for comparison\n",
    "pak_data[\"Country\"] = \"Pakistan\"\n",
    "uae_data[\"Country\"] = \"UAE\"\n",
    "df = pd.concat([pak_data, uae_data])"
   ]
  },
  {
   "cell_type": "markdown",
   "id": "3a5f9883-eba6-4e54-82ca-125895244284",
   "metadata": {},
   "source": [
    "## 1-Line Chart: Urban vs. Rural Population Trends Over Time"
   ]
  },
  {
   "cell_type": "code",
   "execution_count": 8,
   "id": "2db2832e-d642-4dcd-a2f8-89ed4132f12f",
   "metadata": {},
   "outputs": [
    {
     "data": {
      "application/vnd.plotly.v1+json": {
       "config": {
        "plotlyServerURL": "https://plot.ly"
       },
       "data": [
        {
         "customdata": [
          [
           "Pakistan",
           "Rural population"
          ],
          [
           "Pakistan",
           "Rural population"
          ],
          [
           "Pakistan",
           "Rural population"
          ],
          [
           "Pakistan",
           "Rural population"
          ],
          [
           "Pakistan",
           "Rural population"
          ],
          [
           "Pakistan",
           "Rural population"
          ],
          [
           "Pakistan",
           "Rural population"
          ],
          [
           "Pakistan",
           "Rural population"
          ],
          [
           "Pakistan",
           "Rural population"
          ],
          [
           "Pakistan",
           "Rural population"
          ],
          [
           "Pakistan",
           "Rural population"
          ],
          [
           "Pakistan",
           "Rural population"
          ],
          [
           "Pakistan",
           "Rural population"
          ],
          [
           "Pakistan",
           "Rural population"
          ],
          [
           "Pakistan",
           "Rural population"
          ],
          [
           "Pakistan",
           "Rural population"
          ],
          [
           "Pakistan",
           "Rural population"
          ],
          [
           "Pakistan",
           "Rural population"
          ],
          [
           "Pakistan",
           "Rural population"
          ],
          [
           "Pakistan",
           "Rural population"
          ],
          [
           "Pakistan",
           "Rural population"
          ],
          [
           "Pakistan",
           "Rural population"
          ],
          [
           "Pakistan",
           "Rural population"
          ],
          [
           "Pakistan",
           "Rural population"
          ],
          [
           "Pakistan",
           "Rural population"
          ],
          [
           "Pakistan",
           "Rural population"
          ],
          [
           "Pakistan",
           "Rural population"
          ],
          [
           "Pakistan",
           "Rural population"
          ],
          [
           "Pakistan",
           "Rural population"
          ],
          [
           "Pakistan",
           "Rural population"
          ],
          [
           "Pakistan",
           "Rural population"
          ],
          [
           "Pakistan",
           "Rural population"
          ],
          [
           "Pakistan",
           "Rural population"
          ],
          [
           "Pakistan",
           "Rural population"
          ]
         ],
         "hovertemplate": "Element=%{customdata[1]}<br>Country=%{customdata[0]}<br>Year=%{x}<br>Population (Thousands)=%{y}<extra></extra>",
         "legendgroup": "Rural population, Pakistan",
         "line": {
          "color": "#636efa",
          "dash": "solid"
         },
         "marker": {
          "symbol": "circle"
         },
         "mode": "lines+markers",
         "name": "Rural population, Pakistan",
         "orientation": "v",
         "showlegend": true,
         "type": "scatter",
         "x": {
          "bdata": "xgfHB8gHyQfKB8sHzAfNB84HzwfQB9EH0gfTB9QH1QfWB9cH2AfZB9oH2wfcB90H3gffB+AH4QfiB+MH5AflB+YH5wc=",
          "dtype": "i2"
         },
         "xaxis": "x",
         "y": {
          "bdata": "+n5qvC5A8kDhehSuT7PyQLbz/dTeI/NAObTIdtaS80D6fmq8gAH0QFTjpZvQcPRACtejcCXh9EDwp8ZLH1L1QC2yne9fxPVANV66SXY49kCTGARWPqr2QOkmMQiYGfdAgZVDiwqH90DD9Shch/P3QM3MzMxQYPhAKVyPwn3O+EDfT42XDj75QIXrUbgAr/lAAiuHFgMi+kCHFtnO+5f6QBBYObRKEftAlkOLbD2O+0CwcmiRVQ78QDvfT41xkPxAMQisHMoS/UDhehSuG5T9QHsUrkfjE/5ASOF6FESS/kDufD819gz/QCuHFtncg/9A4XoUrsn2/0BkO99PuDIAQcUgsHK6ZwBBZmZmZkaaAEE=",
          "dtype": "f8"
         },
         "yaxis": "y"
        },
        {
         "customdata": [
          [
           "UAE",
           "Rural population"
          ],
          [
           "UAE",
           "Rural population"
          ],
          [
           "UAE",
           "Rural population"
          ],
          [
           "UAE",
           "Rural population"
          ],
          [
           "UAE",
           "Rural population"
          ],
          [
           "UAE",
           "Rural population"
          ],
          [
           "UAE",
           "Rural population"
          ],
          [
           "UAE",
           "Rural population"
          ],
          [
           "UAE",
           "Rural population"
          ],
          [
           "UAE",
           "Rural population"
          ],
          [
           "UAE",
           "Rural population"
          ],
          [
           "UAE",
           "Rural population"
          ],
          [
           "UAE",
           "Rural population"
          ],
          [
           "UAE",
           "Rural population"
          ],
          [
           "UAE",
           "Rural population"
          ],
          [
           "UAE",
           "Rural population"
          ],
          [
           "UAE",
           "Rural population"
          ],
          [
           "UAE",
           "Rural population"
          ],
          [
           "UAE",
           "Rural population"
          ],
          [
           "UAE",
           "Rural population"
          ],
          [
           "UAE",
           "Rural population"
          ],
          [
           "UAE",
           "Rural population"
          ],
          [
           "UAE",
           "Rural population"
          ],
          [
           "UAE",
           "Rural population"
          ],
          [
           "UAE",
           "Rural population"
          ],
          [
           "UAE",
           "Rural population"
          ],
          [
           "UAE",
           "Rural population"
          ],
          [
           "UAE",
           "Rural population"
          ],
          [
           "UAE",
           "Rural population"
          ],
          [
           "UAE",
           "Rural population"
          ],
          [
           "UAE",
           "Rural population"
          ],
          [
           "UAE",
           "Rural population"
          ],
          [
           "UAE",
           "Rural population"
          ],
          [
           "UAE",
           "Rural population"
          ]
         ],
         "hovertemplate": "Element=%{customdata[1]}<br>Country=%{customdata[0]}<br>Year=%{x}<br>Population (Thousands)=%{y}<extra></extra>",
         "legendgroup": "Rural population, UAE",
         "line": {
          "color": "#636efa",
          "dash": "dot"
         },
         "marker": {
          "symbol": "circle"
         },
         "mode": "lines+markers",
         "name": "Rural population, UAE",
         "orientation": "v",
         "showlegend": true,
         "type": "scatter",
         "x": {
          "bdata": "xgfHB8gHyQfKB8sHzAfNB84HzwfQB9EH0gfTB9QH1QfWB9cH2AfZB9oH2wfcB90H3gffB+AH4QfiB+MH5AflB+YH5wc=",
          "dtype": "i2"
         },
         "xaxis": "x",
         "y": {
          "bdata": "sHJoke1aeEACK4cW2fh5QP7UeOkms3tArBxaZDuBfUBQjZduEld/QBSuR+F6l4BAmpmZmZlHgUBaZDvfT8WBQLgehetRSoJAPQrXo3DagkDwp8ZLN3yDQPp+arx0G4RAg8DKoUXAhEDfT42XbqqFQFTjpZvEKIdAI9v5fmpiiUAOLbKd72yMQBsv3SSGCJBAWmQ730/lkUAhsHJokXmTQL6fGi9dkJRAGQRWDq0blUA1XrpJjDWVQLgehevRA5VAkxgEVo66lEAZBFYOrX2UQNNNYhDYU5RAdZMYBNYylEDZzvdT4xeUQAisHFpk/JNAyXa+nxrck0DVeOkmsbiTQBfZzvfTlZNAVg4tsp1zk0A=",
          "dtype": "f8"
         },
         "yaxis": "y"
        },
        {
         "customdata": [
          [
           "Pakistan",
           "Urban population"
          ],
          [
           "Pakistan",
           "Urban population"
          ],
          [
           "Pakistan",
           "Urban population"
          ],
          [
           "Pakistan",
           "Urban population"
          ],
          [
           "Pakistan",
           "Urban population"
          ],
          [
           "Pakistan",
           "Urban population"
          ],
          [
           "Pakistan",
           "Urban population"
          ],
          [
           "Pakistan",
           "Urban population"
          ],
          [
           "Pakistan",
           "Urban population"
          ],
          [
           "Pakistan",
           "Urban population"
          ],
          [
           "Pakistan",
           "Urban population"
          ],
          [
           "Pakistan",
           "Urban population"
          ],
          [
           "Pakistan",
           "Urban population"
          ],
          [
           "Pakistan",
           "Urban population"
          ],
          [
           "Pakistan",
           "Urban population"
          ],
          [
           "Pakistan",
           "Urban population"
          ],
          [
           "Pakistan",
           "Urban population"
          ],
          [
           "Pakistan",
           "Urban population"
          ],
          [
           "Pakistan",
           "Urban population"
          ],
          [
           "Pakistan",
           "Urban population"
          ],
          [
           "Pakistan",
           "Urban population"
          ],
          [
           "Pakistan",
           "Urban population"
          ],
          [
           "Pakistan",
           "Urban population"
          ],
          [
           "Pakistan",
           "Urban population"
          ],
          [
           "Pakistan",
           "Urban population"
          ],
          [
           "Pakistan",
           "Urban population"
          ],
          [
           "Pakistan",
           "Urban population"
          ],
          [
           "Pakistan",
           "Urban population"
          ],
          [
           "Pakistan",
           "Urban population"
          ],
          [
           "Pakistan",
           "Urban population"
          ],
          [
           "Pakistan",
           "Urban population"
          ],
          [
           "Pakistan",
           "Urban population"
          ],
          [
           "Pakistan",
           "Urban population"
          ],
          [
           "Pakistan",
           "Urban population"
          ]
         ],
         "hovertemplate": "Element=%{customdata[1]}<br>Country=%{customdata[0]}<br>Year=%{x}<br>Population (Thousands)=%{y}<extra></extra>",
         "legendgroup": "Urban population, Pakistan",
         "line": {
          "color": "#EF553B",
          "dash": "solid"
         },
         "marker": {
          "symbol": "circle"
         },
         "mode": "lines+markers",
         "name": "Urban population, Pakistan",
         "orientation": "v",
         "showlegend": true,
         "type": "scatter",
         "x": {
          "bdata": "xgfHB8gHyQfKB8sHzAfNB84HzwfQB9EH0gfTB9QH1QfWB9cH2AfZB9oH2wfcB90H3gffB+AH4QfiB+MH5AflB+YH5wc=",
          "dtype": "i2"
         },
         "xaxis": "x",
         "y": {
          "bdata": "BFYOLXYT4EBI4XoUrqrgQLKd76emQuFARrbz/QTc4UAfhetRMHjiQFK4HoUDGONAF9nO9/+740BGtvP9oGPkQGq8dJPoCuVAMQisHMas5UDFILBy7E7mQLgehev98OZAaJHtfK+T50AxCKwc3jfoQAAAAADo3uhA/Knx0rmJ6UDfT42XojjqQD81Xrqd6+pA7FG4Ho2j60Dn+6nxOmHsQNv5fmpwJe1Ag8DKoY3w7UC4HoXrRcLuQC2yne8vme9AAAAAANo58EAMAiuHLKjwQJMYBFZUF/FAMzMzMzuH8UAUrkfh5vnxQGIQWDlqb/JAbef7qdvn8kDwp8ZLP2PzQCUGgZWN4fNATDeJQchi9EA=",
          "dtype": "f8"
         },
         "yaxis": "y"
        },
        {
         "customdata": [
          [
           "UAE",
           "Urban population"
          ],
          [
           "UAE",
           "Urban population"
          ],
          [
           "UAE",
           "Urban population"
          ],
          [
           "UAE",
           "Urban population"
          ],
          [
           "UAE",
           "Urban population"
          ],
          [
           "UAE",
           "Urban population"
          ],
          [
           "UAE",
           "Urban population"
          ],
          [
           "UAE",
           "Urban population"
          ],
          [
           "UAE",
           "Urban population"
          ],
          [
           "UAE",
           "Urban population"
          ],
          [
           "UAE",
           "Urban population"
          ],
          [
           "UAE",
           "Urban population"
          ],
          [
           "UAE",
           "Urban population"
          ],
          [
           "UAE",
           "Urban population"
          ],
          [
           "UAE",
           "Urban population"
          ],
          [
           "UAE",
           "Urban population"
          ],
          [
           "UAE",
           "Urban population"
          ],
          [
           "UAE",
           "Urban population"
          ],
          [
           "UAE",
           "Urban population"
          ],
          [
           "UAE",
           "Urban population"
          ],
          [
           "UAE",
           "Urban population"
          ],
          [
           "UAE",
           "Urban population"
          ],
          [
           "UAE",
           "Urban population"
          ],
          [
           "UAE",
           "Urban population"
          ],
          [
           "UAE",
           "Urban population"
          ],
          [
           "UAE",
           "Urban population"
          ],
          [
           "UAE",
           "Urban population"
          ],
          [
           "UAE",
           "Urban population"
          ],
          [
           "UAE",
           "Urban population"
          ],
          [
           "UAE",
           "Urban population"
          ],
          [
           "UAE",
           "Urban population"
          ],
          [
           "UAE",
           "Urban population"
          ],
          [
           "UAE",
           "Urban population"
          ],
          [
           "UAE",
           "Urban population"
          ]
         ],
         "hovertemplate": "Element=%{customdata[1]}<br>Country=%{customdata[0]}<br>Year=%{x}<br>Population (Thousands)=%{y}<extra></extra>",
         "legendgroup": "Urban population, UAE",
         "line": {
          "color": "#EF553B",
          "dash": "dot"
         },
         "marker": {
          "symbol": "circle"
         },
         "mode": "lines+markers",
         "name": "Urban population, UAE",
         "orientation": "v",
         "showlegend": true,
         "type": "scatter",
         "x": {
          "bdata": "xgfHB8gHyQfKB8sHzAfNB84HzwfQB9EH0gfTB9QH1QfWB9cH2AfZB9oH2wfcB90H3gffB+AH4QfiB+MH5AflB+YH5wc=",
          "dtype": "i2"
         },
         "xaxis": "x",
         "y": {
          "bdata": "WDm0yPb5lkAIrBxa5EmYQFTjpZvErZlAWmQ7308dm0Dl0CLb+YycQNejcD2K951A4XoUrkeIn0DVeOkmsaagQClcj8K1maFAWDm0yLahokCe76fGy8ajQDMzMzMz9aRAN4lBYGU2pkDHSzeJQdGnQFK4HoWrJapA7FG4HoVurUDXo3A9auywQA4tsp3vmbNAMzMzM/N0tkBMN4lBABS5QIcW2c6XKrtAkxgEVo6ZvECJQWDlEHe9QCuHFtlO7b1AfT81XjpAvkBeukkM4qK+QLKd76emIL9ADi2ynW+rv0Cq8dJN0h/AQIXrUbh+acBAUI2XbhKvwEBKDAIrp/HAQDeJQWA1NMFA5dAi28l2wUA=",
          "dtype": "f8"
         },
         "yaxis": "y"
        }
       ],
       "layout": {
        "legend": {
         "title": {
          "text": "Element, Country"
         },
         "tracegroupgap": 0
        },
        "template": {
         "data": {
          "bar": [
           {
            "error_x": {
             "color": "#2a3f5f"
            },
            "error_y": {
             "color": "#2a3f5f"
            },
            "marker": {
             "line": {
              "color": "#E5ECF6",
              "width": 0.5
             },
             "pattern": {
              "fillmode": "overlay",
              "size": 10,
              "solidity": 0.2
             }
            },
            "type": "bar"
           }
          ],
          "barpolar": [
           {
            "marker": {
             "line": {
              "color": "#E5ECF6",
              "width": 0.5
             },
             "pattern": {
              "fillmode": "overlay",
              "size": 10,
              "solidity": 0.2
             }
            },
            "type": "barpolar"
           }
          ],
          "carpet": [
           {
            "aaxis": {
             "endlinecolor": "#2a3f5f",
             "gridcolor": "white",
             "linecolor": "white",
             "minorgridcolor": "white",
             "startlinecolor": "#2a3f5f"
            },
            "baxis": {
             "endlinecolor": "#2a3f5f",
             "gridcolor": "white",
             "linecolor": "white",
             "minorgridcolor": "white",
             "startlinecolor": "#2a3f5f"
            },
            "type": "carpet"
           }
          ],
          "choropleth": [
           {
            "colorbar": {
             "outlinewidth": 0,
             "ticks": ""
            },
            "type": "choropleth"
           }
          ],
          "contour": [
           {
            "colorbar": {
             "outlinewidth": 0,
             "ticks": ""
            },
            "colorscale": [
             [
              0,
              "#0d0887"
             ],
             [
              0.1111111111111111,
              "#46039f"
             ],
             [
              0.2222222222222222,
              "#7201a8"
             ],
             [
              0.3333333333333333,
              "#9c179e"
             ],
             [
              0.4444444444444444,
              "#bd3786"
             ],
             [
              0.5555555555555556,
              "#d8576b"
             ],
             [
              0.6666666666666666,
              "#ed7953"
             ],
             [
              0.7777777777777778,
              "#fb9f3a"
             ],
             [
              0.8888888888888888,
              "#fdca26"
             ],
             [
              1,
              "#f0f921"
             ]
            ],
            "type": "contour"
           }
          ],
          "contourcarpet": [
           {
            "colorbar": {
             "outlinewidth": 0,
             "ticks": ""
            },
            "type": "contourcarpet"
           }
          ],
          "heatmap": [
           {
            "colorbar": {
             "outlinewidth": 0,
             "ticks": ""
            },
            "colorscale": [
             [
              0,
              "#0d0887"
             ],
             [
              0.1111111111111111,
              "#46039f"
             ],
             [
              0.2222222222222222,
              "#7201a8"
             ],
             [
              0.3333333333333333,
              "#9c179e"
             ],
             [
              0.4444444444444444,
              "#bd3786"
             ],
             [
              0.5555555555555556,
              "#d8576b"
             ],
             [
              0.6666666666666666,
              "#ed7953"
             ],
             [
              0.7777777777777778,
              "#fb9f3a"
             ],
             [
              0.8888888888888888,
              "#fdca26"
             ],
             [
              1,
              "#f0f921"
             ]
            ],
            "type": "heatmap"
           }
          ],
          "histogram": [
           {
            "marker": {
             "pattern": {
              "fillmode": "overlay",
              "size": 10,
              "solidity": 0.2
             }
            },
            "type": "histogram"
           }
          ],
          "histogram2d": [
           {
            "colorbar": {
             "outlinewidth": 0,
             "ticks": ""
            },
            "colorscale": [
             [
              0,
              "#0d0887"
             ],
             [
              0.1111111111111111,
              "#46039f"
             ],
             [
              0.2222222222222222,
              "#7201a8"
             ],
             [
              0.3333333333333333,
              "#9c179e"
             ],
             [
              0.4444444444444444,
              "#bd3786"
             ],
             [
              0.5555555555555556,
              "#d8576b"
             ],
             [
              0.6666666666666666,
              "#ed7953"
             ],
             [
              0.7777777777777778,
              "#fb9f3a"
             ],
             [
              0.8888888888888888,
              "#fdca26"
             ],
             [
              1,
              "#f0f921"
             ]
            ],
            "type": "histogram2d"
           }
          ],
          "histogram2dcontour": [
           {
            "colorbar": {
             "outlinewidth": 0,
             "ticks": ""
            },
            "colorscale": [
             [
              0,
              "#0d0887"
             ],
             [
              0.1111111111111111,
              "#46039f"
             ],
             [
              0.2222222222222222,
              "#7201a8"
             ],
             [
              0.3333333333333333,
              "#9c179e"
             ],
             [
              0.4444444444444444,
              "#bd3786"
             ],
             [
              0.5555555555555556,
              "#d8576b"
             ],
             [
              0.6666666666666666,
              "#ed7953"
             ],
             [
              0.7777777777777778,
              "#fb9f3a"
             ],
             [
              0.8888888888888888,
              "#fdca26"
             ],
             [
              1,
              "#f0f921"
             ]
            ],
            "type": "histogram2dcontour"
           }
          ],
          "mesh3d": [
           {
            "colorbar": {
             "outlinewidth": 0,
             "ticks": ""
            },
            "type": "mesh3d"
           }
          ],
          "parcoords": [
           {
            "line": {
             "colorbar": {
              "outlinewidth": 0,
              "ticks": ""
             }
            },
            "type": "parcoords"
           }
          ],
          "pie": [
           {
            "automargin": true,
            "type": "pie"
           }
          ],
          "scatter": [
           {
            "fillpattern": {
             "fillmode": "overlay",
             "size": 10,
             "solidity": 0.2
            },
            "type": "scatter"
           }
          ],
          "scatter3d": [
           {
            "line": {
             "colorbar": {
              "outlinewidth": 0,
              "ticks": ""
             }
            },
            "marker": {
             "colorbar": {
              "outlinewidth": 0,
              "ticks": ""
             }
            },
            "type": "scatter3d"
           }
          ],
          "scattercarpet": [
           {
            "marker": {
             "colorbar": {
              "outlinewidth": 0,
              "ticks": ""
             }
            },
            "type": "scattercarpet"
           }
          ],
          "scattergeo": [
           {
            "marker": {
             "colorbar": {
              "outlinewidth": 0,
              "ticks": ""
             }
            },
            "type": "scattergeo"
           }
          ],
          "scattergl": [
           {
            "marker": {
             "colorbar": {
              "outlinewidth": 0,
              "ticks": ""
             }
            },
            "type": "scattergl"
           }
          ],
          "scattermap": [
           {
            "marker": {
             "colorbar": {
              "outlinewidth": 0,
              "ticks": ""
             }
            },
            "type": "scattermap"
           }
          ],
          "scattermapbox": [
           {
            "marker": {
             "colorbar": {
              "outlinewidth": 0,
              "ticks": ""
             }
            },
            "type": "scattermapbox"
           }
          ],
          "scatterpolar": [
           {
            "marker": {
             "colorbar": {
              "outlinewidth": 0,
              "ticks": ""
             }
            },
            "type": "scatterpolar"
           }
          ],
          "scatterpolargl": [
           {
            "marker": {
             "colorbar": {
              "outlinewidth": 0,
              "ticks": ""
             }
            },
            "type": "scatterpolargl"
           }
          ],
          "scatterternary": [
           {
            "marker": {
             "colorbar": {
              "outlinewidth": 0,
              "ticks": ""
             }
            },
            "type": "scatterternary"
           }
          ],
          "surface": [
           {
            "colorbar": {
             "outlinewidth": 0,
             "ticks": ""
            },
            "colorscale": [
             [
              0,
              "#0d0887"
             ],
             [
              0.1111111111111111,
              "#46039f"
             ],
             [
              0.2222222222222222,
              "#7201a8"
             ],
             [
              0.3333333333333333,
              "#9c179e"
             ],
             [
              0.4444444444444444,
              "#bd3786"
             ],
             [
              0.5555555555555556,
              "#d8576b"
             ],
             [
              0.6666666666666666,
              "#ed7953"
             ],
             [
              0.7777777777777778,
              "#fb9f3a"
             ],
             [
              0.8888888888888888,
              "#fdca26"
             ],
             [
              1,
              "#f0f921"
             ]
            ],
            "type": "surface"
           }
          ],
          "table": [
           {
            "cells": {
             "fill": {
              "color": "#EBF0F8"
             },
             "line": {
              "color": "white"
             }
            },
            "header": {
             "fill": {
              "color": "#C8D4E3"
             },
             "line": {
              "color": "white"
             }
            },
            "type": "table"
           }
          ]
         },
         "layout": {
          "annotationdefaults": {
           "arrowcolor": "#2a3f5f",
           "arrowhead": 0,
           "arrowwidth": 1
          },
          "autotypenumbers": "strict",
          "coloraxis": {
           "colorbar": {
            "outlinewidth": 0,
            "ticks": ""
           }
          },
          "colorscale": {
           "diverging": [
            [
             0,
             "#8e0152"
            ],
            [
             0.1,
             "#c51b7d"
            ],
            [
             0.2,
             "#de77ae"
            ],
            [
             0.3,
             "#f1b6da"
            ],
            [
             0.4,
             "#fde0ef"
            ],
            [
             0.5,
             "#f7f7f7"
            ],
            [
             0.6,
             "#e6f5d0"
            ],
            [
             0.7,
             "#b8e186"
            ],
            [
             0.8,
             "#7fbc41"
            ],
            [
             0.9,
             "#4d9221"
            ],
            [
             1,
             "#276419"
            ]
           ],
           "sequential": [
            [
             0,
             "#0d0887"
            ],
            [
             0.1111111111111111,
             "#46039f"
            ],
            [
             0.2222222222222222,
             "#7201a8"
            ],
            [
             0.3333333333333333,
             "#9c179e"
            ],
            [
             0.4444444444444444,
             "#bd3786"
            ],
            [
             0.5555555555555556,
             "#d8576b"
            ],
            [
             0.6666666666666666,
             "#ed7953"
            ],
            [
             0.7777777777777778,
             "#fb9f3a"
            ],
            [
             0.8888888888888888,
             "#fdca26"
            ],
            [
             1,
             "#f0f921"
            ]
           ],
           "sequentialminus": [
            [
             0,
             "#0d0887"
            ],
            [
             0.1111111111111111,
             "#46039f"
            ],
            [
             0.2222222222222222,
             "#7201a8"
            ],
            [
             0.3333333333333333,
             "#9c179e"
            ],
            [
             0.4444444444444444,
             "#bd3786"
            ],
            [
             0.5555555555555556,
             "#d8576b"
            ],
            [
             0.6666666666666666,
             "#ed7953"
            ],
            [
             0.7777777777777778,
             "#fb9f3a"
            ],
            [
             0.8888888888888888,
             "#fdca26"
            ],
            [
             1,
             "#f0f921"
            ]
           ]
          },
          "colorway": [
           "#636efa",
           "#EF553B",
           "#00cc96",
           "#ab63fa",
           "#FFA15A",
           "#19d3f3",
           "#FF6692",
           "#B6E880",
           "#FF97FF",
           "#FECB52"
          ],
          "font": {
           "color": "#2a3f5f"
          },
          "geo": {
           "bgcolor": "white",
           "lakecolor": "white",
           "landcolor": "#E5ECF6",
           "showlakes": true,
           "showland": true,
           "subunitcolor": "white"
          },
          "hoverlabel": {
           "align": "left"
          },
          "hovermode": "closest",
          "mapbox": {
           "style": "light"
          },
          "paper_bgcolor": "white",
          "plot_bgcolor": "#E5ECF6",
          "polar": {
           "angularaxis": {
            "gridcolor": "white",
            "linecolor": "white",
            "ticks": ""
           },
           "bgcolor": "#E5ECF6",
           "radialaxis": {
            "gridcolor": "white",
            "linecolor": "white",
            "ticks": ""
           }
          },
          "scene": {
           "xaxis": {
            "backgroundcolor": "#E5ECF6",
            "gridcolor": "white",
            "gridwidth": 2,
            "linecolor": "white",
            "showbackground": true,
            "ticks": "",
            "zerolinecolor": "white"
           },
           "yaxis": {
            "backgroundcolor": "#E5ECF6",
            "gridcolor": "white",
            "gridwidth": 2,
            "linecolor": "white",
            "showbackground": true,
            "ticks": "",
            "zerolinecolor": "white"
           },
           "zaxis": {
            "backgroundcolor": "#E5ECF6",
            "gridcolor": "white",
            "gridwidth": 2,
            "linecolor": "white",
            "showbackground": true,
            "ticks": "",
            "zerolinecolor": "white"
           }
          },
          "shapedefaults": {
           "line": {
            "color": "#2a3f5f"
           }
          },
          "ternary": {
           "aaxis": {
            "gridcolor": "white",
            "linecolor": "white",
            "ticks": ""
           },
           "baxis": {
            "gridcolor": "white",
            "linecolor": "white",
            "ticks": ""
           },
           "bgcolor": "#E5ECF6",
           "caxis": {
            "gridcolor": "white",
            "linecolor": "white",
            "ticks": ""
           }
          },
          "title": {
           "x": 0.05
          },
          "xaxis": {
           "automargin": true,
           "gridcolor": "white",
           "linecolor": "white",
           "ticks": "",
           "title": {
            "standoff": 15
           },
           "zerolinecolor": "white",
           "zerolinewidth": 2
          },
          "yaxis": {
           "automargin": true,
           "gridcolor": "white",
           "linecolor": "white",
           "ticks": "",
           "title": {
            "standoff": 15
           },
           "zerolinecolor": "white",
           "zerolinewidth": 2
          }
         }
        },
        "title": {
         "text": "Urban vs. Rural Population Growth (Pakistan vs UAE)"
        },
        "xaxis": {
         "anchor": "y",
         "domain": [
          0,
          1
         ],
         "title": {
          "text": "Year"
         }
        },
        "yaxis": {
         "anchor": "x",
         "domain": [
          0,
          1
         ],
         "title": {
          "text": "Population (Thousands)"
         }
        }
       }
      }
     },
     "metadata": {},
     "output_type": "display_data"
    }
   ],
   "source": [
    "# Create interactive line chart\n",
    "fig = px.line(df, x=\"Year\", y=\"Value\", color=\"Element\",\n",
    "              line_dash=\"Country\", markers=True,\n",
    "              title=\"Urban vs. Rural Population Growth (Pakistan vs UAE)\",\n",
    "              labels={\"Value\": \"Population (Thousands)\", \"Year\": \"Year\"},\n",
    "              hover_data=[\"Country\", \"Element\"])\n",
    "fig.show()"
   ]
  },
  {
   "cell_type": "markdown",
   "id": "704a6c64-c9c8-43d8-9677-99ebfb1b0f24",
   "metadata": {},
   "source": [
    "## 2-Stacked Area Chart: Urbanization Trends"
   ]
  },
  {
   "cell_type": "code",
   "execution_count": 9,
   "id": "907ee96b-d98b-469c-99f2-680b9d2a3cc4",
   "metadata": {},
   "outputs": [
    {
     "data": {
      "application/vnd.plotly.v1+json": {
       "config": {
        "plotlyServerURL": "https://plot.ly"
       },
       "data": [
        {
         "fillpattern": {
          "shape": ""
         },
         "hovertemplate": "Element=Rural population<br>Country=Pakistan<br>Year=%{x}<br>Population (Thousands)=%{y}<extra></extra>",
         "legendgroup": "Rural population",
         "line": {
          "color": "#636efa"
         },
         "marker": {
          "symbol": "circle"
         },
         "mode": "lines",
         "name": "Rural population",
         "orientation": "v",
         "showlegend": true,
         "stackgroup": "1",
         "type": "scatter",
         "x": {
          "bdata": "xgfHB8gHyQfKB8sHzAfNB84HzwfQB9EH0gfTB9QH1QfWB9cH2AfZB9oH2wfcB90H3gffB+AH4QfiB+MH5AflB+YH5wc=",
          "dtype": "i2"
         },
         "xaxis": "x",
         "y": {
          "bdata": "+n5qvC5A8kDhehSuT7PyQLbz/dTeI/NAObTIdtaS80D6fmq8gAH0QFTjpZvQcPRACtejcCXh9EDwp8ZLH1L1QC2yne9fxPVANV66SXY49kCTGARWPqr2QOkmMQiYGfdAgZVDiwqH90DD9Shch/P3QM3MzMxQYPhAKVyPwn3O+EDfT42XDj75QIXrUbgAr/lAAiuHFgMi+kCHFtnO+5f6QBBYObRKEftAlkOLbD2O+0CwcmiRVQ78QDvfT41xkPxAMQisHMoS/UDhehSuG5T9QHsUrkfjE/5ASOF6FESS/kDufD819gz/QCuHFtncg/9A4XoUrsn2/0BkO99PuDIAQcUgsHK6ZwBBZmZmZkaaAEE=",
          "dtype": "f8"
         },
         "yaxis": "y"
        },
        {
         "fillpattern": {
          "shape": ""
         },
         "hovertemplate": "Element=Rural population<br>Country=UAE<br>Year=%{x}<br>Population (Thousands)=%{y}<extra></extra>",
         "legendgroup": "Rural population",
         "line": {
          "color": "#636efa"
         },
         "marker": {
          "symbol": "circle"
         },
         "mode": "lines",
         "name": "Rural population",
         "orientation": "v",
         "showlegend": false,
         "stackgroup": "1",
         "type": "scatter",
         "x": {
          "bdata": "xgfHB8gHyQfKB8sHzAfNB84HzwfQB9EH0gfTB9QH1QfWB9cH2AfZB9oH2wfcB90H3gffB+AH4QfiB+MH5AflB+YH5wc=",
          "dtype": "i2"
         },
         "xaxis": "x2",
         "y": {
          "bdata": "sHJoke1aeEACK4cW2fh5QP7UeOkms3tArBxaZDuBfUBQjZduEld/QBSuR+F6l4BAmpmZmZlHgUBaZDvfT8WBQLgehetRSoJAPQrXo3DagkDwp8ZLN3yDQPp+arx0G4RAg8DKoUXAhEDfT42XbqqFQFTjpZvEKIdAI9v5fmpiiUAOLbKd72yMQBsv3SSGCJBAWmQ730/lkUAhsHJokXmTQL6fGi9dkJRAGQRWDq0blUA1XrpJjDWVQLgehevRA5VAkxgEVo66lEAZBFYOrX2UQNNNYhDYU5RAdZMYBNYylEDZzvdT4xeUQAisHFpk/JNAyXa+nxrck0DVeOkmsbiTQBfZzvfTlZNAVg4tsp1zk0A=",
          "dtype": "f8"
         },
         "yaxis": "y2"
        },
        {
         "fillpattern": {
          "shape": ""
         },
         "hovertemplate": "Element=Urban population<br>Country=Pakistan<br>Year=%{x}<br>Population (Thousands)=%{y}<extra></extra>",
         "legendgroup": "Urban population",
         "line": {
          "color": "#EF553B"
         },
         "marker": {
          "symbol": "circle"
         },
         "mode": "lines",
         "name": "Urban population",
         "orientation": "v",
         "showlegend": true,
         "stackgroup": "1",
         "type": "scatter",
         "x": {
          "bdata": "xgfHB8gHyQfKB8sHzAfNB84HzwfQB9EH0gfTB9QH1QfWB9cH2AfZB9oH2wfcB90H3gffB+AH4QfiB+MH5AflB+YH5wc=",
          "dtype": "i2"
         },
         "xaxis": "x",
         "y": {
          "bdata": "BFYOLXYT4EBI4XoUrqrgQLKd76emQuFARrbz/QTc4UAfhetRMHjiQFK4HoUDGONAF9nO9/+740BGtvP9oGPkQGq8dJPoCuVAMQisHMas5UDFILBy7E7mQLgehev98OZAaJHtfK+T50AxCKwc3jfoQAAAAADo3uhA/Knx0rmJ6UDfT42XojjqQD81Xrqd6+pA7FG4Ho2j60Dn+6nxOmHsQNv5fmpwJe1Ag8DKoY3w7UC4HoXrRcLuQC2yne8vme9AAAAAANo58EAMAiuHLKjwQJMYBFZUF/FAMzMzMzuH8UAUrkfh5vnxQGIQWDlqb/JAbef7qdvn8kDwp8ZLP2PzQCUGgZWN4fNATDeJQchi9EA=",
          "dtype": "f8"
         },
         "yaxis": "y"
        },
        {
         "fillpattern": {
          "shape": ""
         },
         "hovertemplate": "Element=Urban population<br>Country=UAE<br>Year=%{x}<br>Population (Thousands)=%{y}<extra></extra>",
         "legendgroup": "Urban population",
         "line": {
          "color": "#EF553B"
         },
         "marker": {
          "symbol": "circle"
         },
         "mode": "lines",
         "name": "Urban population",
         "orientation": "v",
         "showlegend": false,
         "stackgroup": "1",
         "type": "scatter",
         "x": {
          "bdata": "xgfHB8gHyQfKB8sHzAfNB84HzwfQB9EH0gfTB9QH1QfWB9cH2AfZB9oH2wfcB90H3gffB+AH4QfiB+MH5AflB+YH5wc=",
          "dtype": "i2"
         },
         "xaxis": "x2",
         "y": {
          "bdata": "WDm0yPb5lkAIrBxa5EmYQFTjpZvErZlAWmQ7308dm0Dl0CLb+YycQNejcD2K951A4XoUrkeIn0DVeOkmsaagQClcj8K1maFAWDm0yLahokCe76fGy8ajQDMzMzMz9aRAN4lBYGU2pkDHSzeJQdGnQFK4HoWrJapA7FG4HoVurUDXo3A9auywQA4tsp3vmbNAMzMzM/N0tkBMN4lBABS5QIcW2c6XKrtAkxgEVo6ZvECJQWDlEHe9QCuHFtlO7b1AfT81XjpAvkBeukkM4qK+QLKd76emIL9ADi2ynW+rv0Cq8dJN0h/AQIXrUbh+acBAUI2XbhKvwEBKDAIrp/HAQDeJQWA1NMFA5dAi28l2wUA=",
          "dtype": "f8"
         },
         "yaxis": "y2"
        }
       ],
       "layout": {
        "annotations": [
         {
          "font": {},
          "showarrow": false,
          "text": "Country=Pakistan",
          "x": 0.245,
          "xanchor": "center",
          "xref": "paper",
          "y": 1,
          "yanchor": "bottom",
          "yref": "paper"
         },
         {
          "font": {},
          "showarrow": false,
          "text": "Country=UAE",
          "x": 0.755,
          "xanchor": "center",
          "xref": "paper",
          "y": 1,
          "yanchor": "bottom",
          "yref": "paper"
         }
        ],
        "legend": {
         "title": {
          "text": "Element"
         },
         "tracegroupgap": 0
        },
        "template": {
         "data": {
          "bar": [
           {
            "error_x": {
             "color": "#2a3f5f"
            },
            "error_y": {
             "color": "#2a3f5f"
            },
            "marker": {
             "line": {
              "color": "#E5ECF6",
              "width": 0.5
             },
             "pattern": {
              "fillmode": "overlay",
              "size": 10,
              "solidity": 0.2
             }
            },
            "type": "bar"
           }
          ],
          "barpolar": [
           {
            "marker": {
             "line": {
              "color": "#E5ECF6",
              "width": 0.5
             },
             "pattern": {
              "fillmode": "overlay",
              "size": 10,
              "solidity": 0.2
             }
            },
            "type": "barpolar"
           }
          ],
          "carpet": [
           {
            "aaxis": {
             "endlinecolor": "#2a3f5f",
             "gridcolor": "white",
             "linecolor": "white",
             "minorgridcolor": "white",
             "startlinecolor": "#2a3f5f"
            },
            "baxis": {
             "endlinecolor": "#2a3f5f",
             "gridcolor": "white",
             "linecolor": "white",
             "minorgridcolor": "white",
             "startlinecolor": "#2a3f5f"
            },
            "type": "carpet"
           }
          ],
          "choropleth": [
           {
            "colorbar": {
             "outlinewidth": 0,
             "ticks": ""
            },
            "type": "choropleth"
           }
          ],
          "contour": [
           {
            "colorbar": {
             "outlinewidth": 0,
             "ticks": ""
            },
            "colorscale": [
             [
              0,
              "#0d0887"
             ],
             [
              0.1111111111111111,
              "#46039f"
             ],
             [
              0.2222222222222222,
              "#7201a8"
             ],
             [
              0.3333333333333333,
              "#9c179e"
             ],
             [
              0.4444444444444444,
              "#bd3786"
             ],
             [
              0.5555555555555556,
              "#d8576b"
             ],
             [
              0.6666666666666666,
              "#ed7953"
             ],
             [
              0.7777777777777778,
              "#fb9f3a"
             ],
             [
              0.8888888888888888,
              "#fdca26"
             ],
             [
              1,
              "#f0f921"
             ]
            ],
            "type": "contour"
           }
          ],
          "contourcarpet": [
           {
            "colorbar": {
             "outlinewidth": 0,
             "ticks": ""
            },
            "type": "contourcarpet"
           }
          ],
          "heatmap": [
           {
            "colorbar": {
             "outlinewidth": 0,
             "ticks": ""
            },
            "colorscale": [
             [
              0,
              "#0d0887"
             ],
             [
              0.1111111111111111,
              "#46039f"
             ],
             [
              0.2222222222222222,
              "#7201a8"
             ],
             [
              0.3333333333333333,
              "#9c179e"
             ],
             [
              0.4444444444444444,
              "#bd3786"
             ],
             [
              0.5555555555555556,
              "#d8576b"
             ],
             [
              0.6666666666666666,
              "#ed7953"
             ],
             [
              0.7777777777777778,
              "#fb9f3a"
             ],
             [
              0.8888888888888888,
              "#fdca26"
             ],
             [
              1,
              "#f0f921"
             ]
            ],
            "type": "heatmap"
           }
          ],
          "histogram": [
           {
            "marker": {
             "pattern": {
              "fillmode": "overlay",
              "size": 10,
              "solidity": 0.2
             }
            },
            "type": "histogram"
           }
          ],
          "histogram2d": [
           {
            "colorbar": {
             "outlinewidth": 0,
             "ticks": ""
            },
            "colorscale": [
             [
              0,
              "#0d0887"
             ],
             [
              0.1111111111111111,
              "#46039f"
             ],
             [
              0.2222222222222222,
              "#7201a8"
             ],
             [
              0.3333333333333333,
              "#9c179e"
             ],
             [
              0.4444444444444444,
              "#bd3786"
             ],
             [
              0.5555555555555556,
              "#d8576b"
             ],
             [
              0.6666666666666666,
              "#ed7953"
             ],
             [
              0.7777777777777778,
              "#fb9f3a"
             ],
             [
              0.8888888888888888,
              "#fdca26"
             ],
             [
              1,
              "#f0f921"
             ]
            ],
            "type": "histogram2d"
           }
          ],
          "histogram2dcontour": [
           {
            "colorbar": {
             "outlinewidth": 0,
             "ticks": ""
            },
            "colorscale": [
             [
              0,
              "#0d0887"
             ],
             [
              0.1111111111111111,
              "#46039f"
             ],
             [
              0.2222222222222222,
              "#7201a8"
             ],
             [
              0.3333333333333333,
              "#9c179e"
             ],
             [
              0.4444444444444444,
              "#bd3786"
             ],
             [
              0.5555555555555556,
              "#d8576b"
             ],
             [
              0.6666666666666666,
              "#ed7953"
             ],
             [
              0.7777777777777778,
              "#fb9f3a"
             ],
             [
              0.8888888888888888,
              "#fdca26"
             ],
             [
              1,
              "#f0f921"
             ]
            ],
            "type": "histogram2dcontour"
           }
          ],
          "mesh3d": [
           {
            "colorbar": {
             "outlinewidth": 0,
             "ticks": ""
            },
            "type": "mesh3d"
           }
          ],
          "parcoords": [
           {
            "line": {
             "colorbar": {
              "outlinewidth": 0,
              "ticks": ""
             }
            },
            "type": "parcoords"
           }
          ],
          "pie": [
           {
            "automargin": true,
            "type": "pie"
           }
          ],
          "scatter": [
           {
            "fillpattern": {
             "fillmode": "overlay",
             "size": 10,
             "solidity": 0.2
            },
            "type": "scatter"
           }
          ],
          "scatter3d": [
           {
            "line": {
             "colorbar": {
              "outlinewidth": 0,
              "ticks": ""
             }
            },
            "marker": {
             "colorbar": {
              "outlinewidth": 0,
              "ticks": ""
             }
            },
            "type": "scatter3d"
           }
          ],
          "scattercarpet": [
           {
            "marker": {
             "colorbar": {
              "outlinewidth": 0,
              "ticks": ""
             }
            },
            "type": "scattercarpet"
           }
          ],
          "scattergeo": [
           {
            "marker": {
             "colorbar": {
              "outlinewidth": 0,
              "ticks": ""
             }
            },
            "type": "scattergeo"
           }
          ],
          "scattergl": [
           {
            "marker": {
             "colorbar": {
              "outlinewidth": 0,
              "ticks": ""
             }
            },
            "type": "scattergl"
           }
          ],
          "scattermap": [
           {
            "marker": {
             "colorbar": {
              "outlinewidth": 0,
              "ticks": ""
             }
            },
            "type": "scattermap"
           }
          ],
          "scattermapbox": [
           {
            "marker": {
             "colorbar": {
              "outlinewidth": 0,
              "ticks": ""
             }
            },
            "type": "scattermapbox"
           }
          ],
          "scatterpolar": [
           {
            "marker": {
             "colorbar": {
              "outlinewidth": 0,
              "ticks": ""
             }
            },
            "type": "scatterpolar"
           }
          ],
          "scatterpolargl": [
           {
            "marker": {
             "colorbar": {
              "outlinewidth": 0,
              "ticks": ""
             }
            },
            "type": "scatterpolargl"
           }
          ],
          "scatterternary": [
           {
            "marker": {
             "colorbar": {
              "outlinewidth": 0,
              "ticks": ""
             }
            },
            "type": "scatterternary"
           }
          ],
          "surface": [
           {
            "colorbar": {
             "outlinewidth": 0,
             "ticks": ""
            },
            "colorscale": [
             [
              0,
              "#0d0887"
             ],
             [
              0.1111111111111111,
              "#46039f"
             ],
             [
              0.2222222222222222,
              "#7201a8"
             ],
             [
              0.3333333333333333,
              "#9c179e"
             ],
             [
              0.4444444444444444,
              "#bd3786"
             ],
             [
              0.5555555555555556,
              "#d8576b"
             ],
             [
              0.6666666666666666,
              "#ed7953"
             ],
             [
              0.7777777777777778,
              "#fb9f3a"
             ],
             [
              0.8888888888888888,
              "#fdca26"
             ],
             [
              1,
              "#f0f921"
             ]
            ],
            "type": "surface"
           }
          ],
          "table": [
           {
            "cells": {
             "fill": {
              "color": "#EBF0F8"
             },
             "line": {
              "color": "white"
             }
            },
            "header": {
             "fill": {
              "color": "#C8D4E3"
             },
             "line": {
              "color": "white"
             }
            },
            "type": "table"
           }
          ]
         },
         "layout": {
          "annotationdefaults": {
           "arrowcolor": "#2a3f5f",
           "arrowhead": 0,
           "arrowwidth": 1
          },
          "autotypenumbers": "strict",
          "coloraxis": {
           "colorbar": {
            "outlinewidth": 0,
            "ticks": ""
           }
          },
          "colorscale": {
           "diverging": [
            [
             0,
             "#8e0152"
            ],
            [
             0.1,
             "#c51b7d"
            ],
            [
             0.2,
             "#de77ae"
            ],
            [
             0.3,
             "#f1b6da"
            ],
            [
             0.4,
             "#fde0ef"
            ],
            [
             0.5,
             "#f7f7f7"
            ],
            [
             0.6,
             "#e6f5d0"
            ],
            [
             0.7,
             "#b8e186"
            ],
            [
             0.8,
             "#7fbc41"
            ],
            [
             0.9,
             "#4d9221"
            ],
            [
             1,
             "#276419"
            ]
           ],
           "sequential": [
            [
             0,
             "#0d0887"
            ],
            [
             0.1111111111111111,
             "#46039f"
            ],
            [
             0.2222222222222222,
             "#7201a8"
            ],
            [
             0.3333333333333333,
             "#9c179e"
            ],
            [
             0.4444444444444444,
             "#bd3786"
            ],
            [
             0.5555555555555556,
             "#d8576b"
            ],
            [
             0.6666666666666666,
             "#ed7953"
            ],
            [
             0.7777777777777778,
             "#fb9f3a"
            ],
            [
             0.8888888888888888,
             "#fdca26"
            ],
            [
             1,
             "#f0f921"
            ]
           ],
           "sequentialminus": [
            [
             0,
             "#0d0887"
            ],
            [
             0.1111111111111111,
             "#46039f"
            ],
            [
             0.2222222222222222,
             "#7201a8"
            ],
            [
             0.3333333333333333,
             "#9c179e"
            ],
            [
             0.4444444444444444,
             "#bd3786"
            ],
            [
             0.5555555555555556,
             "#d8576b"
            ],
            [
             0.6666666666666666,
             "#ed7953"
            ],
            [
             0.7777777777777778,
             "#fb9f3a"
            ],
            [
             0.8888888888888888,
             "#fdca26"
            ],
            [
             1,
             "#f0f921"
            ]
           ]
          },
          "colorway": [
           "#636efa",
           "#EF553B",
           "#00cc96",
           "#ab63fa",
           "#FFA15A",
           "#19d3f3",
           "#FF6692",
           "#B6E880",
           "#FF97FF",
           "#FECB52"
          ],
          "font": {
           "color": "#2a3f5f"
          },
          "geo": {
           "bgcolor": "white",
           "lakecolor": "white",
           "landcolor": "#E5ECF6",
           "showlakes": true,
           "showland": true,
           "subunitcolor": "white"
          },
          "hoverlabel": {
           "align": "left"
          },
          "hovermode": "closest",
          "mapbox": {
           "style": "light"
          },
          "paper_bgcolor": "white",
          "plot_bgcolor": "#E5ECF6",
          "polar": {
           "angularaxis": {
            "gridcolor": "white",
            "linecolor": "white",
            "ticks": ""
           },
           "bgcolor": "#E5ECF6",
           "radialaxis": {
            "gridcolor": "white",
            "linecolor": "white",
            "ticks": ""
           }
          },
          "scene": {
           "xaxis": {
            "backgroundcolor": "#E5ECF6",
            "gridcolor": "white",
            "gridwidth": 2,
            "linecolor": "white",
            "showbackground": true,
            "ticks": "",
            "zerolinecolor": "white"
           },
           "yaxis": {
            "backgroundcolor": "#E5ECF6",
            "gridcolor": "white",
            "gridwidth": 2,
            "linecolor": "white",
            "showbackground": true,
            "ticks": "",
            "zerolinecolor": "white"
           },
           "zaxis": {
            "backgroundcolor": "#E5ECF6",
            "gridcolor": "white",
            "gridwidth": 2,
            "linecolor": "white",
            "showbackground": true,
            "ticks": "",
            "zerolinecolor": "white"
           }
          },
          "shapedefaults": {
           "line": {
            "color": "#2a3f5f"
           }
          },
          "ternary": {
           "aaxis": {
            "gridcolor": "white",
            "linecolor": "white",
            "ticks": ""
           },
           "baxis": {
            "gridcolor": "white",
            "linecolor": "white",
            "ticks": ""
           },
           "bgcolor": "#E5ECF6",
           "caxis": {
            "gridcolor": "white",
            "linecolor": "white",
            "ticks": ""
           }
          },
          "title": {
           "x": 0.05
          },
          "xaxis": {
           "automargin": true,
           "gridcolor": "white",
           "linecolor": "white",
           "ticks": "",
           "title": {
            "standoff": 15
           },
           "zerolinecolor": "white",
           "zerolinewidth": 2
          },
          "yaxis": {
           "automargin": true,
           "gridcolor": "white",
           "linecolor": "white",
           "ticks": "",
           "title": {
            "standoff": 15
           },
           "zerolinecolor": "white",
           "zerolinewidth": 2
          }
         }
        },
        "title": {
         "text": "Urbanization Trends in Pakistan & UAE"
        },
        "xaxis": {
         "anchor": "y",
         "domain": [
          0,
          0.49
         ],
         "title": {
          "text": "Year"
         }
        },
        "xaxis2": {
         "anchor": "y2",
         "domain": [
          0.51,
          1
         ],
         "matches": "x",
         "title": {
          "text": "Year"
         }
        },
        "yaxis": {
         "anchor": "x",
         "domain": [
          0,
          1
         ],
         "title": {
          "text": "Population (Thousands)"
         }
        },
        "yaxis2": {
         "anchor": "x2",
         "domain": [
          0,
          1
         ],
         "matches": "y",
         "showticklabels": false
        }
       }
      }
     },
     "metadata": {},
     "output_type": "display_data"
    }
   ],
   "source": [
    "fig = px.area(df, x=\"Year\", y=\"Value\", color=\"Element\", facet_col=\"Country\",\n",
    "              title=\"Urbanization Trends in Pakistan & UAE\",\n",
    "              labels={\"Value\": \"Population (Thousands)\", \"Year\": \"Year\"})\n",
    "\n",
    "fig.show()"
   ]
  },
  {
   "cell_type": "markdown",
   "id": "9d6ab3b2-f533-4190-a734-79f978794da7",
   "metadata": {},
   "source": [
    "## 3- Bar Chart: Rural vs Urban Population for a Given Year"
   ]
  },
  {
   "cell_type": "code",
   "execution_count": 10,
   "id": "3fe4c69c-db3f-4517-a886-9585066d9425",
   "metadata": {},
   "outputs": [
    {
     "data": {
      "application/vnd.plotly.v1+json": {
       "config": {
        "plotlyServerURL": "https://plot.ly"
       },
       "data": [
        {
         "alignmentgroup": "True",
         "hovertemplate": "Country=Pakistan<br>Population Type=%{x}<br>Population (Thousands)=%{y}<extra></extra>",
         "legendgroup": "Pakistan",
         "marker": {
          "color": "#636efa",
          "pattern": {
           "shape": ""
          }
         },
         "name": "Pakistan",
         "offsetgroup": "Pakistan",
         "orientation": "v",
         "showlegend": true,
         "textposition": "auto",
         "type": "bar",
         "x": [
          "Rural population",
          "Urban population"
         ],
         "xaxis": "x",
         "y": {
          "bdata": "exSuR+MT/kCTGARWVBfxQA==",
          "dtype": "f8"
         },
         "yaxis": "y"
        },
        {
         "alignmentgroup": "True",
         "hovertemplate": "Country=UAE<br>Population Type=%{x}<br>Population (Thousands)=%{y}<extra></extra>",
         "legendgroup": "UAE",
         "marker": {
          "color": "#EF553B",
          "pattern": {
           "shape": ""
          }
         },
         "name": "UAE",
         "offsetgroup": "UAE",
         "orientation": "v",
         "showlegend": true,
         "textposition": "auto",
         "type": "bar",
         "x": [
          "Rural population",
          "Urban population"
         ],
         "xaxis": "x",
         "y": {
          "bdata": "001iENhTlECyne+npiC/QA==",
          "dtype": "f8"
         },
         "yaxis": "y"
        }
       ],
       "layout": {
        "barmode": "group",
        "legend": {
         "title": {
          "text": "Country"
         },
         "tracegroupgap": 0
        },
        "template": {
         "data": {
          "bar": [
           {
            "error_x": {
             "color": "#2a3f5f"
            },
            "error_y": {
             "color": "#2a3f5f"
            },
            "marker": {
             "line": {
              "color": "#E5ECF6",
              "width": 0.5
             },
             "pattern": {
              "fillmode": "overlay",
              "size": 10,
              "solidity": 0.2
             }
            },
            "type": "bar"
           }
          ],
          "barpolar": [
           {
            "marker": {
             "line": {
              "color": "#E5ECF6",
              "width": 0.5
             },
             "pattern": {
              "fillmode": "overlay",
              "size": 10,
              "solidity": 0.2
             }
            },
            "type": "barpolar"
           }
          ],
          "carpet": [
           {
            "aaxis": {
             "endlinecolor": "#2a3f5f",
             "gridcolor": "white",
             "linecolor": "white",
             "minorgridcolor": "white",
             "startlinecolor": "#2a3f5f"
            },
            "baxis": {
             "endlinecolor": "#2a3f5f",
             "gridcolor": "white",
             "linecolor": "white",
             "minorgridcolor": "white",
             "startlinecolor": "#2a3f5f"
            },
            "type": "carpet"
           }
          ],
          "choropleth": [
           {
            "colorbar": {
             "outlinewidth": 0,
             "ticks": ""
            },
            "type": "choropleth"
           }
          ],
          "contour": [
           {
            "colorbar": {
             "outlinewidth": 0,
             "ticks": ""
            },
            "colorscale": [
             [
              0,
              "#0d0887"
             ],
             [
              0.1111111111111111,
              "#46039f"
             ],
             [
              0.2222222222222222,
              "#7201a8"
             ],
             [
              0.3333333333333333,
              "#9c179e"
             ],
             [
              0.4444444444444444,
              "#bd3786"
             ],
             [
              0.5555555555555556,
              "#d8576b"
             ],
             [
              0.6666666666666666,
              "#ed7953"
             ],
             [
              0.7777777777777778,
              "#fb9f3a"
             ],
             [
              0.8888888888888888,
              "#fdca26"
             ],
             [
              1,
              "#f0f921"
             ]
            ],
            "type": "contour"
           }
          ],
          "contourcarpet": [
           {
            "colorbar": {
             "outlinewidth": 0,
             "ticks": ""
            },
            "type": "contourcarpet"
           }
          ],
          "heatmap": [
           {
            "colorbar": {
             "outlinewidth": 0,
             "ticks": ""
            },
            "colorscale": [
             [
              0,
              "#0d0887"
             ],
             [
              0.1111111111111111,
              "#46039f"
             ],
             [
              0.2222222222222222,
              "#7201a8"
             ],
             [
              0.3333333333333333,
              "#9c179e"
             ],
             [
              0.4444444444444444,
              "#bd3786"
             ],
             [
              0.5555555555555556,
              "#d8576b"
             ],
             [
              0.6666666666666666,
              "#ed7953"
             ],
             [
              0.7777777777777778,
              "#fb9f3a"
             ],
             [
              0.8888888888888888,
              "#fdca26"
             ],
             [
              1,
              "#f0f921"
             ]
            ],
            "type": "heatmap"
           }
          ],
          "histogram": [
           {
            "marker": {
             "pattern": {
              "fillmode": "overlay",
              "size": 10,
              "solidity": 0.2
             }
            },
            "type": "histogram"
           }
          ],
          "histogram2d": [
           {
            "colorbar": {
             "outlinewidth": 0,
             "ticks": ""
            },
            "colorscale": [
             [
              0,
              "#0d0887"
             ],
             [
              0.1111111111111111,
              "#46039f"
             ],
             [
              0.2222222222222222,
              "#7201a8"
             ],
             [
              0.3333333333333333,
              "#9c179e"
             ],
             [
              0.4444444444444444,
              "#bd3786"
             ],
             [
              0.5555555555555556,
              "#d8576b"
             ],
             [
              0.6666666666666666,
              "#ed7953"
             ],
             [
              0.7777777777777778,
              "#fb9f3a"
             ],
             [
              0.8888888888888888,
              "#fdca26"
             ],
             [
              1,
              "#f0f921"
             ]
            ],
            "type": "histogram2d"
           }
          ],
          "histogram2dcontour": [
           {
            "colorbar": {
             "outlinewidth": 0,
             "ticks": ""
            },
            "colorscale": [
             [
              0,
              "#0d0887"
             ],
             [
              0.1111111111111111,
              "#46039f"
             ],
             [
              0.2222222222222222,
              "#7201a8"
             ],
             [
              0.3333333333333333,
              "#9c179e"
             ],
             [
              0.4444444444444444,
              "#bd3786"
             ],
             [
              0.5555555555555556,
              "#d8576b"
             ],
             [
              0.6666666666666666,
              "#ed7953"
             ],
             [
              0.7777777777777778,
              "#fb9f3a"
             ],
             [
              0.8888888888888888,
              "#fdca26"
             ],
             [
              1,
              "#f0f921"
             ]
            ],
            "type": "histogram2dcontour"
           }
          ],
          "mesh3d": [
           {
            "colorbar": {
             "outlinewidth": 0,
             "ticks": ""
            },
            "type": "mesh3d"
           }
          ],
          "parcoords": [
           {
            "line": {
             "colorbar": {
              "outlinewidth": 0,
              "ticks": ""
             }
            },
            "type": "parcoords"
           }
          ],
          "pie": [
           {
            "automargin": true,
            "type": "pie"
           }
          ],
          "scatter": [
           {
            "fillpattern": {
             "fillmode": "overlay",
             "size": 10,
             "solidity": 0.2
            },
            "type": "scatter"
           }
          ],
          "scatter3d": [
           {
            "line": {
             "colorbar": {
              "outlinewidth": 0,
              "ticks": ""
             }
            },
            "marker": {
             "colorbar": {
              "outlinewidth": 0,
              "ticks": ""
             }
            },
            "type": "scatter3d"
           }
          ],
          "scattercarpet": [
           {
            "marker": {
             "colorbar": {
              "outlinewidth": 0,
              "ticks": ""
             }
            },
            "type": "scattercarpet"
           }
          ],
          "scattergeo": [
           {
            "marker": {
             "colorbar": {
              "outlinewidth": 0,
              "ticks": ""
             }
            },
            "type": "scattergeo"
           }
          ],
          "scattergl": [
           {
            "marker": {
             "colorbar": {
              "outlinewidth": 0,
              "ticks": ""
             }
            },
            "type": "scattergl"
           }
          ],
          "scattermap": [
           {
            "marker": {
             "colorbar": {
              "outlinewidth": 0,
              "ticks": ""
             }
            },
            "type": "scattermap"
           }
          ],
          "scattermapbox": [
           {
            "marker": {
             "colorbar": {
              "outlinewidth": 0,
              "ticks": ""
             }
            },
            "type": "scattermapbox"
           }
          ],
          "scatterpolar": [
           {
            "marker": {
             "colorbar": {
              "outlinewidth": 0,
              "ticks": ""
             }
            },
            "type": "scatterpolar"
           }
          ],
          "scatterpolargl": [
           {
            "marker": {
             "colorbar": {
              "outlinewidth": 0,
              "ticks": ""
             }
            },
            "type": "scatterpolargl"
           }
          ],
          "scatterternary": [
           {
            "marker": {
             "colorbar": {
              "outlinewidth": 0,
              "ticks": ""
             }
            },
            "type": "scatterternary"
           }
          ],
          "surface": [
           {
            "colorbar": {
             "outlinewidth": 0,
             "ticks": ""
            },
            "colorscale": [
             [
              0,
              "#0d0887"
             ],
             [
              0.1111111111111111,
              "#46039f"
             ],
             [
              0.2222222222222222,
              "#7201a8"
             ],
             [
              0.3333333333333333,
              "#9c179e"
             ],
             [
              0.4444444444444444,
              "#bd3786"
             ],
             [
              0.5555555555555556,
              "#d8576b"
             ],
             [
              0.6666666666666666,
              "#ed7953"
             ],
             [
              0.7777777777777778,
              "#fb9f3a"
             ],
             [
              0.8888888888888888,
              "#fdca26"
             ],
             [
              1,
              "#f0f921"
             ]
            ],
            "type": "surface"
           }
          ],
          "table": [
           {
            "cells": {
             "fill": {
              "color": "#EBF0F8"
             },
             "line": {
              "color": "white"
             }
            },
            "header": {
             "fill": {
              "color": "#C8D4E3"
             },
             "line": {
              "color": "white"
             }
            },
            "type": "table"
           }
          ]
         },
         "layout": {
          "annotationdefaults": {
           "arrowcolor": "#2a3f5f",
           "arrowhead": 0,
           "arrowwidth": 1
          },
          "autotypenumbers": "strict",
          "coloraxis": {
           "colorbar": {
            "outlinewidth": 0,
            "ticks": ""
           }
          },
          "colorscale": {
           "diverging": [
            [
             0,
             "#8e0152"
            ],
            [
             0.1,
             "#c51b7d"
            ],
            [
             0.2,
             "#de77ae"
            ],
            [
             0.3,
             "#f1b6da"
            ],
            [
             0.4,
             "#fde0ef"
            ],
            [
             0.5,
             "#f7f7f7"
            ],
            [
             0.6,
             "#e6f5d0"
            ],
            [
             0.7,
             "#b8e186"
            ],
            [
             0.8,
             "#7fbc41"
            ],
            [
             0.9,
             "#4d9221"
            ],
            [
             1,
             "#276419"
            ]
           ],
           "sequential": [
            [
             0,
             "#0d0887"
            ],
            [
             0.1111111111111111,
             "#46039f"
            ],
            [
             0.2222222222222222,
             "#7201a8"
            ],
            [
             0.3333333333333333,
             "#9c179e"
            ],
            [
             0.4444444444444444,
             "#bd3786"
            ],
            [
             0.5555555555555556,
             "#d8576b"
            ],
            [
             0.6666666666666666,
             "#ed7953"
            ],
            [
             0.7777777777777778,
             "#fb9f3a"
            ],
            [
             0.8888888888888888,
             "#fdca26"
            ],
            [
             1,
             "#f0f921"
            ]
           ],
           "sequentialminus": [
            [
             0,
             "#0d0887"
            ],
            [
             0.1111111111111111,
             "#46039f"
            ],
            [
             0.2222222222222222,
             "#7201a8"
            ],
            [
             0.3333333333333333,
             "#9c179e"
            ],
            [
             0.4444444444444444,
             "#bd3786"
            ],
            [
             0.5555555555555556,
             "#d8576b"
            ],
            [
             0.6666666666666666,
             "#ed7953"
            ],
            [
             0.7777777777777778,
             "#fb9f3a"
            ],
            [
             0.8888888888888888,
             "#fdca26"
            ],
            [
             1,
             "#f0f921"
            ]
           ]
          },
          "colorway": [
           "#636efa",
           "#EF553B",
           "#00cc96",
           "#ab63fa",
           "#FFA15A",
           "#19d3f3",
           "#FF6692",
           "#B6E880",
           "#FF97FF",
           "#FECB52"
          ],
          "font": {
           "color": "#2a3f5f"
          },
          "geo": {
           "bgcolor": "white",
           "lakecolor": "white",
           "landcolor": "#E5ECF6",
           "showlakes": true,
           "showland": true,
           "subunitcolor": "white"
          },
          "hoverlabel": {
           "align": "left"
          },
          "hovermode": "closest",
          "mapbox": {
           "style": "light"
          },
          "paper_bgcolor": "white",
          "plot_bgcolor": "#E5ECF6",
          "polar": {
           "angularaxis": {
            "gridcolor": "white",
            "linecolor": "white",
            "ticks": ""
           },
           "bgcolor": "#E5ECF6",
           "radialaxis": {
            "gridcolor": "white",
            "linecolor": "white",
            "ticks": ""
           }
          },
          "scene": {
           "xaxis": {
            "backgroundcolor": "#E5ECF6",
            "gridcolor": "white",
            "gridwidth": 2,
            "linecolor": "white",
            "showbackground": true,
            "ticks": "",
            "zerolinecolor": "white"
           },
           "yaxis": {
            "backgroundcolor": "#E5ECF6",
            "gridcolor": "white",
            "gridwidth": 2,
            "linecolor": "white",
            "showbackground": true,
            "ticks": "",
            "zerolinecolor": "white"
           },
           "zaxis": {
            "backgroundcolor": "#E5ECF6",
            "gridcolor": "white",
            "gridwidth": 2,
            "linecolor": "white",
            "showbackground": true,
            "ticks": "",
            "zerolinecolor": "white"
           }
          },
          "shapedefaults": {
           "line": {
            "color": "#2a3f5f"
           }
          },
          "ternary": {
           "aaxis": {
            "gridcolor": "white",
            "linecolor": "white",
            "ticks": ""
           },
           "baxis": {
            "gridcolor": "white",
            "linecolor": "white",
            "ticks": ""
           },
           "bgcolor": "#E5ECF6",
           "caxis": {
            "gridcolor": "white",
            "linecolor": "white",
            "ticks": ""
           }
          },
          "title": {
           "x": 0.05
          },
          "xaxis": {
           "automargin": true,
           "gridcolor": "white",
           "linecolor": "white",
           "ticks": "",
           "title": {
            "standoff": 15
           },
           "zerolinecolor": "white",
           "zerolinewidth": 2
          },
          "yaxis": {
           "automargin": true,
           "gridcolor": "white",
           "linecolor": "white",
           "ticks": "",
           "title": {
            "standoff": 15
           },
           "zerolinecolor": "white",
           "zerolinewidth": 2
          }
         }
        },
        "title": {
         "text": "Rural vs. Urban Population in 2016"
        },
        "xaxis": {
         "anchor": "y",
         "domain": [
          0,
          1
         ],
         "title": {
          "text": "Population Type"
         }
        },
        "yaxis": {
         "anchor": "x",
         "domain": [
          0,
          1
         ],
         "title": {
          "text": "Population (Thousands)"
         }
        }
       }
      }
     },
     "metadata": {},
     "output_type": "display_data"
    }
   ],
   "source": [
    "year_selected = 2016  # Change to any year you want\n",
    "df_selected = df[df[\"Year\"] == year_selected]\n",
    "\n",
    "fig = px.bar(df_selected, x=\"Element\", y=\"Value\", color=\"Country\",\n",
    "             barmode=\"group\",\n",
    "             title=f\"Rural vs. Urban Population in {year_selected}\",\n",
    "             labels={\"Value\": \"Population (Thousands)\", \"Element\": \"Population Type\"})\n",
    "\n",
    "fig.show()\n"
   ]
  },
  {
   "cell_type": "markdown",
   "id": "2c1c2a58-1fda-4030-9d5d-874da4f4c4a6",
   "metadata": {},
   "source": [
    "## 4-Line Chart: Population Growth Rate Over Time"
   ]
  },
  {
   "cell_type": "code",
   "execution_count": 11,
   "id": "527bd03b-3c1a-4f8f-a2af-ac0861bd8c62",
   "metadata": {},
   "outputs": [
    {
     "data": {
      "application/vnd.plotly.v1+json": {
       "config": {
        "plotlyServerURL": "https://plot.ly"
       },
       "data": [
        {
         "hovertemplate": "Element=Rural population<br>Country=Pakistan<br>Year=%{x}<br>Growth Rate (%)=%{y}<extra></extra>",
         "legendgroup": "Rural population, Pakistan",
         "line": {
          "color": "#636efa",
          "dash": "solid"
         },
         "marker": {
          "symbol": "circle"
         },
         "mode": "lines+markers",
         "name": "Rural population, Pakistan",
         "orientation": "v",
         "showlegend": true,
         "type": "scatter",
         "x": {
          "bdata": "xgfHB8gHyQfKB8sHzAfNB84HzwfQB9EH0gfTB9QH1QfWB9cH2AfZB9oH2wfcB90H3gffB+AH4QfiB+MH5AflB+YH5wc=",
          "dtype": "i2"
         },
         "xaxis": "x",
         "y": {
          "bdata": "AAAAAAAA+H/+aZEvirYDQJxd5SBBzwJAJGabdhoeAkCiFJYjCqsBQBxY8mYsYwFA0Mn6ZmIsAUD+3vLQsOgAQPaYj0b9vgBAXh0kpoaqAEAgELlocAAAQGT65IaZtP4/vEh4Ksac/T9onamSwNH8PwxP/aE1Y/w/MIOU3Kw//D8w5o6Y3xv8PzxtBUQd9/s/2MUM/a38+z/o9eQw4Tb8P9Rk5Sp3gvw/uHR1J9vZ/D+UHUoxtw39P6SVOc76+/w/IEmeGzaF/D/YRJ8Ez8z7P1SudwYFAPs/gObw98FC+j+sFyC0ehX5PxzDnNTQ7vc/wMly/avK9j+UcXu51aL1P7geGH//c/Q/+A9PDdNB8z8=",
          "dtype": "f8"
         },
         "yaxis": "y"
        },
        {
         "hovertemplate": "Element=Rural population<br>Country=UAE<br>Year=%{x}<br>Growth Rate (%)=%{y}<extra></extra>",
         "legendgroup": "Rural population, UAE",
         "line": {
          "color": "#636efa",
          "dash": "dot"
         },
         "marker": {
          "symbol": "circle"
         },
         "mode": "lines+markers",
         "name": "Rural population, UAE",
         "orientation": "v",
         "showlegend": true,
         "type": "scatter",
         "x": {
          "bdata": "xgfHB8gHyQfKB8sHzAfNB84HzwfQB9EH0gfTB9QH1QfWB9cH2AfZB9oH2wfcB90H3gffB+AH4QfiB+MH5AflB+YH5wc=",
          "dtype": "i2"
         },
         "xaxis": "x",
         "y": {
          "bdata": "AAAAAAAA+H+Znl4WD44aQGwLiB3/mxpA7kxFOK4QGkAIfvQ4rOEYQL/Ci/HLhhdAUbWsPvmVEECSC+fxGrwGQASYMx66YwdAFHCaM6qfCECSSnJHodAKQMrx0P3giQlALjDSvHmdCUCQaJRTsqERQAn9kTXPkhtAQmmCPWY3I0BaQ5FA1vUnQNjM6fBFnilAxtJxFXk7J0C8PLdF5qUhQK9+EjhFXhZAUrGKpKorBUAAADKbaqTeP/Ci0QDeTu2/StyKMw7K9b9KpcBpLVvyv0wO0x/EhOm/vL4bODBM5L+UhqllSq3gv1T+bvftGuG/YOcYGbkx5L9YtR2D7Enmv4CsXwEHGea/xPuZt9XV5b8=",
          "dtype": "f8"
         },
         "yaxis": "y"
        },
        {
         "hovertemplate": "Element=Urban population<br>Country=Pakistan<br>Year=%{x}<br>Growth Rate (%)=%{y}<extra></extra>",
         "legendgroup": "Urban population, Pakistan",
         "line": {
          "color": "#EF553B",
          "dash": "solid"
         },
         "marker": {
          "symbol": "circle"
         },
         "mode": "lines+markers",
         "name": "Urban population, Pakistan",
         "orientation": "v",
         "showlegend": true,
         "type": "scatter",
         "x": {
          "bdata": "xgfHB8gHyQfKB8sHzAfNB84HzwfQB9EH0gfTB9QH1QfWB9cH2AfZB9oH2wfcB90H3gffB+AH4QfiB+MH5AflB+YH5wc=",
          "dtype": "i2"
         },
         "xaxis": "x",
         "y": {
          "bdata": "AAAAAAAA+H8GjoT0KWUNQJz69M+VfgxAGl9ShXnEC0Dy4WhmelMLQPQd6fHECgtAACiC/MHWCkCcKQBnaYsKQOQ1MdB3owlAJoTjL9AJCECC+wJGy2AHQKRdvhTyswZAvEptp14pBkB8dlET88IFQCY2/eDHjQVAglLj5aN2BUCgLsuML2cFQJaNccqkVAVAKB3qnwxaBUC04oKmNXIFQO6wXIXxmgVADvX+kAjHBUBWUMcHzeMFQOgh0NCl1QVARFLgaVScBUAKc1RrSz8FQEjSEz6V2gRAOvR+qON1BEB6rzBUo3EEQM7e90K5bQRAop+/lqdqBEACDTLTP2UEQCA1W6/LWwRAwKzKOBdQBEA=",
          "dtype": "f8"
         },
         "yaxis": "y"
        },
        {
         "hovertemplate": "Element=Urban population<br>Country=UAE<br>Year=%{x}<br>Growth Rate (%)=%{y}<extra></extra>",
         "legendgroup": "Urban population, UAE",
         "line": {
          "color": "#EF553B",
          "dash": "dot"
         },
         "marker": {
          "symbol": "circle"
         },
         "mode": "lines+markers",
         "name": "Urban population, UAE",
         "orientation": "v",
         "showlegend": true,
         "type": "scatter",
         "x": {
          "bdata": "xgfHB8gHyQfKB8sHzAfNB84HzwfQB9EH0gfTB9QH1QfWB9cH2AfZB9oH2wfcB90H3gffB+AH4QfiB+MH5AflB+YH5wc=",
          "dtype": "i2"
         },
         "xaxis": "x",
         "y": {
          "bdata": "AAAAAAAA+H/ftaqnONgWQBVuMubH5BZAiYJXkkFdFkD62SZy3y8VQKttpF2V1xNApSjgpBflFECoVJDBzHMWQEN0rM7ezRZAtTfoxfFvF0DQ873bHZQYQIkgoqdq5BdAxJifnlXyF0AO2V/euOYcQP1nfzU4kCNAav67Lq0fKUA7Qzuh5QAuQNILUUFppS9AsjbqudMiLUCt1anjXFgnQAStBoRppyBAhJmShDEbFUBCzNcDHzQIQDDuh5u4FPk/ZOWfkjBR8T/YFYNK9mH0PxhjeCpSqPk/ELoiGb/d+z9swQGipD/9PzyOcgyOjvw/eHtl6v9++j/IPaLsLvH4P2S+BQXEjPg/iFyK9REw+D8=",
          "dtype": "f8"
         },
         "yaxis": "y"
        }
       ],
       "layout": {
        "legend": {
         "title": {
          "text": "Element, Country"
         },
         "tracegroupgap": 0
        },
        "template": {
         "data": {
          "bar": [
           {
            "error_x": {
             "color": "#2a3f5f"
            },
            "error_y": {
             "color": "#2a3f5f"
            },
            "marker": {
             "line": {
              "color": "#E5ECF6",
              "width": 0.5
             },
             "pattern": {
              "fillmode": "overlay",
              "size": 10,
              "solidity": 0.2
             }
            },
            "type": "bar"
           }
          ],
          "barpolar": [
           {
            "marker": {
             "line": {
              "color": "#E5ECF6",
              "width": 0.5
             },
             "pattern": {
              "fillmode": "overlay",
              "size": 10,
              "solidity": 0.2
             }
            },
            "type": "barpolar"
           }
          ],
          "carpet": [
           {
            "aaxis": {
             "endlinecolor": "#2a3f5f",
             "gridcolor": "white",
             "linecolor": "white",
             "minorgridcolor": "white",
             "startlinecolor": "#2a3f5f"
            },
            "baxis": {
             "endlinecolor": "#2a3f5f",
             "gridcolor": "white",
             "linecolor": "white",
             "minorgridcolor": "white",
             "startlinecolor": "#2a3f5f"
            },
            "type": "carpet"
           }
          ],
          "choropleth": [
           {
            "colorbar": {
             "outlinewidth": 0,
             "ticks": ""
            },
            "type": "choropleth"
           }
          ],
          "contour": [
           {
            "colorbar": {
             "outlinewidth": 0,
             "ticks": ""
            },
            "colorscale": [
             [
              0,
              "#0d0887"
             ],
             [
              0.1111111111111111,
              "#46039f"
             ],
             [
              0.2222222222222222,
              "#7201a8"
             ],
             [
              0.3333333333333333,
              "#9c179e"
             ],
             [
              0.4444444444444444,
              "#bd3786"
             ],
             [
              0.5555555555555556,
              "#d8576b"
             ],
             [
              0.6666666666666666,
              "#ed7953"
             ],
             [
              0.7777777777777778,
              "#fb9f3a"
             ],
             [
              0.8888888888888888,
              "#fdca26"
             ],
             [
              1,
              "#f0f921"
             ]
            ],
            "type": "contour"
           }
          ],
          "contourcarpet": [
           {
            "colorbar": {
             "outlinewidth": 0,
             "ticks": ""
            },
            "type": "contourcarpet"
           }
          ],
          "heatmap": [
           {
            "colorbar": {
             "outlinewidth": 0,
             "ticks": ""
            },
            "colorscale": [
             [
              0,
              "#0d0887"
             ],
             [
              0.1111111111111111,
              "#46039f"
             ],
             [
              0.2222222222222222,
              "#7201a8"
             ],
             [
              0.3333333333333333,
              "#9c179e"
             ],
             [
              0.4444444444444444,
              "#bd3786"
             ],
             [
              0.5555555555555556,
              "#d8576b"
             ],
             [
              0.6666666666666666,
              "#ed7953"
             ],
             [
              0.7777777777777778,
              "#fb9f3a"
             ],
             [
              0.8888888888888888,
              "#fdca26"
             ],
             [
              1,
              "#f0f921"
             ]
            ],
            "type": "heatmap"
           }
          ],
          "histogram": [
           {
            "marker": {
             "pattern": {
              "fillmode": "overlay",
              "size": 10,
              "solidity": 0.2
             }
            },
            "type": "histogram"
           }
          ],
          "histogram2d": [
           {
            "colorbar": {
             "outlinewidth": 0,
             "ticks": ""
            },
            "colorscale": [
             [
              0,
              "#0d0887"
             ],
             [
              0.1111111111111111,
              "#46039f"
             ],
             [
              0.2222222222222222,
              "#7201a8"
             ],
             [
              0.3333333333333333,
              "#9c179e"
             ],
             [
              0.4444444444444444,
              "#bd3786"
             ],
             [
              0.5555555555555556,
              "#d8576b"
             ],
             [
              0.6666666666666666,
              "#ed7953"
             ],
             [
              0.7777777777777778,
              "#fb9f3a"
             ],
             [
              0.8888888888888888,
              "#fdca26"
             ],
             [
              1,
              "#f0f921"
             ]
            ],
            "type": "histogram2d"
           }
          ],
          "histogram2dcontour": [
           {
            "colorbar": {
             "outlinewidth": 0,
             "ticks": ""
            },
            "colorscale": [
             [
              0,
              "#0d0887"
             ],
             [
              0.1111111111111111,
              "#46039f"
             ],
             [
              0.2222222222222222,
              "#7201a8"
             ],
             [
              0.3333333333333333,
              "#9c179e"
             ],
             [
              0.4444444444444444,
              "#bd3786"
             ],
             [
              0.5555555555555556,
              "#d8576b"
             ],
             [
              0.6666666666666666,
              "#ed7953"
             ],
             [
              0.7777777777777778,
              "#fb9f3a"
             ],
             [
              0.8888888888888888,
              "#fdca26"
             ],
             [
              1,
              "#f0f921"
             ]
            ],
            "type": "histogram2dcontour"
           }
          ],
          "mesh3d": [
           {
            "colorbar": {
             "outlinewidth": 0,
             "ticks": ""
            },
            "type": "mesh3d"
           }
          ],
          "parcoords": [
           {
            "line": {
             "colorbar": {
              "outlinewidth": 0,
              "ticks": ""
             }
            },
            "type": "parcoords"
           }
          ],
          "pie": [
           {
            "automargin": true,
            "type": "pie"
           }
          ],
          "scatter": [
           {
            "fillpattern": {
             "fillmode": "overlay",
             "size": 10,
             "solidity": 0.2
            },
            "type": "scatter"
           }
          ],
          "scatter3d": [
           {
            "line": {
             "colorbar": {
              "outlinewidth": 0,
              "ticks": ""
             }
            },
            "marker": {
             "colorbar": {
              "outlinewidth": 0,
              "ticks": ""
             }
            },
            "type": "scatter3d"
           }
          ],
          "scattercarpet": [
           {
            "marker": {
             "colorbar": {
              "outlinewidth": 0,
              "ticks": ""
             }
            },
            "type": "scattercarpet"
           }
          ],
          "scattergeo": [
           {
            "marker": {
             "colorbar": {
              "outlinewidth": 0,
              "ticks": ""
             }
            },
            "type": "scattergeo"
           }
          ],
          "scattergl": [
           {
            "marker": {
             "colorbar": {
              "outlinewidth": 0,
              "ticks": ""
             }
            },
            "type": "scattergl"
           }
          ],
          "scattermap": [
           {
            "marker": {
             "colorbar": {
              "outlinewidth": 0,
              "ticks": ""
             }
            },
            "type": "scattermap"
           }
          ],
          "scattermapbox": [
           {
            "marker": {
             "colorbar": {
              "outlinewidth": 0,
              "ticks": ""
             }
            },
            "type": "scattermapbox"
           }
          ],
          "scatterpolar": [
           {
            "marker": {
             "colorbar": {
              "outlinewidth": 0,
              "ticks": ""
             }
            },
            "type": "scatterpolar"
           }
          ],
          "scatterpolargl": [
           {
            "marker": {
             "colorbar": {
              "outlinewidth": 0,
              "ticks": ""
             }
            },
            "type": "scatterpolargl"
           }
          ],
          "scatterternary": [
           {
            "marker": {
             "colorbar": {
              "outlinewidth": 0,
              "ticks": ""
             }
            },
            "type": "scatterternary"
           }
          ],
          "surface": [
           {
            "colorbar": {
             "outlinewidth": 0,
             "ticks": ""
            },
            "colorscale": [
             [
              0,
              "#0d0887"
             ],
             [
              0.1111111111111111,
              "#46039f"
             ],
             [
              0.2222222222222222,
              "#7201a8"
             ],
             [
              0.3333333333333333,
              "#9c179e"
             ],
             [
              0.4444444444444444,
              "#bd3786"
             ],
             [
              0.5555555555555556,
              "#d8576b"
             ],
             [
              0.6666666666666666,
              "#ed7953"
             ],
             [
              0.7777777777777778,
              "#fb9f3a"
             ],
             [
              0.8888888888888888,
              "#fdca26"
             ],
             [
              1,
              "#f0f921"
             ]
            ],
            "type": "surface"
           }
          ],
          "table": [
           {
            "cells": {
             "fill": {
              "color": "#EBF0F8"
             },
             "line": {
              "color": "white"
             }
            },
            "header": {
             "fill": {
              "color": "#C8D4E3"
             },
             "line": {
              "color": "white"
             }
            },
            "type": "table"
           }
          ]
         },
         "layout": {
          "annotationdefaults": {
           "arrowcolor": "#2a3f5f",
           "arrowhead": 0,
           "arrowwidth": 1
          },
          "autotypenumbers": "strict",
          "coloraxis": {
           "colorbar": {
            "outlinewidth": 0,
            "ticks": ""
           }
          },
          "colorscale": {
           "diverging": [
            [
             0,
             "#8e0152"
            ],
            [
             0.1,
             "#c51b7d"
            ],
            [
             0.2,
             "#de77ae"
            ],
            [
             0.3,
             "#f1b6da"
            ],
            [
             0.4,
             "#fde0ef"
            ],
            [
             0.5,
             "#f7f7f7"
            ],
            [
             0.6,
             "#e6f5d0"
            ],
            [
             0.7,
             "#b8e186"
            ],
            [
             0.8,
             "#7fbc41"
            ],
            [
             0.9,
             "#4d9221"
            ],
            [
             1,
             "#276419"
            ]
           ],
           "sequential": [
            [
             0,
             "#0d0887"
            ],
            [
             0.1111111111111111,
             "#46039f"
            ],
            [
             0.2222222222222222,
             "#7201a8"
            ],
            [
             0.3333333333333333,
             "#9c179e"
            ],
            [
             0.4444444444444444,
             "#bd3786"
            ],
            [
             0.5555555555555556,
             "#d8576b"
            ],
            [
             0.6666666666666666,
             "#ed7953"
            ],
            [
             0.7777777777777778,
             "#fb9f3a"
            ],
            [
             0.8888888888888888,
             "#fdca26"
            ],
            [
             1,
             "#f0f921"
            ]
           ],
           "sequentialminus": [
            [
             0,
             "#0d0887"
            ],
            [
             0.1111111111111111,
             "#46039f"
            ],
            [
             0.2222222222222222,
             "#7201a8"
            ],
            [
             0.3333333333333333,
             "#9c179e"
            ],
            [
             0.4444444444444444,
             "#bd3786"
            ],
            [
             0.5555555555555556,
             "#d8576b"
            ],
            [
             0.6666666666666666,
             "#ed7953"
            ],
            [
             0.7777777777777778,
             "#fb9f3a"
            ],
            [
             0.8888888888888888,
             "#fdca26"
            ],
            [
             1,
             "#f0f921"
            ]
           ]
          },
          "colorway": [
           "#636efa",
           "#EF553B",
           "#00cc96",
           "#ab63fa",
           "#FFA15A",
           "#19d3f3",
           "#FF6692",
           "#B6E880",
           "#FF97FF",
           "#FECB52"
          ],
          "font": {
           "color": "#2a3f5f"
          },
          "geo": {
           "bgcolor": "white",
           "lakecolor": "white",
           "landcolor": "#E5ECF6",
           "showlakes": true,
           "showland": true,
           "subunitcolor": "white"
          },
          "hoverlabel": {
           "align": "left"
          },
          "hovermode": "closest",
          "mapbox": {
           "style": "light"
          },
          "paper_bgcolor": "white",
          "plot_bgcolor": "#E5ECF6",
          "polar": {
           "angularaxis": {
            "gridcolor": "white",
            "linecolor": "white",
            "ticks": ""
           },
           "bgcolor": "#E5ECF6",
           "radialaxis": {
            "gridcolor": "white",
            "linecolor": "white",
            "ticks": ""
           }
          },
          "scene": {
           "xaxis": {
            "backgroundcolor": "#E5ECF6",
            "gridcolor": "white",
            "gridwidth": 2,
            "linecolor": "white",
            "showbackground": true,
            "ticks": "",
            "zerolinecolor": "white"
           },
           "yaxis": {
            "backgroundcolor": "#E5ECF6",
            "gridcolor": "white",
            "gridwidth": 2,
            "linecolor": "white",
            "showbackground": true,
            "ticks": "",
            "zerolinecolor": "white"
           },
           "zaxis": {
            "backgroundcolor": "#E5ECF6",
            "gridcolor": "white",
            "gridwidth": 2,
            "linecolor": "white",
            "showbackground": true,
            "ticks": "",
            "zerolinecolor": "white"
           }
          },
          "shapedefaults": {
           "line": {
            "color": "#2a3f5f"
           }
          },
          "ternary": {
           "aaxis": {
            "gridcolor": "white",
            "linecolor": "white",
            "ticks": ""
           },
           "baxis": {
            "gridcolor": "white",
            "linecolor": "white",
            "ticks": ""
           },
           "bgcolor": "#E5ECF6",
           "caxis": {
            "gridcolor": "white",
            "linecolor": "white",
            "ticks": ""
           }
          },
          "title": {
           "x": 0.05
          },
          "xaxis": {
           "automargin": true,
           "gridcolor": "white",
           "linecolor": "white",
           "ticks": "",
           "title": {
            "standoff": 15
           },
           "zerolinecolor": "white",
           "zerolinewidth": 2
          },
          "yaxis": {
           "automargin": true,
           "gridcolor": "white",
           "linecolor": "white",
           "ticks": "",
           "title": {
            "standoff": 15
           },
           "zerolinecolor": "white",
           "zerolinewidth": 2
          }
         }
        },
        "title": {
         "text": "Annual Population Growth Rate (Pakistan vs UAE)"
        },
        "xaxis": {
         "anchor": "y",
         "domain": [
          0,
          1
         ],
         "title": {
          "text": "Year"
         }
        },
        "yaxis": {
         "anchor": "x",
         "domain": [
          0,
          1
         ],
         "title": {
          "text": "Growth Rate (%)"
         }
        }
       }
      }
     },
     "metadata": {},
     "output_type": "display_data"
    }
   ],
   "source": [
    "df[\"Growth_Rate\"] = df.groupby([\"Country\", \"Element\"])[\"Value\"].pct_change() * 100\n",
    "\n",
    "fig = px.line(df, x=\"Year\", y=\"Growth_Rate\", color=\"Element\",\n",
    "              line_dash=\"Country\", markers=True,\n",
    "              title=\"Annual Population Growth Rate (Pakistan vs UAE)\",\n",
    "              labels={\"Growth_Rate\": \"Growth Rate (%)\", \"Year\": \"Year\"})\n",
    "\n",
    "fig.show()\n"
   ]
  },
  {
   "cell_type": "markdown",
   "id": "5f070694-b0bc-4315-9300-712544fecc90",
   "metadata": {},
   "source": [
    "---"
   ]
  },
  {
   "cell_type": "markdown",
   "id": "ef5d8af3-5ba4-420f-8974-73a597adc618",
   "metadata": {},
   "source": [
    "## ii- Inputs - Fertilizers consumption in nutrients. "
   ]
  },
  {
   "cell_type": "code",
   "execution_count": 12,
   "id": "d7cec6ec-3390-4655-82e1-8f72ca5c9a7d",
   "metadata": {},
   "outputs": [],
   "source": [
    "#load dataset\n",
    "uae_data = pd.read_csv(r\"F:\\Courses-Learning\\Codanics-Data Science\\datasets_practice\\uae_fertilizers_FAOSTAT_data_en_2-25-2025.csv\")\n",
    "pak_data = pd.read_csv(r\"F:\\Courses-Learning\\Codanics-Data Science\\datasets_practice\\pak_fertilizers_FAOSTAT_data_en_2-25-2025.csv\")"
   ]
  },
  {
   "cell_type": "code",
   "execution_count": 13,
   "id": "7593b432-07ec-4d2f-b19d-1623f55b5a1a",
   "metadata": {},
   "outputs": [
    {
     "name": "stdout",
     "output_type": "stream",
     "text": [
      "UAE Data Preview:\n"
     ]
    },
    {
     "data": {
      "application/vnd.microsoft.datawrangler.viewer.v0+json": {
       "columns": [
        {
         "name": "index",
         "rawType": "int64",
         "type": "integer"
        },
        {
         "name": "Domain Code",
         "rawType": "object",
         "type": "string"
        },
        {
         "name": "Domain",
         "rawType": "object",
         "type": "string"
        },
        {
         "name": "Area Code",
         "rawType": "int64",
         "type": "integer"
        },
        {
         "name": "Area",
         "rawType": "object",
         "type": "string"
        },
        {
         "name": "Element Code",
         "rawType": "int64",
         "type": "integer"
        },
        {
         "name": "Element",
         "rawType": "object",
         "type": "string"
        },
        {
         "name": "Item Code",
         "rawType": "int64",
         "type": "integer"
        },
        {
         "name": "Item",
         "rawType": "object",
         "type": "string"
        },
        {
         "name": "Year Code",
         "rawType": "int64",
         "type": "integer"
        },
        {
         "name": "Year",
         "rawType": "int64",
         "type": "integer"
        },
        {
         "name": "Unit",
         "rawType": "object",
         "type": "string"
        },
        {
         "name": "Value",
         "rawType": "float64",
         "type": "float"
        },
        {
         "name": "Flag",
         "rawType": "object",
         "type": "string"
        },
        {
         "name": "Flag Description",
         "rawType": "object",
         "type": "string"
        },
        {
         "name": "Note",
         "rawType": "object",
         "type": "string"
        }
       ],
       "conversionMethod": "pd.DataFrame",
       "ref": "d93f4a96-f4a6-49a3-abe5-b3519409a8e9",
       "rows": [
        [
         "0",
         "RFN",
         "Fertilizers by Nutrient",
         "225",
         "United Arab Emirates",
         "5157",
         "Agricultural Use",
         "3102",
         "Nutrient nitrogen N (total)",
         "1972",
         "1972",
         "t",
         "457.0",
         "A",
         "Official figure",
         "Official data from questionnaire"
        ],
        [
         "1",
         "RFN",
         "Fertilizers by Nutrient",
         "225",
         "United Arab Emirates",
         "5157",
         "Agricultural Use",
         "3103",
         "Nutrient phosphate P2O5 (total)",
         "1972",
         "1972",
         "t",
         "50.0",
         "A",
         "Official figure",
         "Official data from questionnaire"
        ],
        [
         "2",
         "RFN",
         "Fertilizers by Nutrient",
         "225",
         "United Arab Emirates",
         "5157",
         "Agricultural Use",
         "3104",
         "Nutrient potash K2O (total)",
         "1972",
         "1972",
         "t",
         "50.0",
         "A",
         "Official figure",
         "Official data from questionnaire"
        ],
        [
         "3",
         "RFN",
         "Fertilizers by Nutrient",
         "225",
         "United Arab Emirates",
         "5157",
         "Agricultural Use",
         "3102",
         "Nutrient nitrogen N (total)",
         "1973",
         "1973",
         "t",
         "495.0",
         "A",
         "Official figure",
         "Official data from questionnaire"
        ],
        [
         "4",
         "RFN",
         "Fertilizers by Nutrient",
         "225",
         "United Arab Emirates",
         "5157",
         "Agricultural Use",
         "3103",
         "Nutrient phosphate P2O5 (total)",
         "1973",
         "1973",
         "t",
         "27.0",
         "A",
         "Official figure",
         "Official data from questionnaire"
        ]
       ],
       "shape": {
        "columns": 15,
        "rows": 5
       }
      },
      "text/html": [
       "<div>\n",
       "<style scoped>\n",
       "    .dataframe tbody tr th:only-of-type {\n",
       "        vertical-align: middle;\n",
       "    }\n",
       "\n",
       "    .dataframe tbody tr th {\n",
       "        vertical-align: top;\n",
       "    }\n",
       "\n",
       "    .dataframe thead th {\n",
       "        text-align: right;\n",
       "    }\n",
       "</style>\n",
       "<table border=\"1\" class=\"dataframe\">\n",
       "  <thead>\n",
       "    <tr style=\"text-align: right;\">\n",
       "      <th></th>\n",
       "      <th>Domain Code</th>\n",
       "      <th>Domain</th>\n",
       "      <th>Area Code</th>\n",
       "      <th>Area</th>\n",
       "      <th>Element Code</th>\n",
       "      <th>Element</th>\n",
       "      <th>Item Code</th>\n",
       "      <th>Item</th>\n",
       "      <th>Year Code</th>\n",
       "      <th>Year</th>\n",
       "      <th>Unit</th>\n",
       "      <th>Value</th>\n",
       "      <th>Flag</th>\n",
       "      <th>Flag Description</th>\n",
       "      <th>Note</th>\n",
       "    </tr>\n",
       "  </thead>\n",
       "  <tbody>\n",
       "    <tr>\n",
       "      <th>0</th>\n",
       "      <td>RFN</td>\n",
       "      <td>Fertilizers by Nutrient</td>\n",
       "      <td>225</td>\n",
       "      <td>United Arab Emirates</td>\n",
       "      <td>5157</td>\n",
       "      <td>Agricultural Use</td>\n",
       "      <td>3102</td>\n",
       "      <td>Nutrient nitrogen N (total)</td>\n",
       "      <td>1972</td>\n",
       "      <td>1972</td>\n",
       "      <td>t</td>\n",
       "      <td>457.0</td>\n",
       "      <td>A</td>\n",
       "      <td>Official figure</td>\n",
       "      <td>Official data from questionnaire</td>\n",
       "    </tr>\n",
       "    <tr>\n",
       "      <th>1</th>\n",
       "      <td>RFN</td>\n",
       "      <td>Fertilizers by Nutrient</td>\n",
       "      <td>225</td>\n",
       "      <td>United Arab Emirates</td>\n",
       "      <td>5157</td>\n",
       "      <td>Agricultural Use</td>\n",
       "      <td>3103</td>\n",
       "      <td>Nutrient phosphate P2O5 (total)</td>\n",
       "      <td>1972</td>\n",
       "      <td>1972</td>\n",
       "      <td>t</td>\n",
       "      <td>50.0</td>\n",
       "      <td>A</td>\n",
       "      <td>Official figure</td>\n",
       "      <td>Official data from questionnaire</td>\n",
       "    </tr>\n",
       "    <tr>\n",
       "      <th>2</th>\n",
       "      <td>RFN</td>\n",
       "      <td>Fertilizers by Nutrient</td>\n",
       "      <td>225</td>\n",
       "      <td>United Arab Emirates</td>\n",
       "      <td>5157</td>\n",
       "      <td>Agricultural Use</td>\n",
       "      <td>3104</td>\n",
       "      <td>Nutrient potash K2O (total)</td>\n",
       "      <td>1972</td>\n",
       "      <td>1972</td>\n",
       "      <td>t</td>\n",
       "      <td>50.0</td>\n",
       "      <td>A</td>\n",
       "      <td>Official figure</td>\n",
       "      <td>Official data from questionnaire</td>\n",
       "    </tr>\n",
       "    <tr>\n",
       "      <th>3</th>\n",
       "      <td>RFN</td>\n",
       "      <td>Fertilizers by Nutrient</td>\n",
       "      <td>225</td>\n",
       "      <td>United Arab Emirates</td>\n",
       "      <td>5157</td>\n",
       "      <td>Agricultural Use</td>\n",
       "      <td>3102</td>\n",
       "      <td>Nutrient nitrogen N (total)</td>\n",
       "      <td>1973</td>\n",
       "      <td>1973</td>\n",
       "      <td>t</td>\n",
       "      <td>495.0</td>\n",
       "      <td>A</td>\n",
       "      <td>Official figure</td>\n",
       "      <td>Official data from questionnaire</td>\n",
       "    </tr>\n",
       "    <tr>\n",
       "      <th>4</th>\n",
       "      <td>RFN</td>\n",
       "      <td>Fertilizers by Nutrient</td>\n",
       "      <td>225</td>\n",
       "      <td>United Arab Emirates</td>\n",
       "      <td>5157</td>\n",
       "      <td>Agricultural Use</td>\n",
       "      <td>3103</td>\n",
       "      <td>Nutrient phosphate P2O5 (total)</td>\n",
       "      <td>1973</td>\n",
       "      <td>1973</td>\n",
       "      <td>t</td>\n",
       "      <td>27.0</td>\n",
       "      <td>A</td>\n",
       "      <td>Official figure</td>\n",
       "      <td>Official data from questionnaire</td>\n",
       "    </tr>\n",
       "  </tbody>\n",
       "</table>\n",
       "</div>"
      ],
      "text/plain": [
       "  Domain Code                   Domain  Area Code                  Area  \\\n",
       "0         RFN  Fertilizers by Nutrient        225  United Arab Emirates   \n",
       "1         RFN  Fertilizers by Nutrient        225  United Arab Emirates   \n",
       "2         RFN  Fertilizers by Nutrient        225  United Arab Emirates   \n",
       "3         RFN  Fertilizers by Nutrient        225  United Arab Emirates   \n",
       "4         RFN  Fertilizers by Nutrient        225  United Arab Emirates   \n",
       "\n",
       "   Element Code           Element  Item Code                             Item  \\\n",
       "0          5157  Agricultural Use       3102      Nutrient nitrogen N (total)   \n",
       "1          5157  Agricultural Use       3103  Nutrient phosphate P2O5 (total)   \n",
       "2          5157  Agricultural Use       3104      Nutrient potash K2O (total)   \n",
       "3          5157  Agricultural Use       3102      Nutrient nitrogen N (total)   \n",
       "4          5157  Agricultural Use       3103  Nutrient phosphate P2O5 (total)   \n",
       "\n",
       "   Year Code  Year Unit  Value Flag Flag Description  \\\n",
       "0       1972  1972    t  457.0    A  Official figure   \n",
       "1       1972  1972    t   50.0    A  Official figure   \n",
       "2       1972  1972    t   50.0    A  Official figure   \n",
       "3       1973  1973    t  495.0    A  Official figure   \n",
       "4       1973  1973    t   27.0    A  Official figure   \n",
       "\n",
       "                               Note  \n",
       "0  Official data from questionnaire  \n",
       "1  Official data from questionnaire  \n",
       "2  Official data from questionnaire  \n",
       "3  Official data from questionnaire  \n",
       "4  Official data from questionnaire  "
      ]
     },
     "metadata": {},
     "output_type": "display_data"
    },
    {
     "name": "stdout",
     "output_type": "stream",
     "text": [
      "\n",
      "Pakistan Data Preview:\n"
     ]
    },
    {
     "data": {
      "application/vnd.microsoft.datawrangler.viewer.v0+json": {
       "columns": [
        {
         "name": "index",
         "rawType": "int64",
         "type": "integer"
        },
        {
         "name": "Domain Code",
         "rawType": "object",
         "type": "string"
        },
        {
         "name": "Domain",
         "rawType": "object",
         "type": "string"
        },
        {
         "name": "Area Code",
         "rawType": "int64",
         "type": "integer"
        },
        {
         "name": "Area",
         "rawType": "object",
         "type": "string"
        },
        {
         "name": "Element Code",
         "rawType": "int64",
         "type": "integer"
        },
        {
         "name": "Element",
         "rawType": "object",
         "type": "string"
        },
        {
         "name": "Item Code",
         "rawType": "int64",
         "type": "integer"
        },
        {
         "name": "Item",
         "rawType": "object",
         "type": "string"
        },
        {
         "name": "Year Code",
         "rawType": "int64",
         "type": "integer"
        },
        {
         "name": "Year",
         "rawType": "int64",
         "type": "integer"
        },
        {
         "name": "Unit",
         "rawType": "object",
         "type": "string"
        },
        {
         "name": "Value",
         "rawType": "float64",
         "type": "float"
        },
        {
         "name": "Flag",
         "rawType": "object",
         "type": "string"
        },
        {
         "name": "Flag Description",
         "rawType": "object",
         "type": "string"
        },
        {
         "name": "Note",
         "rawType": "object",
         "type": "string"
        }
       ],
       "conversionMethod": "pd.DataFrame",
       "ref": "dea8ca0b-c31b-4203-9905-850b6d3d50ae",
       "rows": [
        [
         "0",
         "RFN",
         "Fertilizers by Nutrient",
         "165",
         "Pakistan",
         "5157",
         "Agricultural Use",
         "3102",
         "Nutrient nitrogen N (total)",
         "1961",
         "1961",
         "t",
         "41659.0",
         "A",
         "Official figure",
         "Official data from questionnaire"
        ],
        [
         "1",
         "RFN",
         "Fertilizers by Nutrient",
         "165",
         "Pakistan",
         "5157",
         "Agricultural Use",
         "3103",
         "Nutrient phosphate P2O5 (total)",
         "1961",
         "1961",
         "t",
         "500.0",
         "A",
         "Official figure",
         "Official data from questionnaire"
        ],
        [
         "2",
         "RFN",
         "Fertilizers by Nutrient",
         "165",
         "Pakistan",
         "5157",
         "Agricultural Use",
         "3102",
         "Nutrient nitrogen N (total)",
         "1962",
         "1962",
         "t",
         "41160.0",
         "A",
         "Official figure",
         "Official data from questionnaire"
        ],
        [
         "3",
         "RFN",
         "Fertilizers by Nutrient",
         "165",
         "Pakistan",
         "5157",
         "Agricultural Use",
         "3103",
         "Nutrient phosphate P2O5 (total)",
         "1962",
         "1962",
         "t",
         "210.0",
         "A",
         "Official figure",
         "Official data from questionnaire"
        ],
        [
         "4",
         "RFN",
         "Fertilizers by Nutrient",
         "165",
         "Pakistan",
         "5157",
         "Agricultural Use",
         "3102",
         "Nutrient nitrogen N (total)",
         "1963",
         "1963",
         "t",
         "67620.0",
         "A",
         "Official figure",
         "Official data from questionnaire"
        ]
       ],
       "shape": {
        "columns": 15,
        "rows": 5
       }
      },
      "text/html": [
       "<div>\n",
       "<style scoped>\n",
       "    .dataframe tbody tr th:only-of-type {\n",
       "        vertical-align: middle;\n",
       "    }\n",
       "\n",
       "    .dataframe tbody tr th {\n",
       "        vertical-align: top;\n",
       "    }\n",
       "\n",
       "    .dataframe thead th {\n",
       "        text-align: right;\n",
       "    }\n",
       "</style>\n",
       "<table border=\"1\" class=\"dataframe\">\n",
       "  <thead>\n",
       "    <tr style=\"text-align: right;\">\n",
       "      <th></th>\n",
       "      <th>Domain Code</th>\n",
       "      <th>Domain</th>\n",
       "      <th>Area Code</th>\n",
       "      <th>Area</th>\n",
       "      <th>Element Code</th>\n",
       "      <th>Element</th>\n",
       "      <th>Item Code</th>\n",
       "      <th>Item</th>\n",
       "      <th>Year Code</th>\n",
       "      <th>Year</th>\n",
       "      <th>Unit</th>\n",
       "      <th>Value</th>\n",
       "      <th>Flag</th>\n",
       "      <th>Flag Description</th>\n",
       "      <th>Note</th>\n",
       "    </tr>\n",
       "  </thead>\n",
       "  <tbody>\n",
       "    <tr>\n",
       "      <th>0</th>\n",
       "      <td>RFN</td>\n",
       "      <td>Fertilizers by Nutrient</td>\n",
       "      <td>165</td>\n",
       "      <td>Pakistan</td>\n",
       "      <td>5157</td>\n",
       "      <td>Agricultural Use</td>\n",
       "      <td>3102</td>\n",
       "      <td>Nutrient nitrogen N (total)</td>\n",
       "      <td>1961</td>\n",
       "      <td>1961</td>\n",
       "      <td>t</td>\n",
       "      <td>41659.0</td>\n",
       "      <td>A</td>\n",
       "      <td>Official figure</td>\n",
       "      <td>Official data from questionnaire</td>\n",
       "    </tr>\n",
       "    <tr>\n",
       "      <th>1</th>\n",
       "      <td>RFN</td>\n",
       "      <td>Fertilizers by Nutrient</td>\n",
       "      <td>165</td>\n",
       "      <td>Pakistan</td>\n",
       "      <td>5157</td>\n",
       "      <td>Agricultural Use</td>\n",
       "      <td>3103</td>\n",
       "      <td>Nutrient phosphate P2O5 (total)</td>\n",
       "      <td>1961</td>\n",
       "      <td>1961</td>\n",
       "      <td>t</td>\n",
       "      <td>500.0</td>\n",
       "      <td>A</td>\n",
       "      <td>Official figure</td>\n",
       "      <td>Official data from questionnaire</td>\n",
       "    </tr>\n",
       "    <tr>\n",
       "      <th>2</th>\n",
       "      <td>RFN</td>\n",
       "      <td>Fertilizers by Nutrient</td>\n",
       "      <td>165</td>\n",
       "      <td>Pakistan</td>\n",
       "      <td>5157</td>\n",
       "      <td>Agricultural Use</td>\n",
       "      <td>3102</td>\n",
       "      <td>Nutrient nitrogen N (total)</td>\n",
       "      <td>1962</td>\n",
       "      <td>1962</td>\n",
       "      <td>t</td>\n",
       "      <td>41160.0</td>\n",
       "      <td>A</td>\n",
       "      <td>Official figure</td>\n",
       "      <td>Official data from questionnaire</td>\n",
       "    </tr>\n",
       "    <tr>\n",
       "      <th>3</th>\n",
       "      <td>RFN</td>\n",
       "      <td>Fertilizers by Nutrient</td>\n",
       "      <td>165</td>\n",
       "      <td>Pakistan</td>\n",
       "      <td>5157</td>\n",
       "      <td>Agricultural Use</td>\n",
       "      <td>3103</td>\n",
       "      <td>Nutrient phosphate P2O5 (total)</td>\n",
       "      <td>1962</td>\n",
       "      <td>1962</td>\n",
       "      <td>t</td>\n",
       "      <td>210.0</td>\n",
       "      <td>A</td>\n",
       "      <td>Official figure</td>\n",
       "      <td>Official data from questionnaire</td>\n",
       "    </tr>\n",
       "    <tr>\n",
       "      <th>4</th>\n",
       "      <td>RFN</td>\n",
       "      <td>Fertilizers by Nutrient</td>\n",
       "      <td>165</td>\n",
       "      <td>Pakistan</td>\n",
       "      <td>5157</td>\n",
       "      <td>Agricultural Use</td>\n",
       "      <td>3102</td>\n",
       "      <td>Nutrient nitrogen N (total)</td>\n",
       "      <td>1963</td>\n",
       "      <td>1963</td>\n",
       "      <td>t</td>\n",
       "      <td>67620.0</td>\n",
       "      <td>A</td>\n",
       "      <td>Official figure</td>\n",
       "      <td>Official data from questionnaire</td>\n",
       "    </tr>\n",
       "  </tbody>\n",
       "</table>\n",
       "</div>"
      ],
      "text/plain": [
       "  Domain Code                   Domain  Area Code      Area  Element Code  \\\n",
       "0         RFN  Fertilizers by Nutrient        165  Pakistan          5157   \n",
       "1         RFN  Fertilizers by Nutrient        165  Pakistan          5157   \n",
       "2         RFN  Fertilizers by Nutrient        165  Pakistan          5157   \n",
       "3         RFN  Fertilizers by Nutrient        165  Pakistan          5157   \n",
       "4         RFN  Fertilizers by Nutrient        165  Pakistan          5157   \n",
       "\n",
       "            Element  Item Code                             Item  Year Code  \\\n",
       "0  Agricultural Use       3102      Nutrient nitrogen N (total)       1961   \n",
       "1  Agricultural Use       3103  Nutrient phosphate P2O5 (total)       1961   \n",
       "2  Agricultural Use       3102      Nutrient nitrogen N (total)       1962   \n",
       "3  Agricultural Use       3103  Nutrient phosphate P2O5 (total)       1962   \n",
       "4  Agricultural Use       3102      Nutrient nitrogen N (total)       1963   \n",
       "\n",
       "   Year Unit    Value Flag Flag Description                              Note  \n",
       "0  1961    t  41659.0    A  Official figure  Official data from questionnaire  \n",
       "1  1961    t    500.0    A  Official figure  Official data from questionnaire  \n",
       "2  1962    t  41160.0    A  Official figure  Official data from questionnaire  \n",
       "3  1962    t    210.0    A  Official figure  Official data from questionnaire  \n",
       "4  1963    t  67620.0    A  Official figure  Official data from questionnaire  "
      ]
     },
     "metadata": {},
     "output_type": "display_data"
    }
   ],
   "source": [
    "#Preview the dataset\n",
    "print(\"UAE Data Preview:\")\n",
    "display(uae_data.head())\n",
    "\n",
    "print(\"\\nPakistan Data Preview:\")\n",
    "display(pak_data.head())"
   ]
  },
  {
   "cell_type": "code",
   "execution_count": 14,
   "id": "ee75ad5d-a1d7-47b2-b896-b7656ad89bb4",
   "metadata": {},
   "outputs": [
    {
     "name": "stdout",
     "output_type": "stream",
     "text": [
      "UAE Columns: Index(['Domain Code', 'Domain', 'Area Code', 'Area', 'Element Code', 'Element',\n",
      "       'Item Code', 'Item', 'Year Code', 'Year', 'Unit', 'Value', 'Flag',\n",
      "       'Flag Description', 'Note'],\n",
      "      dtype='object')\n",
      "\n",
      "Pakistan Columns: Index(['Domain Code', 'Domain', 'Area Code', 'Area', 'Element Code', 'Element',\n",
      "       'Item Code', 'Item', 'Year Code', 'Year', 'Unit', 'Value', 'Flag',\n",
      "       'Flag Description', 'Note'],\n",
      "      dtype='object')\n",
      "\n",
      "UAE Data Types:\n",
      " Domain Code          object\n",
      "Domain               object\n",
      "Area Code             int64\n",
      "Area                 object\n",
      "Element Code          int64\n",
      "Element              object\n",
      "Item Code             int64\n",
      "Item                 object\n",
      "Year Code             int64\n",
      "Year                  int64\n",
      "Unit                 object\n",
      "Value               float64\n",
      "Flag                 object\n",
      "Flag Description     object\n",
      "Note                 object\n",
      "dtype: object\n",
      "\n",
      "Pakistan Data Types:\n",
      " Domain Code          object\n",
      "Domain               object\n",
      "Area Code             int64\n",
      "Area                 object\n",
      "Element Code          int64\n",
      "Element              object\n",
      "Item Code             int64\n",
      "Item                 object\n",
      "Year Code             int64\n",
      "Year                  int64\n",
      "Unit                 object\n",
      "Value               float64\n",
      "Flag                 object\n",
      "Flag Description     object\n",
      "Note                 object\n",
      "dtype: object\n"
     ]
    }
   ],
   "source": [
    "#Check column name and data types\n",
    "print(\"UAE Columns:\", uae_data.columns)\n",
    "print(\"\\nPakistan Columns:\", pak_data.columns)\n",
    "\n",
    "print(\"\\nUAE Data Types:\\n\", uae_data.dtypes)\n",
    "print(\"\\nPakistan Data Types:\\n\", pak_data.dtypes)"
   ]
  },
  {
   "cell_type": "code",
   "execution_count": 15,
   "id": "e6844ebf-7819-4f13-9505-83fbaceaa764",
   "metadata": {},
   "outputs": [
    {
     "name": "stdout",
     "output_type": "stream",
     "text": [
      "Missing Values in UAE Data:\n",
      " Domain Code          0\n",
      "Domain               0\n",
      "Area Code            0\n",
      "Area                 0\n",
      "Element Code         0\n",
      "Element              0\n",
      "Item Code            0\n",
      "Item                 0\n",
      "Year Code            0\n",
      "Year                 0\n",
      "Unit                 0\n",
      "Value                0\n",
      "Flag                 0\n",
      "Flag Description     0\n",
      "Note                61\n",
      "dtype: int64\n",
      "\n",
      "Missing Values in Pakistan Data:\n",
      " Domain Code         0\n",
      "Domain              0\n",
      "Area Code           0\n",
      "Area                0\n",
      "Element Code        0\n",
      "Element             0\n",
      "Item Code           0\n",
      "Item                0\n",
      "Year Code           0\n",
      "Year                0\n",
      "Unit                0\n",
      "Value               0\n",
      "Flag                0\n",
      "Flag Description    0\n",
      "Note                5\n",
      "dtype: int64\n"
     ]
    }
   ],
   "source": [
    "#Check for missing values\n",
    "print(\"Missing Values in UAE Data:\\n\", uae_data.isnull().sum())\n",
    "print(\"\\nMissing Values in Pakistan Data:\\n\", pak_data.isnull().sum())"
   ]
  },
  {
   "cell_type": "code",
   "execution_count": 16,
   "id": "a7fcb4b6-6d09-4b64-b2c9-13d746a6e1cf",
   "metadata": {},
   "outputs": [
    {
     "name": "stdout",
     "output_type": "stream",
     "text": [
      "UAE Data Summary:\n"
     ]
    },
    {
     "data": {
      "application/vnd.microsoft.datawrangler.viewer.v0+json": {
       "columns": [
        {
         "name": "index",
         "rawType": "object",
         "type": "string"
        },
        {
         "name": "Area Code",
         "rawType": "float64",
         "type": "float"
        },
        {
         "name": "Element Code",
         "rawType": "float64",
         "type": "float"
        },
        {
         "name": "Item Code",
         "rawType": "float64",
         "type": "float"
        },
        {
         "name": "Year Code",
         "rawType": "float64",
         "type": "float"
        },
        {
         "name": "Year",
         "rawType": "float64",
         "type": "float"
        },
        {
         "name": "Value",
         "rawType": "float64",
         "type": "float"
        }
       ],
       "conversionMethod": "pd.DataFrame",
       "ref": "4d73cc08-8236-4925-a2c6-808375943280",
       "rows": [
        [
         "count",
         "150.0",
         "150.0",
         "150.0",
         "150.0",
         "150.0",
         "150.0"
        ],
        [
         "mean",
         "225.0",
         "5157.0",
         "3102.98",
         "1997.42",
         "1997.42",
         "6673.939666666666"
        ],
        [
         "std",
         "0.0",
         "0.0",
         "0.8148784238385403",
         "14.608662503262515",
         "14.608662503262515",
         "8779.302483735715"
        ],
        [
         "min",
         "225.0",
         "5157.0",
         "3102.0",
         "1972.0",
         "1972.0",
         "8.0"
        ],
        [
         "25%",
         "225.0",
         "5157.0",
         "3102.0",
         "1985.0",
         "1985.0",
         "985.0"
        ],
        [
         "50%",
         "225.0",
         "5157.0",
         "3103.0",
         "1997.5",
         "1997.5",
         "3350.0"
        ],
        [
         "75%",
         "225.0",
         "5157.0",
         "3104.0",
         "2010.0",
         "2010.0",
         "7050.0"
        ],
        [
         "max",
         "225.0",
         "5157.0",
         "3104.0",
         "2022.0",
         "2022.0",
         "32950.0"
        ]
       ],
       "shape": {
        "columns": 6,
        "rows": 8
       }
      },
      "text/html": [
       "<div>\n",
       "<style scoped>\n",
       "    .dataframe tbody tr th:only-of-type {\n",
       "        vertical-align: middle;\n",
       "    }\n",
       "\n",
       "    .dataframe tbody tr th {\n",
       "        vertical-align: top;\n",
       "    }\n",
       "\n",
       "    .dataframe thead th {\n",
       "        text-align: right;\n",
       "    }\n",
       "</style>\n",
       "<table border=\"1\" class=\"dataframe\">\n",
       "  <thead>\n",
       "    <tr style=\"text-align: right;\">\n",
       "      <th></th>\n",
       "      <th>Area Code</th>\n",
       "      <th>Element Code</th>\n",
       "      <th>Item Code</th>\n",
       "      <th>Year Code</th>\n",
       "      <th>Year</th>\n",
       "      <th>Value</th>\n",
       "    </tr>\n",
       "  </thead>\n",
       "  <tbody>\n",
       "    <tr>\n",
       "      <th>count</th>\n",
       "      <td>150.0</td>\n",
       "      <td>150.0</td>\n",
       "      <td>150.000000</td>\n",
       "      <td>150.000000</td>\n",
       "      <td>150.000000</td>\n",
       "      <td>150.000000</td>\n",
       "    </tr>\n",
       "    <tr>\n",
       "      <th>mean</th>\n",
       "      <td>225.0</td>\n",
       "      <td>5157.0</td>\n",
       "      <td>3102.980000</td>\n",
       "      <td>1997.420000</td>\n",
       "      <td>1997.420000</td>\n",
       "      <td>6673.939667</td>\n",
       "    </tr>\n",
       "    <tr>\n",
       "      <th>std</th>\n",
       "      <td>0.0</td>\n",
       "      <td>0.0</td>\n",
       "      <td>0.814878</td>\n",
       "      <td>14.608663</td>\n",
       "      <td>14.608663</td>\n",
       "      <td>8779.302484</td>\n",
       "    </tr>\n",
       "    <tr>\n",
       "      <th>min</th>\n",
       "      <td>225.0</td>\n",
       "      <td>5157.0</td>\n",
       "      <td>3102.000000</td>\n",
       "      <td>1972.000000</td>\n",
       "      <td>1972.000000</td>\n",
       "      <td>8.000000</td>\n",
       "    </tr>\n",
       "    <tr>\n",
       "      <th>25%</th>\n",
       "      <td>225.0</td>\n",
       "      <td>5157.0</td>\n",
       "      <td>3102.000000</td>\n",
       "      <td>1985.000000</td>\n",
       "      <td>1985.000000</td>\n",
       "      <td>985.000000</td>\n",
       "    </tr>\n",
       "    <tr>\n",
       "      <th>50%</th>\n",
       "      <td>225.0</td>\n",
       "      <td>5157.0</td>\n",
       "      <td>3103.000000</td>\n",
       "      <td>1997.500000</td>\n",
       "      <td>1997.500000</td>\n",
       "      <td>3350.000000</td>\n",
       "    </tr>\n",
       "    <tr>\n",
       "      <th>75%</th>\n",
       "      <td>225.0</td>\n",
       "      <td>5157.0</td>\n",
       "      <td>3104.000000</td>\n",
       "      <td>2010.000000</td>\n",
       "      <td>2010.000000</td>\n",
       "      <td>7050.000000</td>\n",
       "    </tr>\n",
       "    <tr>\n",
       "      <th>max</th>\n",
       "      <td>225.0</td>\n",
       "      <td>5157.0</td>\n",
       "      <td>3104.000000</td>\n",
       "      <td>2022.000000</td>\n",
       "      <td>2022.000000</td>\n",
       "      <td>32950.000000</td>\n",
       "    </tr>\n",
       "  </tbody>\n",
       "</table>\n",
       "</div>"
      ],
      "text/plain": [
       "       Area Code  Element Code    Item Code    Year Code         Year  \\\n",
       "count      150.0         150.0   150.000000   150.000000   150.000000   \n",
       "mean       225.0        5157.0  3102.980000  1997.420000  1997.420000   \n",
       "std          0.0           0.0     0.814878    14.608663    14.608663   \n",
       "min        225.0        5157.0  3102.000000  1972.000000  1972.000000   \n",
       "25%        225.0        5157.0  3102.000000  1985.000000  1985.000000   \n",
       "50%        225.0        5157.0  3103.000000  1997.500000  1997.500000   \n",
       "75%        225.0        5157.0  3104.000000  2010.000000  2010.000000   \n",
       "max        225.0        5157.0  3104.000000  2022.000000  2022.000000   \n",
       "\n",
       "              Value  \n",
       "count    150.000000  \n",
       "mean    6673.939667  \n",
       "std     8779.302484  \n",
       "min        8.000000  \n",
       "25%      985.000000  \n",
       "50%     3350.000000  \n",
       "75%     7050.000000  \n",
       "max    32950.000000  "
      ]
     },
     "metadata": {},
     "output_type": "display_data"
    },
    {
     "name": "stdout",
     "output_type": "stream",
     "text": [
      "\n",
      "Pakistan Data Summary:\n"
     ]
    },
    {
     "data": {
      "application/vnd.microsoft.datawrangler.viewer.v0+json": {
       "columns": [
        {
         "name": "index",
         "rawType": "object",
         "type": "string"
        },
        {
         "name": "Area Code",
         "rawType": "float64",
         "type": "float"
        },
        {
         "name": "Element Code",
         "rawType": "float64",
         "type": "float"
        },
        {
         "name": "Item Code",
         "rawType": "float64",
         "type": "float"
        },
        {
         "name": "Year Code",
         "rawType": "float64",
         "type": "float"
        },
        {
         "name": "Year",
         "rawType": "float64",
         "type": "float"
        },
        {
         "name": "Value",
         "rawType": "float64",
         "type": "float"
        }
       ],
       "conversionMethod": "pd.DataFrame",
       "ref": "eff52b05-5a36-47fb-b86e-21c4bc9780c8",
       "rows": [
        [
         "count",
         "181.0",
         "181.0",
         "181.0",
         "181.0",
         "181.0",
         "181.0"
        ],
        [
         "mean",
         "165.0",
         "5157.0",
         "3102.972375690608",
         "1992.2872928176796",
         "1992.2872928176796",
         "749452.8391160221"
        ],
        [
         "std",
         "0.0",
         "0.0",
         "0.8126153882271416",
         "17.540914199772526",
         "17.540914199772526",
         "1022992.5821123172"
        ],
        [
         "min",
         "165.0",
         "5157.0",
         "3102.0",
         "1961.0",
         "1961.0",
         "144.0"
        ],
        [
         "25%",
         "165.0",
         "5157.0",
         "3102.0",
         "1977.0",
         "1977.0",
         "28581.0"
        ],
        [
         "50%",
         "165.0",
         "5157.0",
         "3103.0",
         "1992.0",
         "1992.0",
         "293829.0"
        ],
        [
         "75%",
         "165.0",
         "5157.0",
         "3104.0",
         "2007.0",
         "2007.0",
         "954083.0"
        ],
        [
         "max",
         "165.0",
         "5157.0",
         "3104.0",
         "2022.0",
         "2022.0",
         "3714997.36"
        ]
       ],
       "shape": {
        "columns": 6,
        "rows": 8
       }
      },
      "text/html": [
       "<div>\n",
       "<style scoped>\n",
       "    .dataframe tbody tr th:only-of-type {\n",
       "        vertical-align: middle;\n",
       "    }\n",
       "\n",
       "    .dataframe tbody tr th {\n",
       "        vertical-align: top;\n",
       "    }\n",
       "\n",
       "    .dataframe thead th {\n",
       "        text-align: right;\n",
       "    }\n",
       "</style>\n",
       "<table border=\"1\" class=\"dataframe\">\n",
       "  <thead>\n",
       "    <tr style=\"text-align: right;\">\n",
       "      <th></th>\n",
       "      <th>Area Code</th>\n",
       "      <th>Element Code</th>\n",
       "      <th>Item Code</th>\n",
       "      <th>Year Code</th>\n",
       "      <th>Year</th>\n",
       "      <th>Value</th>\n",
       "    </tr>\n",
       "  </thead>\n",
       "  <tbody>\n",
       "    <tr>\n",
       "      <th>count</th>\n",
       "      <td>181.0</td>\n",
       "      <td>181.0</td>\n",
       "      <td>181.000000</td>\n",
       "      <td>181.000000</td>\n",
       "      <td>181.000000</td>\n",
       "      <td>1.810000e+02</td>\n",
       "    </tr>\n",
       "    <tr>\n",
       "      <th>mean</th>\n",
       "      <td>165.0</td>\n",
       "      <td>5157.0</td>\n",
       "      <td>3102.972376</td>\n",
       "      <td>1992.287293</td>\n",
       "      <td>1992.287293</td>\n",
       "      <td>7.494528e+05</td>\n",
       "    </tr>\n",
       "    <tr>\n",
       "      <th>std</th>\n",
       "      <td>0.0</td>\n",
       "      <td>0.0</td>\n",
       "      <td>0.812615</td>\n",
       "      <td>17.540914</td>\n",
       "      <td>17.540914</td>\n",
       "      <td>1.022993e+06</td>\n",
       "    </tr>\n",
       "    <tr>\n",
       "      <th>min</th>\n",
       "      <td>165.0</td>\n",
       "      <td>5157.0</td>\n",
       "      <td>3102.000000</td>\n",
       "      <td>1961.000000</td>\n",
       "      <td>1961.000000</td>\n",
       "      <td>1.440000e+02</td>\n",
       "    </tr>\n",
       "    <tr>\n",
       "      <th>25%</th>\n",
       "      <td>165.0</td>\n",
       "      <td>5157.0</td>\n",
       "      <td>3102.000000</td>\n",
       "      <td>1977.000000</td>\n",
       "      <td>1977.000000</td>\n",
       "      <td>2.858100e+04</td>\n",
       "    </tr>\n",
       "    <tr>\n",
       "      <th>50%</th>\n",
       "      <td>165.0</td>\n",
       "      <td>5157.0</td>\n",
       "      <td>3103.000000</td>\n",
       "      <td>1992.000000</td>\n",
       "      <td>1992.000000</td>\n",
       "      <td>2.938290e+05</td>\n",
       "    </tr>\n",
       "    <tr>\n",
       "      <th>75%</th>\n",
       "      <td>165.0</td>\n",
       "      <td>5157.0</td>\n",
       "      <td>3104.000000</td>\n",
       "      <td>2007.000000</td>\n",
       "      <td>2007.000000</td>\n",
       "      <td>9.540830e+05</td>\n",
       "    </tr>\n",
       "    <tr>\n",
       "      <th>max</th>\n",
       "      <td>165.0</td>\n",
       "      <td>5157.0</td>\n",
       "      <td>3104.000000</td>\n",
       "      <td>2022.000000</td>\n",
       "      <td>2022.000000</td>\n",
       "      <td>3.714997e+06</td>\n",
       "    </tr>\n",
       "  </tbody>\n",
       "</table>\n",
       "</div>"
      ],
      "text/plain": [
       "       Area Code  Element Code    Item Code    Year Code         Year  \\\n",
       "count      181.0         181.0   181.000000   181.000000   181.000000   \n",
       "mean       165.0        5157.0  3102.972376  1992.287293  1992.287293   \n",
       "std          0.0           0.0     0.812615    17.540914    17.540914   \n",
       "min        165.0        5157.0  3102.000000  1961.000000  1961.000000   \n",
       "25%        165.0        5157.0  3102.000000  1977.000000  1977.000000   \n",
       "50%        165.0        5157.0  3103.000000  1992.000000  1992.000000   \n",
       "75%        165.0        5157.0  3104.000000  2007.000000  2007.000000   \n",
       "max        165.0        5157.0  3104.000000  2022.000000  2022.000000   \n",
       "\n",
       "              Value  \n",
       "count  1.810000e+02  \n",
       "mean   7.494528e+05  \n",
       "std    1.022993e+06  \n",
       "min    1.440000e+02  \n",
       "25%    2.858100e+04  \n",
       "50%    2.938290e+05  \n",
       "75%    9.540830e+05  \n",
       "max    3.714997e+06  "
      ]
     },
     "metadata": {},
     "output_type": "display_data"
    }
   ],
   "source": [
    "#Summary Statistics\n",
    "print(\"UAE Data Summary:\")\n",
    "display(uae_data.describe())\n",
    "\n",
    "print(\"\\nPakistan Data Summary:\")\n",
    "display(pak_data.describe())"
   ]
  },
  {
   "cell_type": "markdown",
   "id": "20b9a266-ef40-48c9-b7b1-69fdea56a8c3",
   "metadata": {},
   "source": [
    "## Combining datasets"
   ]
  },
  {
   "cell_type": "code",
   "execution_count": 17,
   "id": "848d783e-4d24-4331-8581-d120b1b14c3e",
   "metadata": {},
   "outputs": [],
   "source": [
    "# Combine datasets for comparison\n",
    "pak_data[\"Country\"] = \"Pakistan\"\n",
    "uae_data[\"Country\"] = \"UAE\"\n",
    "df = pd.concat([pak_data, uae_data])"
   ]
  },
  {
   "cell_type": "markdown",
   "id": "0590d46f-a998-4c01-a6c0-3f80b299d7b9",
   "metadata": {},
   "source": [
    "### 1-Interactive Bar Chart – Fertilizer Consumption"
   ]
  },
  {
   "cell_type": "code",
   "execution_count": 18,
   "id": "dfc8a4cd-4416-4bd8-8950-d20291ca6c7b",
   "metadata": {},
   "outputs": [
    {
     "data": {
      "application/vnd.plotly.v1+json": {
       "config": {
        "plotlyServerURL": "https://plot.ly"
       },
       "data": [
        {
         "alignmentgroup": "True",
         "hovertemplate": "Country=Pakistan<br>Year=%{x}<br>Fertilizer Use (Tonnes)=%{y}<extra></extra>",
         "legendgroup": "Pakistan",
         "marker": {
          "color": "#636efa",
          "pattern": {
           "shape": ""
          }
         },
         "name": "Pakistan",
         "offsetgroup": "Pakistan",
         "orientation": "v",
         "showlegend": true,
         "textposition": "auto",
         "type": "bar",
         "x": {
          "bdata": "qQepB6oHqgerB6sHrAesB60HrQeuB64HrgevB68HrwewB7AHsAexB7EHsQeyB7IHsgezB7MHswe0B7QHtAe1B7UHtQe2B7YHtge3B7cHtwe4B7gHuAe5B7kHuQe6B7oHuge7B7sHuwe8B7wHvAe9B70HvQe+B74Hvge/B78HvwfAB8AHwAfBB8EHwQfCB8IHwgfDB8MHwwfEB8QHxAfFB8UHxQfGB8YHxgfHB8cHxwfIB8gHyAfJB8kHyQfKB8oHygfLB8sHywfMB8wHzAfNB80HzQfOB84HzgfPB88HzwfQB9AH0AfRB9EH0QfSB9IH0gfTB9MH0wfUB9QH1AfVB9UH1QfWB9YH1gfXB9cH1wfYB9gH2AfZB9kH2QfaB9oH2gfbB9sH2wfcB9wH3AfdB90H3QfeB94H3gffB98H3wfgB+AH4AfhB+EH4QfiB+IH4gfjB+MH4wfkB+QH5AflB+UH5QfmB+YH5gc=",
          "dtype": "i2"
         },
         "xaxis": "x",
         "y": {
          "bdata": "AAAAAGBX5EAAAAAAAEB/QAAAAAAAGeRAAAAAAABAakAAAAAAQILwQAAAAAAAsINAAAAAADCL9EAAAAAAABSQQAAAAACg5/BAAAAAAAB0k0AAAAAAMFD6QAAAAAAAjq5AAAAAAAAAYkAAAAAACKkFQQAAAACA9MhAAAAAAACAakAAAAAACNgIQQAAAABA3uJAAAAAAABso0AAAAAA2KIQQQAAAAAggeBAAAAAAAAAlUAAAAAA+LMOQQAAAACAv91AAAAAAAAkk0AAAAAAlP4UQQAAAADgLeJAAAAAAABAh0AAAAAA2JIXQQAAAABAy+dAAAAAAADglUAAAAAA4N4UQQAAAABAWuxAAAAAAADcpEAAAAAAUCYWQQAAAACAiu1AAAAAAABooEAAAAAA7BAbQQAAAABAffpAAAAAAACwnUAAAAAAYDAfQQAAAADAyPxAAAAAAADAokAAAAAA6OggQQAAAACgMwNBAAAAAACotkAAAAAAGOIkQQAAAADg7wZBAAAAAACwvUAAAAAA+KwnQQAAAADwiwhBAAAAAADJwkAAAAAAbL4pQQAAAAC4pQtBAAAAAIDVwkAAAAAAeGgpQQAAAADwhgtBAAAAAABD1UAAAAAAxh0tQQAAAAAUMRBBAAAAAABd2EAAAAAAGucrQQAAAADA6A9BAAAAAEDp20AAAAAAxIQsQQAAAAAU7xFBAAAAAEAZ2EAAAAAAyjYxQQAAAABAWRVBAAAAAKA24EAAAAAAWlU0QQAAAABYAhlBAAAAAADw5EAAAAAApI4zQQAAAADgAhhBAAAAAIAF5kAAAAAApTU0QQAAAAAY1BdBAAAAAED110AAAAAAxmQ2QQAAAADkVxdBAAAAAMCR40AAAAAAmnQ2QQAAAABQthdBAAAAAED930AAAAAATlI2QQAAAABYShhBAAAAAEDA1kAAAAAA4/c4QQAAAACowR1BAAAAAIB/10AAAAAA1lE5QQAAAAAIVhxBAAAAAACh1kAAAAAAhYU6QQAAAACQLRpBAAAAAMAq0EAAAAAAXmE+QQAAAADELR5BAAAAAED53EAAAAAAOEo+QQAAAABImhlBAAAAAIB0wEAAAAAAt9o/QQAAAADo0iBBAAAAAMD200AAAAAATOs/QQAAAACgYRxBAAAAAAC01EAAAAAAOuxAQQAAAACANiJBAAAAAACt0UAAAAAADEdBQQAAAAA4miRBAAAAAABE1kAAAAAAzXtBQQAAAAAolyNBAAAAAABKxUAAAAAAKjJCQQAAAACAwSNBAAAAAAAF1EAAAACA5LxCQQAAAAD2bCRBAAAAAABi10AAAAAA+5tDQQAAAACOOSdBAAAAAEDU2UAAAACAbYFFQQAAAADwlypBAAAAAKA84UAAAAAAfONFQQAAAAD6qytBAAAAAADH4UAAAACA4rREQQAAAABY5yhBAAAAAIBy5UAAAACA3FZGQQAAAABWQyFBAAAAAAAt0EAAAAAA/lVKQQAAAAC0wydBAAAAAIBFzkAAAACAwfNIQQAAAAC4FydBAAAAACBV4kAAAACARVFIQQAAAAD67iNBAAAAAEBb20AAAACA6b9FQQAAAABwtyRBAAAAAMD40kAAAACAQrdIQQAAAAB4typBAAAAAEBi00AAAACAX/NHQQAAAACokSxBAAAAAEDb3EAAAACA3RxIQQAAAAB0UC5BAAAAAMCy2EAAAACA2btIQQAAAAA5czJBAAAAAIBG3EAAAAAARUxKQQAAAAAtMTNBAAAAAKBz6kAAAAAARUxKQQAAAAAtMTNBAAAAAKBz6kAAAAAAZr5KQQAAAAC7xzBBAAAAAIAT50BmZmbm6/VKQZqZmZlbXzJB9ihcj6LF7UDhehSu2ldMQZqZmdlt8TBB9ihcj6oC80AfhetRuvlLQXsUrkditCZBAAAAAPDK3UA=",
          "dtype": "f8"
         },
         "yaxis": "y"
        },
        {
         "alignmentgroup": "True",
         "hovertemplate": "Country=UAE<br>Year=%{x}<br>Fertilizer Use (Tonnes)=%{y}<extra></extra>",
         "legendgroup": "UAE",
         "marker": {
          "color": "#EF553B",
          "pattern": {
           "shape": ""
          }
         },
         "name": "UAE",
         "offsetgroup": "UAE",
         "orientation": "v",
         "showlegend": true,
         "textposition": "auto",
         "type": "bar",
         "x": {
          "bdata": "tAe0B7QHtQe1B7UHtge2B7YHtwe3B7gHuAe5B7kHuge6B7oHuwe7B7sHvAe8B7wHvQe9B70Hvge+B74Hvwe/B78HwAfAB8AHwQfBB8EHwgfCB8IHwwfDB8MHxAfEB8QHxQfFB8UHxgfGB8YHxwfHB8cHyAfIB8gHyQfJB8kHygfKB8oHywfLB8sHzAfMB8wHzQfNB80HzgfOB84HzwfPB88H0AfQB9AH0QfRB9EH0gfSB9IH0wfTB9MH1AfUB9QH1QfVB9UH1gfWB9YH1wfXB9cH2AfYB9gH2QfZB9kH2gfaB9oH2wfbB9sH3AfcB9wH3QfdB90H3gfeB94H3wffB98H4AfgB+AH4QfhB+EH4gfiB+IH4wfjB+MH5AfkB+QH5QflB+UH5gfmB+YH",
          "dtype": "i2"
         },
         "xaxis": "x",
         "y": {
          "bdata": "AAAAAACQfEAAAAAAAABJQAAAAAAAAElAAAAAAADwfkAAAAAAAAA7QAAAAAAAACBAAAAAAADwg0AAAAAAAIBPQAAAAAAAADJAAAAAAAAAiUAAAAAAAABZQAAAAAAAQI9AAAAAAAAAWUAAAAAAAEB/QAAAAAAAAHlAAAAAAADQhkAAAAAAAFB9QAAAAAAAsHNAAAAAAABooEAAAAAAAACJQAAAAAAAwIJAAAAAAACqoUAAAAAAANiDQAAAAAAAwGNAAAAAAABookAAAAAAAFCOQAAAAAAAkHRAAAAAAAAOo0AAAAAAAFCOQAAAAAAAAHlAAAAAAABipEAAAAAAAJCIQAAAAAAAwJJAAAAAAABwn0AAAAAAAEB/QAAAAAAA4GtAAAAAAACipUAAAAAAAACJQAAAAAAAwGNAAAAAAACgjkAAAAAAAIB2QAAAAAAAAFlAAAAAAACQn0AAAAAAAECPQAAAAAAAAFlAAAAAAABAn0AAAAAAAACZQAAAAAAAIJxAAAAAAACMvkAAAAAAAACZQAAAAAAAGKVAAAAAAAD4wUAAAAAAAMCSQAAAAAAAaKBAAAAAAACty0AAAAAAAFCUQAAAAAAAQJ9AAAAAAACO0kAAAAAAAFCUQAAAAAAAQJ9AAAAAAACI00AAAAAAAFyyQAAAAAAAcKdAAAAAAAB21kAAAAAAAJCqQAAAAAAAcKdAAAAAAABq2EAAAAAAAECvQAAAAAAAcKdAAAAAAADt10AAAAAAAMipQAAAAAAAMLFAAAAAAACi10AAAAAAAOisQAAAAAAAMLFAAAAAAAAf2EAAAAAAAIizQAAAAAAARLZAAAAAAACD2EAAAAAAAIizQAAAAAAA1LdAAAAAAAA+10AAAAAAAIizQAAAAAAAnLhAAAAAAADz1kAAAAAAAIizQAAAAAAAZLlAAAAAAABj30AAAAAAABq4QAAAAAAAocNAAAAAAABj30AAAAAAABq4QAAAAAAAocNAAAAAAABj30AAAAAAABq4QAAAAAAAocNAAAAAAABj30AAAAAAABq4QAAAAAAAirtAAAAAAACH3kAAAAAAAIyuQAAAAAAAirtAAAAAAIC630AAAAAAAGCtQAAAAAAARLZAAAAAAMAW4EAAAAAAAGCtQAAAAAAAlLFAAAAAAIBL1kAAAAAAAGCtQNejcD0K/ZNAAAAAAIBw2UAAAAAAAGCtQBSuR+F6tpZAAAAAAICK2EAAAAAAAGCtQKRwPQrXhYNAAAAAAIAm00AAAAAAAGCtQDMzMzMzoYFAAAAAAIB00EAAAAAAAHywQM3MzMzMmIRApHA9CndRyEApXI/C9e+rQI/C9ShcRY1Aw/UoXC+VzUApXI/C9TawQKRwPQrXGZFApHA9CndiyEC4HoXrUfOxQIXrUbgeuZBAFK5H4XptxEB7FK5HYcyvQBSuR+F62pBAZmZmZqavwkDhehSux/+oQDMzMzMzVJBAexSuR+G2w0CuR+F6FBetQB+F61G4+ZBAexSuR6F9x0AUrkfh+r2vQClcj8L1FJJAMzMzM9M6xkApXI/C9cisQGZmZmZm65VAMzMzM9M6xkApXI/C9cisQGZmZmZm65VA",
          "dtype": "f8"
         },
         "yaxis": "y"
        }
       ],
       "layout": {
        "barmode": "group",
        "legend": {
         "title": {
          "text": "Country"
         },
         "tracegroupgap": 0
        },
        "template": {
         "data": {
          "bar": [
           {
            "error_x": {
             "color": "#2a3f5f"
            },
            "error_y": {
             "color": "#2a3f5f"
            },
            "marker": {
             "line": {
              "color": "#E5ECF6",
              "width": 0.5
             },
             "pattern": {
              "fillmode": "overlay",
              "size": 10,
              "solidity": 0.2
             }
            },
            "type": "bar"
           }
          ],
          "barpolar": [
           {
            "marker": {
             "line": {
              "color": "#E5ECF6",
              "width": 0.5
             },
             "pattern": {
              "fillmode": "overlay",
              "size": 10,
              "solidity": 0.2
             }
            },
            "type": "barpolar"
           }
          ],
          "carpet": [
           {
            "aaxis": {
             "endlinecolor": "#2a3f5f",
             "gridcolor": "white",
             "linecolor": "white",
             "minorgridcolor": "white",
             "startlinecolor": "#2a3f5f"
            },
            "baxis": {
             "endlinecolor": "#2a3f5f",
             "gridcolor": "white",
             "linecolor": "white",
             "minorgridcolor": "white",
             "startlinecolor": "#2a3f5f"
            },
            "type": "carpet"
           }
          ],
          "choropleth": [
           {
            "colorbar": {
             "outlinewidth": 0,
             "ticks": ""
            },
            "type": "choropleth"
           }
          ],
          "contour": [
           {
            "colorbar": {
             "outlinewidth": 0,
             "ticks": ""
            },
            "colorscale": [
             [
              0,
              "#0d0887"
             ],
             [
              0.1111111111111111,
              "#46039f"
             ],
             [
              0.2222222222222222,
              "#7201a8"
             ],
             [
              0.3333333333333333,
              "#9c179e"
             ],
             [
              0.4444444444444444,
              "#bd3786"
             ],
             [
              0.5555555555555556,
              "#d8576b"
             ],
             [
              0.6666666666666666,
              "#ed7953"
             ],
             [
              0.7777777777777778,
              "#fb9f3a"
             ],
             [
              0.8888888888888888,
              "#fdca26"
             ],
             [
              1,
              "#f0f921"
             ]
            ],
            "type": "contour"
           }
          ],
          "contourcarpet": [
           {
            "colorbar": {
             "outlinewidth": 0,
             "ticks": ""
            },
            "type": "contourcarpet"
           }
          ],
          "heatmap": [
           {
            "colorbar": {
             "outlinewidth": 0,
             "ticks": ""
            },
            "colorscale": [
             [
              0,
              "#0d0887"
             ],
             [
              0.1111111111111111,
              "#46039f"
             ],
             [
              0.2222222222222222,
              "#7201a8"
             ],
             [
              0.3333333333333333,
              "#9c179e"
             ],
             [
              0.4444444444444444,
              "#bd3786"
             ],
             [
              0.5555555555555556,
              "#d8576b"
             ],
             [
              0.6666666666666666,
              "#ed7953"
             ],
             [
              0.7777777777777778,
              "#fb9f3a"
             ],
             [
              0.8888888888888888,
              "#fdca26"
             ],
             [
              1,
              "#f0f921"
             ]
            ],
            "type": "heatmap"
           }
          ],
          "histogram": [
           {
            "marker": {
             "pattern": {
              "fillmode": "overlay",
              "size": 10,
              "solidity": 0.2
             }
            },
            "type": "histogram"
           }
          ],
          "histogram2d": [
           {
            "colorbar": {
             "outlinewidth": 0,
             "ticks": ""
            },
            "colorscale": [
             [
              0,
              "#0d0887"
             ],
             [
              0.1111111111111111,
              "#46039f"
             ],
             [
              0.2222222222222222,
              "#7201a8"
             ],
             [
              0.3333333333333333,
              "#9c179e"
             ],
             [
              0.4444444444444444,
              "#bd3786"
             ],
             [
              0.5555555555555556,
              "#d8576b"
             ],
             [
              0.6666666666666666,
              "#ed7953"
             ],
             [
              0.7777777777777778,
              "#fb9f3a"
             ],
             [
              0.8888888888888888,
              "#fdca26"
             ],
             [
              1,
              "#f0f921"
             ]
            ],
            "type": "histogram2d"
           }
          ],
          "histogram2dcontour": [
           {
            "colorbar": {
             "outlinewidth": 0,
             "ticks": ""
            },
            "colorscale": [
             [
              0,
              "#0d0887"
             ],
             [
              0.1111111111111111,
              "#46039f"
             ],
             [
              0.2222222222222222,
              "#7201a8"
             ],
             [
              0.3333333333333333,
              "#9c179e"
             ],
             [
              0.4444444444444444,
              "#bd3786"
             ],
             [
              0.5555555555555556,
              "#d8576b"
             ],
             [
              0.6666666666666666,
              "#ed7953"
             ],
             [
              0.7777777777777778,
              "#fb9f3a"
             ],
             [
              0.8888888888888888,
              "#fdca26"
             ],
             [
              1,
              "#f0f921"
             ]
            ],
            "type": "histogram2dcontour"
           }
          ],
          "mesh3d": [
           {
            "colorbar": {
             "outlinewidth": 0,
             "ticks": ""
            },
            "type": "mesh3d"
           }
          ],
          "parcoords": [
           {
            "line": {
             "colorbar": {
              "outlinewidth": 0,
              "ticks": ""
             }
            },
            "type": "parcoords"
           }
          ],
          "pie": [
           {
            "automargin": true,
            "type": "pie"
           }
          ],
          "scatter": [
           {
            "fillpattern": {
             "fillmode": "overlay",
             "size": 10,
             "solidity": 0.2
            },
            "type": "scatter"
           }
          ],
          "scatter3d": [
           {
            "line": {
             "colorbar": {
              "outlinewidth": 0,
              "ticks": ""
             }
            },
            "marker": {
             "colorbar": {
              "outlinewidth": 0,
              "ticks": ""
             }
            },
            "type": "scatter3d"
           }
          ],
          "scattercarpet": [
           {
            "marker": {
             "colorbar": {
              "outlinewidth": 0,
              "ticks": ""
             }
            },
            "type": "scattercarpet"
           }
          ],
          "scattergeo": [
           {
            "marker": {
             "colorbar": {
              "outlinewidth": 0,
              "ticks": ""
             }
            },
            "type": "scattergeo"
           }
          ],
          "scattergl": [
           {
            "marker": {
             "colorbar": {
              "outlinewidth": 0,
              "ticks": ""
             }
            },
            "type": "scattergl"
           }
          ],
          "scattermap": [
           {
            "marker": {
             "colorbar": {
              "outlinewidth": 0,
              "ticks": ""
             }
            },
            "type": "scattermap"
           }
          ],
          "scattermapbox": [
           {
            "marker": {
             "colorbar": {
              "outlinewidth": 0,
              "ticks": ""
             }
            },
            "type": "scattermapbox"
           }
          ],
          "scatterpolar": [
           {
            "marker": {
             "colorbar": {
              "outlinewidth": 0,
              "ticks": ""
             }
            },
            "type": "scatterpolar"
           }
          ],
          "scatterpolargl": [
           {
            "marker": {
             "colorbar": {
              "outlinewidth": 0,
              "ticks": ""
             }
            },
            "type": "scatterpolargl"
           }
          ],
          "scatterternary": [
           {
            "marker": {
             "colorbar": {
              "outlinewidth": 0,
              "ticks": ""
             }
            },
            "type": "scatterternary"
           }
          ],
          "surface": [
           {
            "colorbar": {
             "outlinewidth": 0,
             "ticks": ""
            },
            "colorscale": [
             [
              0,
              "#0d0887"
             ],
             [
              0.1111111111111111,
              "#46039f"
             ],
             [
              0.2222222222222222,
              "#7201a8"
             ],
             [
              0.3333333333333333,
              "#9c179e"
             ],
             [
              0.4444444444444444,
              "#bd3786"
             ],
             [
              0.5555555555555556,
              "#d8576b"
             ],
             [
              0.6666666666666666,
              "#ed7953"
             ],
             [
              0.7777777777777778,
              "#fb9f3a"
             ],
             [
              0.8888888888888888,
              "#fdca26"
             ],
             [
              1,
              "#f0f921"
             ]
            ],
            "type": "surface"
           }
          ],
          "table": [
           {
            "cells": {
             "fill": {
              "color": "#EBF0F8"
             },
             "line": {
              "color": "white"
             }
            },
            "header": {
             "fill": {
              "color": "#C8D4E3"
             },
             "line": {
              "color": "white"
             }
            },
            "type": "table"
           }
          ]
         },
         "layout": {
          "annotationdefaults": {
           "arrowcolor": "#2a3f5f",
           "arrowhead": 0,
           "arrowwidth": 1
          },
          "autotypenumbers": "strict",
          "coloraxis": {
           "colorbar": {
            "outlinewidth": 0,
            "ticks": ""
           }
          },
          "colorscale": {
           "diverging": [
            [
             0,
             "#8e0152"
            ],
            [
             0.1,
             "#c51b7d"
            ],
            [
             0.2,
             "#de77ae"
            ],
            [
             0.3,
             "#f1b6da"
            ],
            [
             0.4,
             "#fde0ef"
            ],
            [
             0.5,
             "#f7f7f7"
            ],
            [
             0.6,
             "#e6f5d0"
            ],
            [
             0.7,
             "#b8e186"
            ],
            [
             0.8,
             "#7fbc41"
            ],
            [
             0.9,
             "#4d9221"
            ],
            [
             1,
             "#276419"
            ]
           ],
           "sequential": [
            [
             0,
             "#0d0887"
            ],
            [
             0.1111111111111111,
             "#46039f"
            ],
            [
             0.2222222222222222,
             "#7201a8"
            ],
            [
             0.3333333333333333,
             "#9c179e"
            ],
            [
             0.4444444444444444,
             "#bd3786"
            ],
            [
             0.5555555555555556,
             "#d8576b"
            ],
            [
             0.6666666666666666,
             "#ed7953"
            ],
            [
             0.7777777777777778,
             "#fb9f3a"
            ],
            [
             0.8888888888888888,
             "#fdca26"
            ],
            [
             1,
             "#f0f921"
            ]
           ],
           "sequentialminus": [
            [
             0,
             "#0d0887"
            ],
            [
             0.1111111111111111,
             "#46039f"
            ],
            [
             0.2222222222222222,
             "#7201a8"
            ],
            [
             0.3333333333333333,
             "#9c179e"
            ],
            [
             0.4444444444444444,
             "#bd3786"
            ],
            [
             0.5555555555555556,
             "#d8576b"
            ],
            [
             0.6666666666666666,
             "#ed7953"
            ],
            [
             0.7777777777777778,
             "#fb9f3a"
            ],
            [
             0.8888888888888888,
             "#fdca26"
            ],
            [
             1,
             "#f0f921"
            ]
           ]
          },
          "colorway": [
           "#636efa",
           "#EF553B",
           "#00cc96",
           "#ab63fa",
           "#FFA15A",
           "#19d3f3",
           "#FF6692",
           "#B6E880",
           "#FF97FF",
           "#FECB52"
          ],
          "font": {
           "color": "#2a3f5f"
          },
          "geo": {
           "bgcolor": "white",
           "lakecolor": "white",
           "landcolor": "#E5ECF6",
           "showlakes": true,
           "showland": true,
           "subunitcolor": "white"
          },
          "hoverlabel": {
           "align": "left"
          },
          "hovermode": "closest",
          "mapbox": {
           "style": "light"
          },
          "paper_bgcolor": "white",
          "plot_bgcolor": "#E5ECF6",
          "polar": {
           "angularaxis": {
            "gridcolor": "white",
            "linecolor": "white",
            "ticks": ""
           },
           "bgcolor": "#E5ECF6",
           "radialaxis": {
            "gridcolor": "white",
            "linecolor": "white",
            "ticks": ""
           }
          },
          "scene": {
           "xaxis": {
            "backgroundcolor": "#E5ECF6",
            "gridcolor": "white",
            "gridwidth": 2,
            "linecolor": "white",
            "showbackground": true,
            "ticks": "",
            "zerolinecolor": "white"
           },
           "yaxis": {
            "backgroundcolor": "#E5ECF6",
            "gridcolor": "white",
            "gridwidth": 2,
            "linecolor": "white",
            "showbackground": true,
            "ticks": "",
            "zerolinecolor": "white"
           },
           "zaxis": {
            "backgroundcolor": "#E5ECF6",
            "gridcolor": "white",
            "gridwidth": 2,
            "linecolor": "white",
            "showbackground": true,
            "ticks": "",
            "zerolinecolor": "white"
           }
          },
          "shapedefaults": {
           "line": {
            "color": "#2a3f5f"
           }
          },
          "ternary": {
           "aaxis": {
            "gridcolor": "white",
            "linecolor": "white",
            "ticks": ""
           },
           "baxis": {
            "gridcolor": "white",
            "linecolor": "white",
            "ticks": ""
           },
           "bgcolor": "#E5ECF6",
           "caxis": {
            "gridcolor": "white",
            "linecolor": "white",
            "ticks": ""
           }
          },
          "title": {
           "x": 0.05
          },
          "xaxis": {
           "automargin": true,
           "gridcolor": "white",
           "linecolor": "white",
           "ticks": "",
           "title": {
            "standoff": 15
           },
           "zerolinecolor": "white",
           "zerolinewidth": 2
          },
          "yaxis": {
           "automargin": true,
           "gridcolor": "white",
           "linecolor": "white",
           "ticks": "",
           "title": {
            "standoff": 15
           },
           "zerolinecolor": "white",
           "zerolinewidth": 2
          }
         }
        },
        "title": {
         "text": "Total Fertilizer Consumption (Pakistan vs UAE)"
        },
        "xaxis": {
         "anchor": "y",
         "domain": [
          0,
          1
         ],
         "title": {
          "text": "Year"
         }
        },
        "yaxis": {
         "anchor": "x",
         "domain": [
          0,
          1
         ],
         "title": {
          "text": "Fertilizer Use (Tonnes)"
         }
        }
       }
      }
     },
     "metadata": {},
     "output_type": "display_data"
    }
   ],
   "source": [
    "fig = px.bar(df, x=\"Year\", y=\"Value\", color=\"Country\",\n",
    "             title=\"Total Fertilizer Consumption (Pakistan vs UAE)\",\n",
    "             labels={\"Value\": \"Fertilizer Use (Tonnes)\", \"Year\": \"Year\"},\n",
    "             barmode=\"group\")\n",
    "\n",
    "fig.show()\n"
   ]
  },
  {
   "cell_type": "markdown",
   "id": "408b43c3-0637-4789-979d-1bdb919544dc",
   "metadata": {},
   "source": [
    "# iii- Hunger and Food Security - No. of people undernourished (Millions) (3 year average)"
   ]
  },
  {
   "cell_type": "code",
   "execution_count": 19,
   "id": "bd8c46a9-e37b-4299-b441-17b1ff0904dc",
   "metadata": {},
   "outputs": [],
   "source": [
    "#load dataset\n",
    "uae_data = pd.read_csv(r\"F:\\Courses-Learning\\Codanics-Data Science\\datasets_practice\\uae_hunger_FAOSTAT_data_en_2-25-2025.csv\")\n",
    "pak_data = pd.read_csv(r\"F:\\Courses-Learning\\Codanics-Data Science\\datasets_practice\\pak_hunger_FAOSTAT_data_en_2-25-2025.csv\")"
   ]
  },
  {
   "cell_type": "code",
   "execution_count": 20,
   "id": "8dfb1364-a08f-4e90-8929-d62bf4a7be65",
   "metadata": {},
   "outputs": [
    {
     "name": "stdout",
     "output_type": "stream",
     "text": [
      "UAE Data Preview:\n"
     ]
    },
    {
     "data": {
      "application/vnd.microsoft.datawrangler.viewer.v0+json": {
       "columns": [
        {
         "name": "index",
         "rawType": "int64",
         "type": "integer"
        },
        {
         "name": "Domain Code",
         "rawType": "object",
         "type": "string"
        },
        {
         "name": "Domain",
         "rawType": "object",
         "type": "string"
        },
        {
         "name": "Area Code",
         "rawType": "int64",
         "type": "integer"
        },
        {
         "name": "Area",
         "rawType": "object",
         "type": "string"
        },
        {
         "name": "Element Code",
         "rawType": "int64",
         "type": "integer"
        },
        {
         "name": "Element",
         "rawType": "object",
         "type": "string"
        },
        {
         "name": "Item Code",
         "rawType": "int64",
         "type": "integer"
        },
        {
         "name": "Item",
         "rawType": "object",
         "type": "string"
        },
        {
         "name": "Year Code",
         "rawType": "int64",
         "type": "integer"
        },
        {
         "name": "Year",
         "rawType": "object",
         "type": "string"
        },
        {
         "name": "Unit",
         "rawType": "object",
         "type": "string"
        },
        {
         "name": "Value",
         "rawType": "float64",
         "type": "float"
        },
        {
         "name": "Flag",
         "rawType": "object",
         "type": "string"
        },
        {
         "name": "Flag Description",
         "rawType": "object",
         "type": "string"
        },
        {
         "name": "Note",
         "rawType": "float64",
         "type": "float"
        }
       ],
       "conversionMethod": "pd.DataFrame",
       "ref": "d38c5da4-7b7e-4ca9-a997-46137d814544",
       "rows": [
        [
         "0",
         "FS",
         "Suite of Food Security Indicators",
         "225",
         "United Arab Emirates",
         "6132",
         "Value",
         "210011",
         "Number of people undernourished (million) (3-year average)",
         "20002002",
         "2000-2002",
         "million No",
         "0.1",
         "E",
         "Estimated value",
         null
        ],
        [
         "1",
         "FS",
         "Suite of Food Security Indicators",
         "225",
         "United Arab Emirates",
         "6132",
         "Value",
         "210011",
         "Number of people undernourished (million) (3-year average)",
         "20012003",
         "2001-2003",
         "million No",
         "0.1",
         "E",
         "Estimated value",
         null
        ],
        [
         "2",
         "FS",
         "Suite of Food Security Indicators",
         "225",
         "United Arab Emirates",
         "6132",
         "Value",
         "210011",
         "Number of people undernourished (million) (3-year average)",
         "20022004",
         "2002-2004",
         "million No",
         "0.2",
         "E",
         "Estimated value",
         null
        ],
        [
         "3",
         "FS",
         "Suite of Food Security Indicators",
         "225",
         "United Arab Emirates",
         "6132",
         "Value",
         "210011",
         "Number of people undernourished (million) (3-year average)",
         "20032005",
         "2003-2005",
         "million No",
         "0.3",
         "E",
         "Estimated value",
         null
        ],
        [
         "4",
         "FS",
         "Suite of Food Security Indicators",
         "225",
         "United Arab Emirates",
         "6132",
         "Value",
         "210011",
         "Number of people undernourished (million) (3-year average)",
         "20042006",
         "2004-2006",
         "million No",
         "0.3",
         "E",
         "Estimated value",
         null
        ]
       ],
       "shape": {
        "columns": 15,
        "rows": 5
       }
      },
      "text/html": [
       "<div>\n",
       "<style scoped>\n",
       "    .dataframe tbody tr th:only-of-type {\n",
       "        vertical-align: middle;\n",
       "    }\n",
       "\n",
       "    .dataframe tbody tr th {\n",
       "        vertical-align: top;\n",
       "    }\n",
       "\n",
       "    .dataframe thead th {\n",
       "        text-align: right;\n",
       "    }\n",
       "</style>\n",
       "<table border=\"1\" class=\"dataframe\">\n",
       "  <thead>\n",
       "    <tr style=\"text-align: right;\">\n",
       "      <th></th>\n",
       "      <th>Domain Code</th>\n",
       "      <th>Domain</th>\n",
       "      <th>Area Code</th>\n",
       "      <th>Area</th>\n",
       "      <th>Element Code</th>\n",
       "      <th>Element</th>\n",
       "      <th>Item Code</th>\n",
       "      <th>Item</th>\n",
       "      <th>Year Code</th>\n",
       "      <th>Year</th>\n",
       "      <th>Unit</th>\n",
       "      <th>Value</th>\n",
       "      <th>Flag</th>\n",
       "      <th>Flag Description</th>\n",
       "      <th>Note</th>\n",
       "    </tr>\n",
       "  </thead>\n",
       "  <tbody>\n",
       "    <tr>\n",
       "      <th>0</th>\n",
       "      <td>FS</td>\n",
       "      <td>Suite of Food Security Indicators</td>\n",
       "      <td>225</td>\n",
       "      <td>United Arab Emirates</td>\n",
       "      <td>6132</td>\n",
       "      <td>Value</td>\n",
       "      <td>210011</td>\n",
       "      <td>Number of people undernourished (million) (3-y...</td>\n",
       "      <td>20002002</td>\n",
       "      <td>2000-2002</td>\n",
       "      <td>million No</td>\n",
       "      <td>0.1</td>\n",
       "      <td>E</td>\n",
       "      <td>Estimated value</td>\n",
       "      <td>NaN</td>\n",
       "    </tr>\n",
       "    <tr>\n",
       "      <th>1</th>\n",
       "      <td>FS</td>\n",
       "      <td>Suite of Food Security Indicators</td>\n",
       "      <td>225</td>\n",
       "      <td>United Arab Emirates</td>\n",
       "      <td>6132</td>\n",
       "      <td>Value</td>\n",
       "      <td>210011</td>\n",
       "      <td>Number of people undernourished (million) (3-y...</td>\n",
       "      <td>20012003</td>\n",
       "      <td>2001-2003</td>\n",
       "      <td>million No</td>\n",
       "      <td>0.1</td>\n",
       "      <td>E</td>\n",
       "      <td>Estimated value</td>\n",
       "      <td>NaN</td>\n",
       "    </tr>\n",
       "    <tr>\n",
       "      <th>2</th>\n",
       "      <td>FS</td>\n",
       "      <td>Suite of Food Security Indicators</td>\n",
       "      <td>225</td>\n",
       "      <td>United Arab Emirates</td>\n",
       "      <td>6132</td>\n",
       "      <td>Value</td>\n",
       "      <td>210011</td>\n",
       "      <td>Number of people undernourished (million) (3-y...</td>\n",
       "      <td>20022004</td>\n",
       "      <td>2002-2004</td>\n",
       "      <td>million No</td>\n",
       "      <td>0.2</td>\n",
       "      <td>E</td>\n",
       "      <td>Estimated value</td>\n",
       "      <td>NaN</td>\n",
       "    </tr>\n",
       "    <tr>\n",
       "      <th>3</th>\n",
       "      <td>FS</td>\n",
       "      <td>Suite of Food Security Indicators</td>\n",
       "      <td>225</td>\n",
       "      <td>United Arab Emirates</td>\n",
       "      <td>6132</td>\n",
       "      <td>Value</td>\n",
       "      <td>210011</td>\n",
       "      <td>Number of people undernourished (million) (3-y...</td>\n",
       "      <td>20032005</td>\n",
       "      <td>2003-2005</td>\n",
       "      <td>million No</td>\n",
       "      <td>0.3</td>\n",
       "      <td>E</td>\n",
       "      <td>Estimated value</td>\n",
       "      <td>NaN</td>\n",
       "    </tr>\n",
       "    <tr>\n",
       "      <th>4</th>\n",
       "      <td>FS</td>\n",
       "      <td>Suite of Food Security Indicators</td>\n",
       "      <td>225</td>\n",
       "      <td>United Arab Emirates</td>\n",
       "      <td>6132</td>\n",
       "      <td>Value</td>\n",
       "      <td>210011</td>\n",
       "      <td>Number of people undernourished (million) (3-y...</td>\n",
       "      <td>20042006</td>\n",
       "      <td>2004-2006</td>\n",
       "      <td>million No</td>\n",
       "      <td>0.3</td>\n",
       "      <td>E</td>\n",
       "      <td>Estimated value</td>\n",
       "      <td>NaN</td>\n",
       "    </tr>\n",
       "  </tbody>\n",
       "</table>\n",
       "</div>"
      ],
      "text/plain": [
       "  Domain Code                             Domain  Area Code  \\\n",
       "0          FS  Suite of Food Security Indicators        225   \n",
       "1          FS  Suite of Food Security Indicators        225   \n",
       "2          FS  Suite of Food Security Indicators        225   \n",
       "3          FS  Suite of Food Security Indicators        225   \n",
       "4          FS  Suite of Food Security Indicators        225   \n",
       "\n",
       "                   Area  Element Code Element  Item Code  \\\n",
       "0  United Arab Emirates          6132   Value     210011   \n",
       "1  United Arab Emirates          6132   Value     210011   \n",
       "2  United Arab Emirates          6132   Value     210011   \n",
       "3  United Arab Emirates          6132   Value     210011   \n",
       "4  United Arab Emirates          6132   Value     210011   \n",
       "\n",
       "                                                Item  Year Code       Year  \\\n",
       "0  Number of people undernourished (million) (3-y...   20002002  2000-2002   \n",
       "1  Number of people undernourished (million) (3-y...   20012003  2001-2003   \n",
       "2  Number of people undernourished (million) (3-y...   20022004  2002-2004   \n",
       "3  Number of people undernourished (million) (3-y...   20032005  2003-2005   \n",
       "4  Number of people undernourished (million) (3-y...   20042006  2004-2006   \n",
       "\n",
       "         Unit  Value Flag Flag Description  Note  \n",
       "0  million No    0.1    E  Estimated value   NaN  \n",
       "1  million No    0.1    E  Estimated value   NaN  \n",
       "2  million No    0.2    E  Estimated value   NaN  \n",
       "3  million No    0.3    E  Estimated value   NaN  \n",
       "4  million No    0.3    E  Estimated value   NaN  "
      ]
     },
     "metadata": {},
     "output_type": "display_data"
    },
    {
     "name": "stdout",
     "output_type": "stream",
     "text": [
      "\n",
      "Pakistan Data Preview:\n"
     ]
    },
    {
     "data": {
      "application/vnd.microsoft.datawrangler.viewer.v0+json": {
       "columns": [
        {
         "name": "index",
         "rawType": "int64",
         "type": "integer"
        },
        {
         "name": "Domain Code",
         "rawType": "object",
         "type": "string"
        },
        {
         "name": "Domain",
         "rawType": "object",
         "type": "string"
        },
        {
         "name": "Area Code",
         "rawType": "int64",
         "type": "integer"
        },
        {
         "name": "Area",
         "rawType": "object",
         "type": "string"
        },
        {
         "name": "Element Code",
         "rawType": "int64",
         "type": "integer"
        },
        {
         "name": "Element",
         "rawType": "object",
         "type": "string"
        },
        {
         "name": "Item Code",
         "rawType": "int64",
         "type": "integer"
        },
        {
         "name": "Item",
         "rawType": "object",
         "type": "string"
        },
        {
         "name": "Year Code",
         "rawType": "int64",
         "type": "integer"
        },
        {
         "name": "Year",
         "rawType": "object",
         "type": "string"
        },
        {
         "name": "Unit",
         "rawType": "object",
         "type": "string"
        },
        {
         "name": "Value",
         "rawType": "float64",
         "type": "float"
        },
        {
         "name": "Flag",
         "rawType": "object",
         "type": "string"
        },
        {
         "name": "Flag Description",
         "rawType": "object",
         "type": "string"
        },
        {
         "name": "Note",
         "rawType": "float64",
         "type": "float"
        }
       ],
       "conversionMethod": "pd.DataFrame",
       "ref": "2d960f55-185e-4353-b90f-99858952bf31",
       "rows": [
        [
         "0",
         "FS",
         "Suite of Food Security Indicators",
         "165",
         "Pakistan",
         "6132",
         "Value",
         "210011",
         "Number of people undernourished (million) (3-year average)",
         "20002002",
         "2000-2002",
         "million No",
         "32.9",
         "E",
         "Estimated value",
         null
        ],
        [
         "1",
         "FS",
         "Suite of Food Security Indicators",
         "165",
         "Pakistan",
         "6132",
         "Value",
         "210011",
         "Number of people undernourished (million) (3-year average)",
         "20012003",
         "2001-2003",
         "million No",
         "34.8",
         "E",
         "Estimated value",
         null
        ],
        [
         "2",
         "FS",
         "Suite of Food Security Indicators",
         "165",
         "Pakistan",
         "6132",
         "Value",
         "210011",
         "Number of people undernourished (million) (3-year average)",
         "20022004",
         "2002-2004",
         "million No",
         "34.1",
         "E",
         "Estimated value",
         null
        ],
        [
         "3",
         "FS",
         "Suite of Food Security Indicators",
         "165",
         "Pakistan",
         "6132",
         "Value",
         "210011",
         "Number of people undernourished (million) (3-year average)",
         "20032005",
         "2003-2005",
         "million No",
         "31.5",
         "E",
         "Estimated value",
         null
        ],
        [
         "4",
         "FS",
         "Suite of Food Security Indicators",
         "165",
         "Pakistan",
         "6132",
         "Value",
         "210011",
         "Number of people undernourished (million) (3-year average)",
         "20042006",
         "2004-2006",
         "million No",
         "29.7",
         "E",
         "Estimated value",
         null
        ]
       ],
       "shape": {
        "columns": 15,
        "rows": 5
       }
      },
      "text/html": [
       "<div>\n",
       "<style scoped>\n",
       "    .dataframe tbody tr th:only-of-type {\n",
       "        vertical-align: middle;\n",
       "    }\n",
       "\n",
       "    .dataframe tbody tr th {\n",
       "        vertical-align: top;\n",
       "    }\n",
       "\n",
       "    .dataframe thead th {\n",
       "        text-align: right;\n",
       "    }\n",
       "</style>\n",
       "<table border=\"1\" class=\"dataframe\">\n",
       "  <thead>\n",
       "    <tr style=\"text-align: right;\">\n",
       "      <th></th>\n",
       "      <th>Domain Code</th>\n",
       "      <th>Domain</th>\n",
       "      <th>Area Code</th>\n",
       "      <th>Area</th>\n",
       "      <th>Element Code</th>\n",
       "      <th>Element</th>\n",
       "      <th>Item Code</th>\n",
       "      <th>Item</th>\n",
       "      <th>Year Code</th>\n",
       "      <th>Year</th>\n",
       "      <th>Unit</th>\n",
       "      <th>Value</th>\n",
       "      <th>Flag</th>\n",
       "      <th>Flag Description</th>\n",
       "      <th>Note</th>\n",
       "    </tr>\n",
       "  </thead>\n",
       "  <tbody>\n",
       "    <tr>\n",
       "      <th>0</th>\n",
       "      <td>FS</td>\n",
       "      <td>Suite of Food Security Indicators</td>\n",
       "      <td>165</td>\n",
       "      <td>Pakistan</td>\n",
       "      <td>6132</td>\n",
       "      <td>Value</td>\n",
       "      <td>210011</td>\n",
       "      <td>Number of people undernourished (million) (3-y...</td>\n",
       "      <td>20002002</td>\n",
       "      <td>2000-2002</td>\n",
       "      <td>million No</td>\n",
       "      <td>32.9</td>\n",
       "      <td>E</td>\n",
       "      <td>Estimated value</td>\n",
       "      <td>NaN</td>\n",
       "    </tr>\n",
       "    <tr>\n",
       "      <th>1</th>\n",
       "      <td>FS</td>\n",
       "      <td>Suite of Food Security Indicators</td>\n",
       "      <td>165</td>\n",
       "      <td>Pakistan</td>\n",
       "      <td>6132</td>\n",
       "      <td>Value</td>\n",
       "      <td>210011</td>\n",
       "      <td>Number of people undernourished (million) (3-y...</td>\n",
       "      <td>20012003</td>\n",
       "      <td>2001-2003</td>\n",
       "      <td>million No</td>\n",
       "      <td>34.8</td>\n",
       "      <td>E</td>\n",
       "      <td>Estimated value</td>\n",
       "      <td>NaN</td>\n",
       "    </tr>\n",
       "    <tr>\n",
       "      <th>2</th>\n",
       "      <td>FS</td>\n",
       "      <td>Suite of Food Security Indicators</td>\n",
       "      <td>165</td>\n",
       "      <td>Pakistan</td>\n",
       "      <td>6132</td>\n",
       "      <td>Value</td>\n",
       "      <td>210011</td>\n",
       "      <td>Number of people undernourished (million) (3-y...</td>\n",
       "      <td>20022004</td>\n",
       "      <td>2002-2004</td>\n",
       "      <td>million No</td>\n",
       "      <td>34.1</td>\n",
       "      <td>E</td>\n",
       "      <td>Estimated value</td>\n",
       "      <td>NaN</td>\n",
       "    </tr>\n",
       "    <tr>\n",
       "      <th>3</th>\n",
       "      <td>FS</td>\n",
       "      <td>Suite of Food Security Indicators</td>\n",
       "      <td>165</td>\n",
       "      <td>Pakistan</td>\n",
       "      <td>6132</td>\n",
       "      <td>Value</td>\n",
       "      <td>210011</td>\n",
       "      <td>Number of people undernourished (million) (3-y...</td>\n",
       "      <td>20032005</td>\n",
       "      <td>2003-2005</td>\n",
       "      <td>million No</td>\n",
       "      <td>31.5</td>\n",
       "      <td>E</td>\n",
       "      <td>Estimated value</td>\n",
       "      <td>NaN</td>\n",
       "    </tr>\n",
       "    <tr>\n",
       "      <th>4</th>\n",
       "      <td>FS</td>\n",
       "      <td>Suite of Food Security Indicators</td>\n",
       "      <td>165</td>\n",
       "      <td>Pakistan</td>\n",
       "      <td>6132</td>\n",
       "      <td>Value</td>\n",
       "      <td>210011</td>\n",
       "      <td>Number of people undernourished (million) (3-y...</td>\n",
       "      <td>20042006</td>\n",
       "      <td>2004-2006</td>\n",
       "      <td>million No</td>\n",
       "      <td>29.7</td>\n",
       "      <td>E</td>\n",
       "      <td>Estimated value</td>\n",
       "      <td>NaN</td>\n",
       "    </tr>\n",
       "  </tbody>\n",
       "</table>\n",
       "</div>"
      ],
      "text/plain": [
       "  Domain Code                             Domain  Area Code      Area  \\\n",
       "0          FS  Suite of Food Security Indicators        165  Pakistan   \n",
       "1          FS  Suite of Food Security Indicators        165  Pakistan   \n",
       "2          FS  Suite of Food Security Indicators        165  Pakistan   \n",
       "3          FS  Suite of Food Security Indicators        165  Pakistan   \n",
       "4          FS  Suite of Food Security Indicators        165  Pakistan   \n",
       "\n",
       "   Element Code Element  Item Code  \\\n",
       "0          6132   Value     210011   \n",
       "1          6132   Value     210011   \n",
       "2          6132   Value     210011   \n",
       "3          6132   Value     210011   \n",
       "4          6132   Value     210011   \n",
       "\n",
       "                                                Item  Year Code       Year  \\\n",
       "0  Number of people undernourished (million) (3-y...   20002002  2000-2002   \n",
       "1  Number of people undernourished (million) (3-y...   20012003  2001-2003   \n",
       "2  Number of people undernourished (million) (3-y...   20022004  2002-2004   \n",
       "3  Number of people undernourished (million) (3-y...   20032005  2003-2005   \n",
       "4  Number of people undernourished (million) (3-y...   20042006  2004-2006   \n",
       "\n",
       "         Unit  Value Flag Flag Description  Note  \n",
       "0  million No   32.9    E  Estimated value   NaN  \n",
       "1  million No   34.8    E  Estimated value   NaN  \n",
       "2  million No   34.1    E  Estimated value   NaN  \n",
       "3  million No   31.5    E  Estimated value   NaN  \n",
       "4  million No   29.7    E  Estimated value   NaN  "
      ]
     },
     "metadata": {},
     "output_type": "display_data"
    }
   ],
   "source": [
    "#Preview the dataset\n",
    "print(\"UAE Data Preview:\")\n",
    "display(uae_data.head())\n",
    "\n",
    "print(\"\\nPakistan Data Preview:\")\n",
    "display(pak_data.head())"
   ]
  },
  {
   "cell_type": "code",
   "execution_count": 21,
   "id": "effa40a1-1a5f-488e-932b-421a9ba8c902",
   "metadata": {},
   "outputs": [
    {
     "name": "stdout",
     "output_type": "stream",
     "text": [
      "UAE Columns: Index(['Domain Code', 'Domain', 'Area Code', 'Area', 'Element Code', 'Element',\n",
      "       'Item Code', 'Item', 'Year Code', 'Year', 'Unit', 'Value', 'Flag',\n",
      "       'Flag Description', 'Note'],\n",
      "      dtype='object')\n",
      "\n",
      "Pakistan Columns: Index(['Domain Code', 'Domain', 'Area Code', 'Area', 'Element Code', 'Element',\n",
      "       'Item Code', 'Item', 'Year Code', 'Year', 'Unit', 'Value', 'Flag',\n",
      "       'Flag Description', 'Note'],\n",
      "      dtype='object')\n",
      "\n",
      "UAE Data Types:\n",
      " Domain Code          object\n",
      "Domain               object\n",
      "Area Code             int64\n",
      "Area                 object\n",
      "Element Code          int64\n",
      "Element              object\n",
      "Item Code             int64\n",
      "Item                 object\n",
      "Year Code             int64\n",
      "Year                 object\n",
      "Unit                 object\n",
      "Value               float64\n",
      "Flag                 object\n",
      "Flag Description     object\n",
      "Note                float64\n",
      "dtype: object\n",
      "\n",
      "Pakistan Data Types:\n",
      " Domain Code          object\n",
      "Domain               object\n",
      "Area Code             int64\n",
      "Area                 object\n",
      "Element Code          int64\n",
      "Element              object\n",
      "Item Code             int64\n",
      "Item                 object\n",
      "Year Code             int64\n",
      "Year                 object\n",
      "Unit                 object\n",
      "Value               float64\n",
      "Flag                 object\n",
      "Flag Description     object\n",
      "Note                float64\n",
      "dtype: object\n"
     ]
    }
   ],
   "source": [
    "#Check column name and data types\n",
    "print(\"UAE Columns:\", uae_data.columns)\n",
    "print(\"\\nPakistan Columns:\", pak_data.columns)\n",
    "\n",
    "print(\"\\nUAE Data Types:\\n\", uae_data.dtypes)\n",
    "print(\"\\nPakistan Data Types:\\n\", pak_data.dtypes)"
   ]
  },
  {
   "cell_type": "code",
   "execution_count": 22,
   "id": "8c844eef-c237-4893-8263-d7531bd5d584",
   "metadata": {},
   "outputs": [
    {
     "name": "stdout",
     "output_type": "stream",
     "text": [
      "Missing Values in UAE Data:\n",
      " Domain Code          0\n",
      "Domain               0\n",
      "Area Code            0\n",
      "Area                 0\n",
      "Element Code         0\n",
      "Element              0\n",
      "Item Code            0\n",
      "Item                 0\n",
      "Year Code            0\n",
      "Year                 0\n",
      "Unit                 0\n",
      "Value                0\n",
      "Flag                 0\n",
      "Flag Description     0\n",
      "Note                22\n",
      "dtype: int64\n",
      "\n",
      "Missing Values in Pakistan Data:\n",
      " Domain Code          0\n",
      "Domain               0\n",
      "Area Code            0\n",
      "Area                 0\n",
      "Element Code         0\n",
      "Element              0\n",
      "Item Code            0\n",
      "Item                 0\n",
      "Year Code            0\n",
      "Year                 0\n",
      "Unit                 0\n",
      "Value                0\n",
      "Flag                 0\n",
      "Flag Description     0\n",
      "Note                22\n",
      "dtype: int64\n"
     ]
    }
   ],
   "source": [
    "#Check for missing values\n",
    "print(\"Missing Values in UAE Data:\\n\", uae_data.isnull().sum())\n",
    "print(\"\\nMissing Values in Pakistan Data:\\n\", pak_data.isnull().sum())"
   ]
  },
  {
   "cell_type": "code",
   "execution_count": 23,
   "id": "da1610a9-835f-4e20-8f6e-4f0c86f500ed",
   "metadata": {},
   "outputs": [
    {
     "name": "stdout",
     "output_type": "stream",
     "text": [
      "UAE Data Summary:\n"
     ]
    },
    {
     "data": {
      "application/vnd.microsoft.datawrangler.viewer.v0+json": {
       "columns": [
        {
         "name": "index",
         "rawType": "object",
         "type": "string"
        },
        {
         "name": "Area Code",
         "rawType": "float64",
         "type": "float"
        },
        {
         "name": "Element Code",
         "rawType": "float64",
         "type": "float"
        },
        {
         "name": "Item Code",
         "rawType": "float64",
         "type": "float"
        },
        {
         "name": "Year Code",
         "rawType": "float64",
         "type": "float"
        },
        {
         "name": "Value",
         "rawType": "float64",
         "type": "float"
        },
        {
         "name": "Note",
         "rawType": "float64",
         "type": "float"
        }
       ],
       "conversionMethod": "pd.DataFrame",
       "ref": "9eceb007-e2e0-472e-80a9-8a4acb546231",
       "rows": [
        [
         "count",
         "22.0",
         "22.0",
         "22.0",
         "22.0",
         "22.0",
         "0.0"
        ],
        [
         "mean",
         "225.0",
         "6132.0",
         "210011.0",
         "20107012.5",
         "0.36818181818181817",
         null
        ],
        [
         "std",
         "0.0",
         "0.0",
         "0.0",
         "64942.35938250678",
         "0.13933981633253442",
         null
        ],
        [
         "min",
         "225.0",
         "6132.0",
         "210011.0",
         "20002002.0",
         "0.1",
         null
        ],
        [
         "25%",
         "225.0",
         "6132.0",
         "210011.0",
         "20054507.25",
         "0.3",
         null
        ],
        [
         "50%",
         "225.0",
         "6132.0",
         "210011.0",
         "20107012.5",
         "0.4",
         null
        ],
        [
         "75%",
         "225.0",
         "6132.0",
         "210011.0",
         "20159517.75",
         "0.4",
         null
        ],
        [
         "max",
         "225.0",
         "6132.0",
         "210011.0",
         "20212023.0",
         "0.6",
         null
        ]
       ],
       "shape": {
        "columns": 6,
        "rows": 8
       }
      },
      "text/html": [
       "<div>\n",
       "<style scoped>\n",
       "    .dataframe tbody tr th:only-of-type {\n",
       "        vertical-align: middle;\n",
       "    }\n",
       "\n",
       "    .dataframe tbody tr th {\n",
       "        vertical-align: top;\n",
       "    }\n",
       "\n",
       "    .dataframe thead th {\n",
       "        text-align: right;\n",
       "    }\n",
       "</style>\n",
       "<table border=\"1\" class=\"dataframe\">\n",
       "  <thead>\n",
       "    <tr style=\"text-align: right;\">\n",
       "      <th></th>\n",
       "      <th>Area Code</th>\n",
       "      <th>Element Code</th>\n",
       "      <th>Item Code</th>\n",
       "      <th>Year Code</th>\n",
       "      <th>Value</th>\n",
       "      <th>Note</th>\n",
       "    </tr>\n",
       "  </thead>\n",
       "  <tbody>\n",
       "    <tr>\n",
       "      <th>count</th>\n",
       "      <td>22.0</td>\n",
       "      <td>22.0</td>\n",
       "      <td>22.0</td>\n",
       "      <td>2.200000e+01</td>\n",
       "      <td>22.000000</td>\n",
       "      <td>0.0</td>\n",
       "    </tr>\n",
       "    <tr>\n",
       "      <th>mean</th>\n",
       "      <td>225.0</td>\n",
       "      <td>6132.0</td>\n",
       "      <td>210011.0</td>\n",
       "      <td>2.010701e+07</td>\n",
       "      <td>0.368182</td>\n",
       "      <td>NaN</td>\n",
       "    </tr>\n",
       "    <tr>\n",
       "      <th>std</th>\n",
       "      <td>0.0</td>\n",
       "      <td>0.0</td>\n",
       "      <td>0.0</td>\n",
       "      <td>6.494236e+04</td>\n",
       "      <td>0.139340</td>\n",
       "      <td>NaN</td>\n",
       "    </tr>\n",
       "    <tr>\n",
       "      <th>min</th>\n",
       "      <td>225.0</td>\n",
       "      <td>6132.0</td>\n",
       "      <td>210011.0</td>\n",
       "      <td>2.000200e+07</td>\n",
       "      <td>0.100000</td>\n",
       "      <td>NaN</td>\n",
       "    </tr>\n",
       "    <tr>\n",
       "      <th>25%</th>\n",
       "      <td>225.0</td>\n",
       "      <td>6132.0</td>\n",
       "      <td>210011.0</td>\n",
       "      <td>2.005451e+07</td>\n",
       "      <td>0.300000</td>\n",
       "      <td>NaN</td>\n",
       "    </tr>\n",
       "    <tr>\n",
       "      <th>50%</th>\n",
       "      <td>225.0</td>\n",
       "      <td>6132.0</td>\n",
       "      <td>210011.0</td>\n",
       "      <td>2.010701e+07</td>\n",
       "      <td>0.400000</td>\n",
       "      <td>NaN</td>\n",
       "    </tr>\n",
       "    <tr>\n",
       "      <th>75%</th>\n",
       "      <td>225.0</td>\n",
       "      <td>6132.0</td>\n",
       "      <td>210011.0</td>\n",
       "      <td>2.015952e+07</td>\n",
       "      <td>0.400000</td>\n",
       "      <td>NaN</td>\n",
       "    </tr>\n",
       "    <tr>\n",
       "      <th>max</th>\n",
       "      <td>225.0</td>\n",
       "      <td>6132.0</td>\n",
       "      <td>210011.0</td>\n",
       "      <td>2.021202e+07</td>\n",
       "      <td>0.600000</td>\n",
       "      <td>NaN</td>\n",
       "    </tr>\n",
       "  </tbody>\n",
       "</table>\n",
       "</div>"
      ],
      "text/plain": [
       "       Area Code  Element Code  Item Code     Year Code      Value  Note\n",
       "count       22.0          22.0       22.0  2.200000e+01  22.000000   0.0\n",
       "mean       225.0        6132.0   210011.0  2.010701e+07   0.368182   NaN\n",
       "std          0.0           0.0        0.0  6.494236e+04   0.139340   NaN\n",
       "min        225.0        6132.0   210011.0  2.000200e+07   0.100000   NaN\n",
       "25%        225.0        6132.0   210011.0  2.005451e+07   0.300000   NaN\n",
       "50%        225.0        6132.0   210011.0  2.010701e+07   0.400000   NaN\n",
       "75%        225.0        6132.0   210011.0  2.015952e+07   0.400000   NaN\n",
       "max        225.0        6132.0   210011.0  2.021202e+07   0.600000   NaN"
      ]
     },
     "metadata": {},
     "output_type": "display_data"
    },
    {
     "name": "stdout",
     "output_type": "stream",
     "text": [
      "\n",
      "Pakistan Data Summary:\n"
     ]
    },
    {
     "data": {
      "application/vnd.microsoft.datawrangler.viewer.v0+json": {
       "columns": [
        {
         "name": "index",
         "rawType": "object",
         "type": "string"
        },
        {
         "name": "Area Code",
         "rawType": "float64",
         "type": "float"
        },
        {
         "name": "Element Code",
         "rawType": "float64",
         "type": "float"
        },
        {
         "name": "Item Code",
         "rawType": "float64",
         "type": "float"
        },
        {
         "name": "Year Code",
         "rawType": "float64",
         "type": "float"
        },
        {
         "name": "Value",
         "rawType": "float64",
         "type": "float"
        },
        {
         "name": "Note",
         "rawType": "float64",
         "type": "float"
        }
       ],
       "conversionMethod": "pd.DataFrame",
       "ref": "405e3014-232c-457c-bb11-9e78e1fa1d14",
       "rows": [
        [
         "count",
         "22.0",
         "22.0",
         "22.0",
         "22.0",
         "22.0",
         "0.0"
        ],
        [
         "mean",
         "165.0",
         "6132.0",
         "210011.0",
         "20107012.5",
         "30.477272727272727",
         null
        ],
        [
         "std",
         "0.0",
         "0.0",
         "0.0",
         "64942.35938250678",
         "6.191924988639241",
         null
        ],
        [
         "min",
         "165.0",
         "6132.0",
         "210011.0",
         "20002002.0",
         "22.9",
         null
        ],
        [
         "25%",
         "165.0",
         "6132.0",
         "210011.0",
         "20054507.25",
         "27.775",
         null
        ],
        [
         "50%",
         "165.0",
         "6132.0",
         "210011.0",
         "20107012.5",
         "28.8",
         null
        ],
        [
         "75%",
         "165.0",
         "6132.0",
         "210011.0",
         "20159517.75",
         "32.55",
         null
        ],
        [
         "max",
         "165.0",
         "6132.0",
         "210011.0",
         "20212023.0",
         "48.8",
         null
        ]
       ],
       "shape": {
        "columns": 6,
        "rows": 8
       }
      },
      "text/html": [
       "<div>\n",
       "<style scoped>\n",
       "    .dataframe tbody tr th:only-of-type {\n",
       "        vertical-align: middle;\n",
       "    }\n",
       "\n",
       "    .dataframe tbody tr th {\n",
       "        vertical-align: top;\n",
       "    }\n",
       "\n",
       "    .dataframe thead th {\n",
       "        text-align: right;\n",
       "    }\n",
       "</style>\n",
       "<table border=\"1\" class=\"dataframe\">\n",
       "  <thead>\n",
       "    <tr style=\"text-align: right;\">\n",
       "      <th></th>\n",
       "      <th>Area Code</th>\n",
       "      <th>Element Code</th>\n",
       "      <th>Item Code</th>\n",
       "      <th>Year Code</th>\n",
       "      <th>Value</th>\n",
       "      <th>Note</th>\n",
       "    </tr>\n",
       "  </thead>\n",
       "  <tbody>\n",
       "    <tr>\n",
       "      <th>count</th>\n",
       "      <td>22.0</td>\n",
       "      <td>22.0</td>\n",
       "      <td>22.0</td>\n",
       "      <td>2.200000e+01</td>\n",
       "      <td>22.000000</td>\n",
       "      <td>0.0</td>\n",
       "    </tr>\n",
       "    <tr>\n",
       "      <th>mean</th>\n",
       "      <td>165.0</td>\n",
       "      <td>6132.0</td>\n",
       "      <td>210011.0</td>\n",
       "      <td>2.010701e+07</td>\n",
       "      <td>30.477273</td>\n",
       "      <td>NaN</td>\n",
       "    </tr>\n",
       "    <tr>\n",
       "      <th>std</th>\n",
       "      <td>0.0</td>\n",
       "      <td>0.0</td>\n",
       "      <td>0.0</td>\n",
       "      <td>6.494236e+04</td>\n",
       "      <td>6.191925</td>\n",
       "      <td>NaN</td>\n",
       "    </tr>\n",
       "    <tr>\n",
       "      <th>min</th>\n",
       "      <td>165.0</td>\n",
       "      <td>6132.0</td>\n",
       "      <td>210011.0</td>\n",
       "      <td>2.000200e+07</td>\n",
       "      <td>22.900000</td>\n",
       "      <td>NaN</td>\n",
       "    </tr>\n",
       "    <tr>\n",
       "      <th>25%</th>\n",
       "      <td>165.0</td>\n",
       "      <td>6132.0</td>\n",
       "      <td>210011.0</td>\n",
       "      <td>2.005451e+07</td>\n",
       "      <td>27.775000</td>\n",
       "      <td>NaN</td>\n",
       "    </tr>\n",
       "    <tr>\n",
       "      <th>50%</th>\n",
       "      <td>165.0</td>\n",
       "      <td>6132.0</td>\n",
       "      <td>210011.0</td>\n",
       "      <td>2.010701e+07</td>\n",
       "      <td>28.800000</td>\n",
       "      <td>NaN</td>\n",
       "    </tr>\n",
       "    <tr>\n",
       "      <th>75%</th>\n",
       "      <td>165.0</td>\n",
       "      <td>6132.0</td>\n",
       "      <td>210011.0</td>\n",
       "      <td>2.015952e+07</td>\n",
       "      <td>32.550000</td>\n",
       "      <td>NaN</td>\n",
       "    </tr>\n",
       "    <tr>\n",
       "      <th>max</th>\n",
       "      <td>165.0</td>\n",
       "      <td>6132.0</td>\n",
       "      <td>210011.0</td>\n",
       "      <td>2.021202e+07</td>\n",
       "      <td>48.800000</td>\n",
       "      <td>NaN</td>\n",
       "    </tr>\n",
       "  </tbody>\n",
       "</table>\n",
       "</div>"
      ],
      "text/plain": [
       "       Area Code  Element Code  Item Code     Year Code      Value  Note\n",
       "count       22.0          22.0       22.0  2.200000e+01  22.000000   0.0\n",
       "mean       165.0        6132.0   210011.0  2.010701e+07  30.477273   NaN\n",
       "std          0.0           0.0        0.0  6.494236e+04   6.191925   NaN\n",
       "min        165.0        6132.0   210011.0  2.000200e+07  22.900000   NaN\n",
       "25%        165.0        6132.0   210011.0  2.005451e+07  27.775000   NaN\n",
       "50%        165.0        6132.0   210011.0  2.010701e+07  28.800000   NaN\n",
       "75%        165.0        6132.0   210011.0  2.015952e+07  32.550000   NaN\n",
       "max        165.0        6132.0   210011.0  2.021202e+07  48.800000   NaN"
      ]
     },
     "metadata": {},
     "output_type": "display_data"
    }
   ],
   "source": [
    "#Summary Statistics\n",
    "print(\"UAE Data Summary:\")\n",
    "display(uae_data.describe())\n",
    "\n",
    "print(\"\\nPakistan Data Summary:\")\n",
    "display(pak_data.describe())"
   ]
  },
  {
   "cell_type": "markdown",
   "id": "62581005-a610-4229-8803-8e4041473d5e",
   "metadata": {},
   "source": [
    "# Combining datasets"
   ]
  },
  {
   "cell_type": "code",
   "execution_count": 24,
   "id": "a9f42ee4-e75a-4ed1-a491-f12fc2b3b671",
   "metadata": {},
   "outputs": [],
   "source": [
    "# Combine datasets for comparison\n",
    "pak_data[\"Country\"] = \"Pakistan\"\n",
    "uae_data[\"Country\"] = \"UAE\"\n",
    "df = pd.concat([pak_data, uae_data])"
   ]
  },
  {
   "cell_type": "markdown",
   "id": "55af6d6c-6d3e-4fda-aecb-5db6687216b1",
   "metadata": {},
   "source": [
    "# 01- Time Series Line Chart – Undernourishment Trend Over Time"
   ]
  },
  {
   "cell_type": "code",
   "execution_count": 25,
   "id": "cdd24bd0-02e6-4c43-9c9f-55fec0bfc157",
   "metadata": {},
   "outputs": [
    {
     "data": {
      "application/vnd.plotly.v1+json": {
       "config": {
        "plotlyServerURL": "https://plot.ly"
       },
       "data": [
        {
         "hovertemplate": "Year=%{x}<br>million No=%{y}<extra></extra>",
         "legendgroup": "",
         "line": {
          "color": "#636efa",
          "dash": "solid"
         },
         "marker": {
          "symbol": "circle"
         },
         "mode": "lines+markers",
         "name": "",
         "orientation": "v",
         "showlegend": false,
         "type": "scatter",
         "x": [
          "2000-2002",
          "2001-2003",
          "2002-2004",
          "2003-2005",
          "2004-2006",
          "2005-2007",
          "2006-2008",
          "2007-2009",
          "2008-2010",
          "2009-2011",
          "2010-2012",
          "2011-2013",
          "2012-2014",
          "2013-2015",
          "2014-2016",
          "2015-2017",
          "2016-2018",
          "2017-2019",
          "2018-2020",
          "2019-2021",
          "2020-2022",
          "2021-2023",
          "2000-2002",
          "2001-2003",
          "2002-2004",
          "2003-2005",
          "2004-2006",
          "2005-2007",
          "2006-2008",
          "2007-2009",
          "2008-2010",
          "2009-2011",
          "2010-2012",
          "2011-2013",
          "2012-2014",
          "2013-2015",
          "2014-2016",
          "2015-2017",
          "2016-2018",
          "2017-2019",
          "2018-2020",
          "2019-2021",
          "2020-2022",
          "2021-2023"
         ],
         "xaxis": "x",
         "y": {
          "bdata": "MzMzMzNzQEBmZmZmZmZBQM3MzMzMDEFAAAAAAACAP0AzMzMzM7M9QJqZmZmZGTxAMzMzMzOzO0AzMzMzMzM8QM3MzMzMzDxAZmZmZmbmPEDNzMzMzMw8QDMzMzMzMz1AAAAAAAAAPEAAAAAAAAA7QGZmZmZm5jhAAAAAAAAAOEBmZmZmZuY2QM3MzMzMzDdAMzMzMzOzPEAAAAAAAABCQJqZmZmZ2UVAZmZmZmZmSECamZmZmZm5P5qZmZmZmbk/mpmZmZmZyT8zMzMzMzPTPzMzMzMzM9M/mpmZmZmZ2T8AAAAAAADgPwAAAAAAAOA/MzMzMzMz4z8zMzMzMzPjPzMzMzMzM+M/mpmZmZmZ2T+amZmZmZnZP5qZmZmZmdk/mpmZmZmZ2T+amZmZmZnZP5qZmZmZmdk/MzMzMzMz0z8zMzMzMzPTPzMzMzMzM9M/MzMzMzMz0z8zMzMzMzPTPw==",
          "dtype": "f8"
         },
         "yaxis": "y"
        }
       ],
       "layout": {
        "legend": {
         "tracegroupgap": 0
        },
        "template": {
         "data": {
          "bar": [
           {
            "error_x": {
             "color": "#2a3f5f"
            },
            "error_y": {
             "color": "#2a3f5f"
            },
            "marker": {
             "line": {
              "color": "#E5ECF6",
              "width": 0.5
             },
             "pattern": {
              "fillmode": "overlay",
              "size": 10,
              "solidity": 0.2
             }
            },
            "type": "bar"
           }
          ],
          "barpolar": [
           {
            "marker": {
             "line": {
              "color": "#E5ECF6",
              "width": 0.5
             },
             "pattern": {
              "fillmode": "overlay",
              "size": 10,
              "solidity": 0.2
             }
            },
            "type": "barpolar"
           }
          ],
          "carpet": [
           {
            "aaxis": {
             "endlinecolor": "#2a3f5f",
             "gridcolor": "white",
             "linecolor": "white",
             "minorgridcolor": "white",
             "startlinecolor": "#2a3f5f"
            },
            "baxis": {
             "endlinecolor": "#2a3f5f",
             "gridcolor": "white",
             "linecolor": "white",
             "minorgridcolor": "white",
             "startlinecolor": "#2a3f5f"
            },
            "type": "carpet"
           }
          ],
          "choropleth": [
           {
            "colorbar": {
             "outlinewidth": 0,
             "ticks": ""
            },
            "type": "choropleth"
           }
          ],
          "contour": [
           {
            "colorbar": {
             "outlinewidth": 0,
             "ticks": ""
            },
            "colorscale": [
             [
              0,
              "#0d0887"
             ],
             [
              0.1111111111111111,
              "#46039f"
             ],
             [
              0.2222222222222222,
              "#7201a8"
             ],
             [
              0.3333333333333333,
              "#9c179e"
             ],
             [
              0.4444444444444444,
              "#bd3786"
             ],
             [
              0.5555555555555556,
              "#d8576b"
             ],
             [
              0.6666666666666666,
              "#ed7953"
             ],
             [
              0.7777777777777778,
              "#fb9f3a"
             ],
             [
              0.8888888888888888,
              "#fdca26"
             ],
             [
              1,
              "#f0f921"
             ]
            ],
            "type": "contour"
           }
          ],
          "contourcarpet": [
           {
            "colorbar": {
             "outlinewidth": 0,
             "ticks": ""
            },
            "type": "contourcarpet"
           }
          ],
          "heatmap": [
           {
            "colorbar": {
             "outlinewidth": 0,
             "ticks": ""
            },
            "colorscale": [
             [
              0,
              "#0d0887"
             ],
             [
              0.1111111111111111,
              "#46039f"
             ],
             [
              0.2222222222222222,
              "#7201a8"
             ],
             [
              0.3333333333333333,
              "#9c179e"
             ],
             [
              0.4444444444444444,
              "#bd3786"
             ],
             [
              0.5555555555555556,
              "#d8576b"
             ],
             [
              0.6666666666666666,
              "#ed7953"
             ],
             [
              0.7777777777777778,
              "#fb9f3a"
             ],
             [
              0.8888888888888888,
              "#fdca26"
             ],
             [
              1,
              "#f0f921"
             ]
            ],
            "type": "heatmap"
           }
          ],
          "histogram": [
           {
            "marker": {
             "pattern": {
              "fillmode": "overlay",
              "size": 10,
              "solidity": 0.2
             }
            },
            "type": "histogram"
           }
          ],
          "histogram2d": [
           {
            "colorbar": {
             "outlinewidth": 0,
             "ticks": ""
            },
            "colorscale": [
             [
              0,
              "#0d0887"
             ],
             [
              0.1111111111111111,
              "#46039f"
             ],
             [
              0.2222222222222222,
              "#7201a8"
             ],
             [
              0.3333333333333333,
              "#9c179e"
             ],
             [
              0.4444444444444444,
              "#bd3786"
             ],
             [
              0.5555555555555556,
              "#d8576b"
             ],
             [
              0.6666666666666666,
              "#ed7953"
             ],
             [
              0.7777777777777778,
              "#fb9f3a"
             ],
             [
              0.8888888888888888,
              "#fdca26"
             ],
             [
              1,
              "#f0f921"
             ]
            ],
            "type": "histogram2d"
           }
          ],
          "histogram2dcontour": [
           {
            "colorbar": {
             "outlinewidth": 0,
             "ticks": ""
            },
            "colorscale": [
             [
              0,
              "#0d0887"
             ],
             [
              0.1111111111111111,
              "#46039f"
             ],
             [
              0.2222222222222222,
              "#7201a8"
             ],
             [
              0.3333333333333333,
              "#9c179e"
             ],
             [
              0.4444444444444444,
              "#bd3786"
             ],
             [
              0.5555555555555556,
              "#d8576b"
             ],
             [
              0.6666666666666666,
              "#ed7953"
             ],
             [
              0.7777777777777778,
              "#fb9f3a"
             ],
             [
              0.8888888888888888,
              "#fdca26"
             ],
             [
              1,
              "#f0f921"
             ]
            ],
            "type": "histogram2dcontour"
           }
          ],
          "mesh3d": [
           {
            "colorbar": {
             "outlinewidth": 0,
             "ticks": ""
            },
            "type": "mesh3d"
           }
          ],
          "parcoords": [
           {
            "line": {
             "colorbar": {
              "outlinewidth": 0,
              "ticks": ""
             }
            },
            "type": "parcoords"
           }
          ],
          "pie": [
           {
            "automargin": true,
            "type": "pie"
           }
          ],
          "scatter": [
           {
            "fillpattern": {
             "fillmode": "overlay",
             "size": 10,
             "solidity": 0.2
            },
            "type": "scatter"
           }
          ],
          "scatter3d": [
           {
            "line": {
             "colorbar": {
              "outlinewidth": 0,
              "ticks": ""
             }
            },
            "marker": {
             "colorbar": {
              "outlinewidth": 0,
              "ticks": ""
             }
            },
            "type": "scatter3d"
           }
          ],
          "scattercarpet": [
           {
            "marker": {
             "colorbar": {
              "outlinewidth": 0,
              "ticks": ""
             }
            },
            "type": "scattercarpet"
           }
          ],
          "scattergeo": [
           {
            "marker": {
             "colorbar": {
              "outlinewidth": 0,
              "ticks": ""
             }
            },
            "type": "scattergeo"
           }
          ],
          "scattergl": [
           {
            "marker": {
             "colorbar": {
              "outlinewidth": 0,
              "ticks": ""
             }
            },
            "type": "scattergl"
           }
          ],
          "scattermap": [
           {
            "marker": {
             "colorbar": {
              "outlinewidth": 0,
              "ticks": ""
             }
            },
            "type": "scattermap"
           }
          ],
          "scattermapbox": [
           {
            "marker": {
             "colorbar": {
              "outlinewidth": 0,
              "ticks": ""
             }
            },
            "type": "scattermapbox"
           }
          ],
          "scatterpolar": [
           {
            "marker": {
             "colorbar": {
              "outlinewidth": 0,
              "ticks": ""
             }
            },
            "type": "scatterpolar"
           }
          ],
          "scatterpolargl": [
           {
            "marker": {
             "colorbar": {
              "outlinewidth": 0,
              "ticks": ""
             }
            },
            "type": "scatterpolargl"
           }
          ],
          "scatterternary": [
           {
            "marker": {
             "colorbar": {
              "outlinewidth": 0,
              "ticks": ""
             }
            },
            "type": "scatterternary"
           }
          ],
          "surface": [
           {
            "colorbar": {
             "outlinewidth": 0,
             "ticks": ""
            },
            "colorscale": [
             [
              0,
              "#0d0887"
             ],
             [
              0.1111111111111111,
              "#46039f"
             ],
             [
              0.2222222222222222,
              "#7201a8"
             ],
             [
              0.3333333333333333,
              "#9c179e"
             ],
             [
              0.4444444444444444,
              "#bd3786"
             ],
             [
              0.5555555555555556,
              "#d8576b"
             ],
             [
              0.6666666666666666,
              "#ed7953"
             ],
             [
              0.7777777777777778,
              "#fb9f3a"
             ],
             [
              0.8888888888888888,
              "#fdca26"
             ],
             [
              1,
              "#f0f921"
             ]
            ],
            "type": "surface"
           }
          ],
          "table": [
           {
            "cells": {
             "fill": {
              "color": "#EBF0F8"
             },
             "line": {
              "color": "white"
             }
            },
            "header": {
             "fill": {
              "color": "#C8D4E3"
             },
             "line": {
              "color": "white"
             }
            },
            "type": "table"
           }
          ]
         },
         "layout": {
          "annotationdefaults": {
           "arrowcolor": "#2a3f5f",
           "arrowhead": 0,
           "arrowwidth": 1
          },
          "autotypenumbers": "strict",
          "coloraxis": {
           "colorbar": {
            "outlinewidth": 0,
            "ticks": ""
           }
          },
          "colorscale": {
           "diverging": [
            [
             0,
             "#8e0152"
            ],
            [
             0.1,
             "#c51b7d"
            ],
            [
             0.2,
             "#de77ae"
            ],
            [
             0.3,
             "#f1b6da"
            ],
            [
             0.4,
             "#fde0ef"
            ],
            [
             0.5,
             "#f7f7f7"
            ],
            [
             0.6,
             "#e6f5d0"
            ],
            [
             0.7,
             "#b8e186"
            ],
            [
             0.8,
             "#7fbc41"
            ],
            [
             0.9,
             "#4d9221"
            ],
            [
             1,
             "#276419"
            ]
           ],
           "sequential": [
            [
             0,
             "#0d0887"
            ],
            [
             0.1111111111111111,
             "#46039f"
            ],
            [
             0.2222222222222222,
             "#7201a8"
            ],
            [
             0.3333333333333333,
             "#9c179e"
            ],
            [
             0.4444444444444444,
             "#bd3786"
            ],
            [
             0.5555555555555556,
             "#d8576b"
            ],
            [
             0.6666666666666666,
             "#ed7953"
            ],
            [
             0.7777777777777778,
             "#fb9f3a"
            ],
            [
             0.8888888888888888,
             "#fdca26"
            ],
            [
             1,
             "#f0f921"
            ]
           ],
           "sequentialminus": [
            [
             0,
             "#0d0887"
            ],
            [
             0.1111111111111111,
             "#46039f"
            ],
            [
             0.2222222222222222,
             "#7201a8"
            ],
            [
             0.3333333333333333,
             "#9c179e"
            ],
            [
             0.4444444444444444,
             "#bd3786"
            ],
            [
             0.5555555555555556,
             "#d8576b"
            ],
            [
             0.6666666666666666,
             "#ed7953"
            ],
            [
             0.7777777777777778,
             "#fb9f3a"
            ],
            [
             0.8888888888888888,
             "#fdca26"
            ],
            [
             1,
             "#f0f921"
            ]
           ]
          },
          "colorway": [
           "#636efa",
           "#EF553B",
           "#00cc96",
           "#ab63fa",
           "#FFA15A",
           "#19d3f3",
           "#FF6692",
           "#B6E880",
           "#FF97FF",
           "#FECB52"
          ],
          "font": {
           "color": "#2a3f5f"
          },
          "geo": {
           "bgcolor": "white",
           "lakecolor": "white",
           "landcolor": "#E5ECF6",
           "showlakes": true,
           "showland": true,
           "subunitcolor": "white"
          },
          "hoverlabel": {
           "align": "left"
          },
          "hovermode": "closest",
          "mapbox": {
           "style": "light"
          },
          "paper_bgcolor": "white",
          "plot_bgcolor": "#E5ECF6",
          "polar": {
           "angularaxis": {
            "gridcolor": "white",
            "linecolor": "white",
            "ticks": ""
           },
           "bgcolor": "#E5ECF6",
           "radialaxis": {
            "gridcolor": "white",
            "linecolor": "white",
            "ticks": ""
           }
          },
          "scene": {
           "xaxis": {
            "backgroundcolor": "#E5ECF6",
            "gridcolor": "white",
            "gridwidth": 2,
            "linecolor": "white",
            "showbackground": true,
            "ticks": "",
            "zerolinecolor": "white"
           },
           "yaxis": {
            "backgroundcolor": "#E5ECF6",
            "gridcolor": "white",
            "gridwidth": 2,
            "linecolor": "white",
            "showbackground": true,
            "ticks": "",
            "zerolinecolor": "white"
           },
           "zaxis": {
            "backgroundcolor": "#E5ECF6",
            "gridcolor": "white",
            "gridwidth": 2,
            "linecolor": "white",
            "showbackground": true,
            "ticks": "",
            "zerolinecolor": "white"
           }
          },
          "shapedefaults": {
           "line": {
            "color": "#2a3f5f"
           }
          },
          "ternary": {
           "aaxis": {
            "gridcolor": "white",
            "linecolor": "white",
            "ticks": ""
           },
           "baxis": {
            "gridcolor": "white",
            "linecolor": "white",
            "ticks": ""
           },
           "bgcolor": "#E5ECF6",
           "caxis": {
            "gridcolor": "white",
            "linecolor": "white",
            "ticks": ""
           }
          },
          "title": {
           "x": 0.05
          },
          "xaxis": {
           "automargin": true,
           "gridcolor": "white",
           "linecolor": "white",
           "ticks": "",
           "title": {
            "standoff": 15
           },
           "zerolinecolor": "white",
           "zerolinewidth": 2
          },
          "yaxis": {
           "automargin": true,
           "gridcolor": "white",
           "linecolor": "white",
           "ticks": "",
           "title": {
            "standoff": 15
           },
           "zerolinecolor": "white",
           "zerolinewidth": 2
          }
         }
        },
        "title": {
         "text": "Undernourishment Trend Over Time"
        },
        "xaxis": {
         "anchor": "y",
         "domain": [
          0,
          1
         ],
         "title": {
          "text": "Year"
         }
        },
        "yaxis": {
         "anchor": "x",
         "domain": [
          0,
          1
         ],
         "title": {
          "text": "million No"
         }
        }
       }
      }
     },
     "metadata": {},
     "output_type": "display_data"
    }
   ],
   "source": [
    "import plotly.express as px\n",
    "\n",
    "# Filter for a specific indicator (Modify as needed)\n",
    "df_filtered = df[df['Item'].str.contains('undernourished', case=False, na=False)]\n",
    "\n",
    "# Convert Year to string for proper plotting\n",
    "df_filtered['Year'] = df_filtered['Year'].astype(str)\n",
    "\n",
    "# Line Chart\n",
    "fig = px.line(df_filtered, x='Year', y='Value', \n",
    "              title='Undernourishment Trend Over Time',\n",
    "              labels={'Value': df_filtered['Unit'].iloc[0]},\n",
    "              markers=True)\n",
    "\n",
    "fig.show()"
   ]
  },
  {
   "cell_type": "markdown",
   "id": "145c2a9a-5436-4770-a037-26fa3fc7b7b8",
   "metadata": {},
   "source": [
    "# 02- Bar Chart – Comparing Food Security Indicators in a Specific Year"
   ]
  },
  {
   "cell_type": "code",
   "execution_count": 26,
   "id": "0d1cfc30-a0e8-4205-829d-4be974596bba",
   "metadata": {},
   "outputs": [
    {
     "data": {
      "application/vnd.plotly.v1+json": {
       "config": {
        "plotlyServerURL": "https://plot.ly"
       },
       "data": [
        {
         "hovertemplate": "Item=%{x}<br>Measurement=%{y}<extra></extra>",
         "legendgroup": "",
         "marker": {
          "color": "#636efa",
          "pattern": {
           "shape": ""
          }
         },
         "name": "",
         "orientation": "v",
         "showlegend": false,
         "textposition": "auto",
         "texttemplate": "%{y}",
         "type": "bar",
         "x": [
          "Number of people undernourished (million) (3-year average)",
          "Number of people undernourished (million) (3-year average)"
         ],
         "xaxis": "x",
         "y": {
          "bdata": "AAAAAAAAOECamZmZmZnZPw==",
          "dtype": "f8"
         },
         "yaxis": "y"
        }
       ],
       "layout": {
        "barmode": "relative",
        "legend": {
         "tracegroupgap": 0
        },
        "template": {
         "data": {
          "bar": [
           {
            "error_x": {
             "color": "#2a3f5f"
            },
            "error_y": {
             "color": "#2a3f5f"
            },
            "marker": {
             "line": {
              "color": "#E5ECF6",
              "width": 0.5
             },
             "pattern": {
              "fillmode": "overlay",
              "size": 10,
              "solidity": 0.2
             }
            },
            "type": "bar"
           }
          ],
          "barpolar": [
           {
            "marker": {
             "line": {
              "color": "#E5ECF6",
              "width": 0.5
             },
             "pattern": {
              "fillmode": "overlay",
              "size": 10,
              "solidity": 0.2
             }
            },
            "type": "barpolar"
           }
          ],
          "carpet": [
           {
            "aaxis": {
             "endlinecolor": "#2a3f5f",
             "gridcolor": "white",
             "linecolor": "white",
             "minorgridcolor": "white",
             "startlinecolor": "#2a3f5f"
            },
            "baxis": {
             "endlinecolor": "#2a3f5f",
             "gridcolor": "white",
             "linecolor": "white",
             "minorgridcolor": "white",
             "startlinecolor": "#2a3f5f"
            },
            "type": "carpet"
           }
          ],
          "choropleth": [
           {
            "colorbar": {
             "outlinewidth": 0,
             "ticks": ""
            },
            "type": "choropleth"
           }
          ],
          "contour": [
           {
            "colorbar": {
             "outlinewidth": 0,
             "ticks": ""
            },
            "colorscale": [
             [
              0,
              "#0d0887"
             ],
             [
              0.1111111111111111,
              "#46039f"
             ],
             [
              0.2222222222222222,
              "#7201a8"
             ],
             [
              0.3333333333333333,
              "#9c179e"
             ],
             [
              0.4444444444444444,
              "#bd3786"
             ],
             [
              0.5555555555555556,
              "#d8576b"
             ],
             [
              0.6666666666666666,
              "#ed7953"
             ],
             [
              0.7777777777777778,
              "#fb9f3a"
             ],
             [
              0.8888888888888888,
              "#fdca26"
             ],
             [
              1,
              "#f0f921"
             ]
            ],
            "type": "contour"
           }
          ],
          "contourcarpet": [
           {
            "colorbar": {
             "outlinewidth": 0,
             "ticks": ""
            },
            "type": "contourcarpet"
           }
          ],
          "heatmap": [
           {
            "colorbar": {
             "outlinewidth": 0,
             "ticks": ""
            },
            "colorscale": [
             [
              0,
              "#0d0887"
             ],
             [
              0.1111111111111111,
              "#46039f"
             ],
             [
              0.2222222222222222,
              "#7201a8"
             ],
             [
              0.3333333333333333,
              "#9c179e"
             ],
             [
              0.4444444444444444,
              "#bd3786"
             ],
             [
              0.5555555555555556,
              "#d8576b"
             ],
             [
              0.6666666666666666,
              "#ed7953"
             ],
             [
              0.7777777777777778,
              "#fb9f3a"
             ],
             [
              0.8888888888888888,
              "#fdca26"
             ],
             [
              1,
              "#f0f921"
             ]
            ],
            "type": "heatmap"
           }
          ],
          "histogram": [
           {
            "marker": {
             "pattern": {
              "fillmode": "overlay",
              "size": 10,
              "solidity": 0.2
             }
            },
            "type": "histogram"
           }
          ],
          "histogram2d": [
           {
            "colorbar": {
             "outlinewidth": 0,
             "ticks": ""
            },
            "colorscale": [
             [
              0,
              "#0d0887"
             ],
             [
              0.1111111111111111,
              "#46039f"
             ],
             [
              0.2222222222222222,
              "#7201a8"
             ],
             [
              0.3333333333333333,
              "#9c179e"
             ],
             [
              0.4444444444444444,
              "#bd3786"
             ],
             [
              0.5555555555555556,
              "#d8576b"
             ],
             [
              0.6666666666666666,
              "#ed7953"
             ],
             [
              0.7777777777777778,
              "#fb9f3a"
             ],
             [
              0.8888888888888888,
              "#fdca26"
             ],
             [
              1,
              "#f0f921"
             ]
            ],
            "type": "histogram2d"
           }
          ],
          "histogram2dcontour": [
           {
            "colorbar": {
             "outlinewidth": 0,
             "ticks": ""
            },
            "colorscale": [
             [
              0,
              "#0d0887"
             ],
             [
              0.1111111111111111,
              "#46039f"
             ],
             [
              0.2222222222222222,
              "#7201a8"
             ],
             [
              0.3333333333333333,
              "#9c179e"
             ],
             [
              0.4444444444444444,
              "#bd3786"
             ],
             [
              0.5555555555555556,
              "#d8576b"
             ],
             [
              0.6666666666666666,
              "#ed7953"
             ],
             [
              0.7777777777777778,
              "#fb9f3a"
             ],
             [
              0.8888888888888888,
              "#fdca26"
             ],
             [
              1,
              "#f0f921"
             ]
            ],
            "type": "histogram2dcontour"
           }
          ],
          "mesh3d": [
           {
            "colorbar": {
             "outlinewidth": 0,
             "ticks": ""
            },
            "type": "mesh3d"
           }
          ],
          "parcoords": [
           {
            "line": {
             "colorbar": {
              "outlinewidth": 0,
              "ticks": ""
             }
            },
            "type": "parcoords"
           }
          ],
          "pie": [
           {
            "automargin": true,
            "type": "pie"
           }
          ],
          "scatter": [
           {
            "fillpattern": {
             "fillmode": "overlay",
             "size": 10,
             "solidity": 0.2
            },
            "type": "scatter"
           }
          ],
          "scatter3d": [
           {
            "line": {
             "colorbar": {
              "outlinewidth": 0,
              "ticks": ""
             }
            },
            "marker": {
             "colorbar": {
              "outlinewidth": 0,
              "ticks": ""
             }
            },
            "type": "scatter3d"
           }
          ],
          "scattercarpet": [
           {
            "marker": {
             "colorbar": {
              "outlinewidth": 0,
              "ticks": ""
             }
            },
            "type": "scattercarpet"
           }
          ],
          "scattergeo": [
           {
            "marker": {
             "colorbar": {
              "outlinewidth": 0,
              "ticks": ""
             }
            },
            "type": "scattergeo"
           }
          ],
          "scattergl": [
           {
            "marker": {
             "colorbar": {
              "outlinewidth": 0,
              "ticks": ""
             }
            },
            "type": "scattergl"
           }
          ],
          "scattermap": [
           {
            "marker": {
             "colorbar": {
              "outlinewidth": 0,
              "ticks": ""
             }
            },
            "type": "scattermap"
           }
          ],
          "scattermapbox": [
           {
            "marker": {
             "colorbar": {
              "outlinewidth": 0,
              "ticks": ""
             }
            },
            "type": "scattermapbox"
           }
          ],
          "scatterpolar": [
           {
            "marker": {
             "colorbar": {
              "outlinewidth": 0,
              "ticks": ""
             }
            },
            "type": "scatterpolar"
           }
          ],
          "scatterpolargl": [
           {
            "marker": {
             "colorbar": {
              "outlinewidth": 0,
              "ticks": ""
             }
            },
            "type": "scatterpolargl"
           }
          ],
          "scatterternary": [
           {
            "marker": {
             "colorbar": {
              "outlinewidth": 0,
              "ticks": ""
             }
            },
            "type": "scatterternary"
           }
          ],
          "surface": [
           {
            "colorbar": {
             "outlinewidth": 0,
             "ticks": ""
            },
            "colorscale": [
             [
              0,
              "#0d0887"
             ],
             [
              0.1111111111111111,
              "#46039f"
             ],
             [
              0.2222222222222222,
              "#7201a8"
             ],
             [
              0.3333333333333333,
              "#9c179e"
             ],
             [
              0.4444444444444444,
              "#bd3786"
             ],
             [
              0.5555555555555556,
              "#d8576b"
             ],
             [
              0.6666666666666666,
              "#ed7953"
             ],
             [
              0.7777777777777778,
              "#fb9f3a"
             ],
             [
              0.8888888888888888,
              "#fdca26"
             ],
             [
              1,
              "#f0f921"
             ]
            ],
            "type": "surface"
           }
          ],
          "table": [
           {
            "cells": {
             "fill": {
              "color": "#EBF0F8"
             },
             "line": {
              "color": "white"
             }
            },
            "header": {
             "fill": {
              "color": "#C8D4E3"
             },
             "line": {
              "color": "white"
             }
            },
            "type": "table"
           }
          ]
         },
         "layout": {
          "annotationdefaults": {
           "arrowcolor": "#2a3f5f",
           "arrowhead": 0,
           "arrowwidth": 1
          },
          "autotypenumbers": "strict",
          "coloraxis": {
           "colorbar": {
            "outlinewidth": 0,
            "ticks": ""
           }
          },
          "colorscale": {
           "diverging": [
            [
             0,
             "#8e0152"
            ],
            [
             0.1,
             "#c51b7d"
            ],
            [
             0.2,
             "#de77ae"
            ],
            [
             0.3,
             "#f1b6da"
            ],
            [
             0.4,
             "#fde0ef"
            ],
            [
             0.5,
             "#f7f7f7"
            ],
            [
             0.6,
             "#e6f5d0"
            ],
            [
             0.7,
             "#b8e186"
            ],
            [
             0.8,
             "#7fbc41"
            ],
            [
             0.9,
             "#4d9221"
            ],
            [
             1,
             "#276419"
            ]
           ],
           "sequential": [
            [
             0,
             "#0d0887"
            ],
            [
             0.1111111111111111,
             "#46039f"
            ],
            [
             0.2222222222222222,
             "#7201a8"
            ],
            [
             0.3333333333333333,
             "#9c179e"
            ],
            [
             0.4444444444444444,
             "#bd3786"
            ],
            [
             0.5555555555555556,
             "#d8576b"
            ],
            [
             0.6666666666666666,
             "#ed7953"
            ],
            [
             0.7777777777777778,
             "#fb9f3a"
            ],
            [
             0.8888888888888888,
             "#fdca26"
            ],
            [
             1,
             "#f0f921"
            ]
           ],
           "sequentialminus": [
            [
             0,
             "#0d0887"
            ],
            [
             0.1111111111111111,
             "#46039f"
            ],
            [
             0.2222222222222222,
             "#7201a8"
            ],
            [
             0.3333333333333333,
             "#9c179e"
            ],
            [
             0.4444444444444444,
             "#bd3786"
            ],
            [
             0.5555555555555556,
             "#d8576b"
            ],
            [
             0.6666666666666666,
             "#ed7953"
            ],
            [
             0.7777777777777778,
             "#fb9f3a"
            ],
            [
             0.8888888888888888,
             "#fdca26"
            ],
            [
             1,
             "#f0f921"
            ]
           ]
          },
          "colorway": [
           "#636efa",
           "#EF553B",
           "#00cc96",
           "#ab63fa",
           "#FFA15A",
           "#19d3f3",
           "#FF6692",
           "#B6E880",
           "#FF97FF",
           "#FECB52"
          ],
          "font": {
           "color": "#2a3f5f"
          },
          "geo": {
           "bgcolor": "white",
           "lakecolor": "white",
           "landcolor": "#E5ECF6",
           "showlakes": true,
           "showland": true,
           "subunitcolor": "white"
          },
          "hoverlabel": {
           "align": "left"
          },
          "hovermode": "closest",
          "mapbox": {
           "style": "light"
          },
          "paper_bgcolor": "white",
          "plot_bgcolor": "#E5ECF6",
          "polar": {
           "angularaxis": {
            "gridcolor": "white",
            "linecolor": "white",
            "ticks": ""
           },
           "bgcolor": "#E5ECF6",
           "radialaxis": {
            "gridcolor": "white",
            "linecolor": "white",
            "ticks": ""
           }
          },
          "scene": {
           "xaxis": {
            "backgroundcolor": "#E5ECF6",
            "gridcolor": "white",
            "gridwidth": 2,
            "linecolor": "white",
            "showbackground": true,
            "ticks": "",
            "zerolinecolor": "white"
           },
           "yaxis": {
            "backgroundcolor": "#E5ECF6",
            "gridcolor": "white",
            "gridwidth": 2,
            "linecolor": "white",
            "showbackground": true,
            "ticks": "",
            "zerolinecolor": "white"
           },
           "zaxis": {
            "backgroundcolor": "#E5ECF6",
            "gridcolor": "white",
            "gridwidth": 2,
            "linecolor": "white",
            "showbackground": true,
            "ticks": "",
            "zerolinecolor": "white"
           }
          },
          "shapedefaults": {
           "line": {
            "color": "#2a3f5f"
           }
          },
          "ternary": {
           "aaxis": {
            "gridcolor": "white",
            "linecolor": "white",
            "ticks": ""
           },
           "baxis": {
            "gridcolor": "white",
            "linecolor": "white",
            "ticks": ""
           },
           "bgcolor": "#E5ECF6",
           "caxis": {
            "gridcolor": "white",
            "linecolor": "white",
            "ticks": ""
           }
          },
          "title": {
           "x": 0.05
          },
          "xaxis": {
           "automargin": true,
           "gridcolor": "white",
           "linecolor": "white",
           "ticks": "",
           "title": {
            "standoff": 15
           },
           "zerolinecolor": "white",
           "zerolinewidth": 2
          },
          "yaxis": {
           "automargin": true,
           "gridcolor": "white",
           "linecolor": "white",
           "ticks": "",
           "title": {
            "standoff": 15
           },
           "zerolinecolor": "white",
           "zerolinewidth": 2
          }
         }
        },
        "title": {
         "text": "Food Security Indicators in 2015-2017"
        },
        "xaxis": {
         "anchor": "y",
         "domain": [
          0,
          1
         ],
         "tickangle": -45,
         "title": {
          "text": "Item"
         }
        },
        "yaxis": {
         "anchor": "x",
         "domain": [
          0,
          1
         ],
         "title": {
          "text": "Measurement"
         }
        }
       }
      }
     },
     "metadata": {},
     "output_type": "display_data"
    }
   ],
   "source": [
    "# Select a specific year (Modify as needed)\n",
    "year_selected = '2015-2017'\n",
    "df_year = df[df['Year'] == year_selected]\n",
    "\n",
    "# Bar Chart\n",
    "fig = px.bar(df_year, x='Item', y='Value', \n",
    "             title=f'Food Security Indicators in {year_selected}',\n",
    "             labels={'Value': 'Measurement'},\n",
    "             text_auto=True)\n",
    "\n",
    "fig.update_layout(xaxis_tickangle=-45)\n",
    "fig.show()"
   ]
  },
  {
   "cell_type": "markdown",
   "id": "70768882-0d35-4c81-a2d3-c37e3b4de756",
   "metadata": {},
   "source": [
    "# 03-Multi-Line Chart – Comparison of Multiple Indicators"
   ]
  },
  {
   "cell_type": "code",
   "execution_count": 27,
   "id": "2e09c3ba-dc6b-4d12-b175-5bf15c6892aa",
   "metadata": {},
   "outputs": [
    {
     "data": {
      "application/vnd.plotly.v1+json": {
       "config": {
        "plotlyServerURL": "https://plot.ly"
       },
       "data": [
        {
         "hovertemplate": "Item=Number of people undernourished (million) (3-year average)<br>Year=%{x}<br>Measurement=%{y}<extra></extra>",
         "legendgroup": "Number of people undernourished (million) (3-year average)",
         "line": {
          "color": "#636efa",
          "dash": "solid"
         },
         "marker": {
          "symbol": "circle"
         },
         "mode": "lines+markers",
         "name": "Number of people undernourished (million) (3-year average)",
         "orientation": "v",
         "showlegend": true,
         "type": "scatter",
         "x": [
          "2000-2002",
          "2001-2003",
          "2002-2004",
          "2003-2005",
          "2004-2006",
          "2005-2007",
          "2006-2008",
          "2007-2009",
          "2008-2010",
          "2009-2011",
          "2010-2012",
          "2011-2013",
          "2012-2014",
          "2013-2015",
          "2014-2016",
          "2015-2017",
          "2016-2018",
          "2017-2019",
          "2018-2020",
          "2019-2021",
          "2020-2022",
          "2021-2023",
          "2000-2002",
          "2001-2003",
          "2002-2004",
          "2003-2005",
          "2004-2006",
          "2005-2007",
          "2006-2008",
          "2007-2009",
          "2008-2010",
          "2009-2011",
          "2010-2012",
          "2011-2013",
          "2012-2014",
          "2013-2015",
          "2014-2016",
          "2015-2017",
          "2016-2018",
          "2017-2019",
          "2018-2020",
          "2019-2021",
          "2020-2022",
          "2021-2023"
         ],
         "xaxis": "x",
         "y": {
          "bdata": "MzMzMzNzQEBmZmZmZmZBQM3MzMzMDEFAAAAAAACAP0AzMzMzM7M9QJqZmZmZGTxAMzMzMzOzO0AzMzMzMzM8QM3MzMzMzDxAZmZmZmbmPEDNzMzMzMw8QDMzMzMzMz1AAAAAAAAAPEAAAAAAAAA7QGZmZmZm5jhAAAAAAAAAOEBmZmZmZuY2QM3MzMzMzDdAMzMzMzOzPEAAAAAAAABCQJqZmZmZ2UVAZmZmZmZmSECamZmZmZm5P5qZmZmZmbk/mpmZmZmZyT8zMzMzMzPTPzMzMzMzM9M/mpmZmZmZ2T8AAAAAAADgPwAAAAAAAOA/MzMzMzMz4z8zMzMzMzPjPzMzMzMzM+M/mpmZmZmZ2T+amZmZmZnZP5qZmZmZmdk/mpmZmZmZ2T+amZmZmZnZP5qZmZmZmdk/MzMzMzMz0z8zMzMzMzPTPzMzMzMzM9M/MzMzMzMz0z8zMzMzMzPTPw==",
          "dtype": "f8"
         },
         "yaxis": "y"
        }
       ],
       "layout": {
        "legend": {
         "title": {
          "text": "Item"
         },
         "tracegroupgap": 0
        },
        "template": {
         "data": {
          "bar": [
           {
            "error_x": {
             "color": "#2a3f5f"
            },
            "error_y": {
             "color": "#2a3f5f"
            },
            "marker": {
             "line": {
              "color": "#E5ECF6",
              "width": 0.5
             },
             "pattern": {
              "fillmode": "overlay",
              "size": 10,
              "solidity": 0.2
             }
            },
            "type": "bar"
           }
          ],
          "barpolar": [
           {
            "marker": {
             "line": {
              "color": "#E5ECF6",
              "width": 0.5
             },
             "pattern": {
              "fillmode": "overlay",
              "size": 10,
              "solidity": 0.2
             }
            },
            "type": "barpolar"
           }
          ],
          "carpet": [
           {
            "aaxis": {
             "endlinecolor": "#2a3f5f",
             "gridcolor": "white",
             "linecolor": "white",
             "minorgridcolor": "white",
             "startlinecolor": "#2a3f5f"
            },
            "baxis": {
             "endlinecolor": "#2a3f5f",
             "gridcolor": "white",
             "linecolor": "white",
             "minorgridcolor": "white",
             "startlinecolor": "#2a3f5f"
            },
            "type": "carpet"
           }
          ],
          "choropleth": [
           {
            "colorbar": {
             "outlinewidth": 0,
             "ticks": ""
            },
            "type": "choropleth"
           }
          ],
          "contour": [
           {
            "colorbar": {
             "outlinewidth": 0,
             "ticks": ""
            },
            "colorscale": [
             [
              0,
              "#0d0887"
             ],
             [
              0.1111111111111111,
              "#46039f"
             ],
             [
              0.2222222222222222,
              "#7201a8"
             ],
             [
              0.3333333333333333,
              "#9c179e"
             ],
             [
              0.4444444444444444,
              "#bd3786"
             ],
             [
              0.5555555555555556,
              "#d8576b"
             ],
             [
              0.6666666666666666,
              "#ed7953"
             ],
             [
              0.7777777777777778,
              "#fb9f3a"
             ],
             [
              0.8888888888888888,
              "#fdca26"
             ],
             [
              1,
              "#f0f921"
             ]
            ],
            "type": "contour"
           }
          ],
          "contourcarpet": [
           {
            "colorbar": {
             "outlinewidth": 0,
             "ticks": ""
            },
            "type": "contourcarpet"
           }
          ],
          "heatmap": [
           {
            "colorbar": {
             "outlinewidth": 0,
             "ticks": ""
            },
            "colorscale": [
             [
              0,
              "#0d0887"
             ],
             [
              0.1111111111111111,
              "#46039f"
             ],
             [
              0.2222222222222222,
              "#7201a8"
             ],
             [
              0.3333333333333333,
              "#9c179e"
             ],
             [
              0.4444444444444444,
              "#bd3786"
             ],
             [
              0.5555555555555556,
              "#d8576b"
             ],
             [
              0.6666666666666666,
              "#ed7953"
             ],
             [
              0.7777777777777778,
              "#fb9f3a"
             ],
             [
              0.8888888888888888,
              "#fdca26"
             ],
             [
              1,
              "#f0f921"
             ]
            ],
            "type": "heatmap"
           }
          ],
          "histogram": [
           {
            "marker": {
             "pattern": {
              "fillmode": "overlay",
              "size": 10,
              "solidity": 0.2
             }
            },
            "type": "histogram"
           }
          ],
          "histogram2d": [
           {
            "colorbar": {
             "outlinewidth": 0,
             "ticks": ""
            },
            "colorscale": [
             [
              0,
              "#0d0887"
             ],
             [
              0.1111111111111111,
              "#46039f"
             ],
             [
              0.2222222222222222,
              "#7201a8"
             ],
             [
              0.3333333333333333,
              "#9c179e"
             ],
             [
              0.4444444444444444,
              "#bd3786"
             ],
             [
              0.5555555555555556,
              "#d8576b"
             ],
             [
              0.6666666666666666,
              "#ed7953"
             ],
             [
              0.7777777777777778,
              "#fb9f3a"
             ],
             [
              0.8888888888888888,
              "#fdca26"
             ],
             [
              1,
              "#f0f921"
             ]
            ],
            "type": "histogram2d"
           }
          ],
          "histogram2dcontour": [
           {
            "colorbar": {
             "outlinewidth": 0,
             "ticks": ""
            },
            "colorscale": [
             [
              0,
              "#0d0887"
             ],
             [
              0.1111111111111111,
              "#46039f"
             ],
             [
              0.2222222222222222,
              "#7201a8"
             ],
             [
              0.3333333333333333,
              "#9c179e"
             ],
             [
              0.4444444444444444,
              "#bd3786"
             ],
             [
              0.5555555555555556,
              "#d8576b"
             ],
             [
              0.6666666666666666,
              "#ed7953"
             ],
             [
              0.7777777777777778,
              "#fb9f3a"
             ],
             [
              0.8888888888888888,
              "#fdca26"
             ],
             [
              1,
              "#f0f921"
             ]
            ],
            "type": "histogram2dcontour"
           }
          ],
          "mesh3d": [
           {
            "colorbar": {
             "outlinewidth": 0,
             "ticks": ""
            },
            "type": "mesh3d"
           }
          ],
          "parcoords": [
           {
            "line": {
             "colorbar": {
              "outlinewidth": 0,
              "ticks": ""
             }
            },
            "type": "parcoords"
           }
          ],
          "pie": [
           {
            "automargin": true,
            "type": "pie"
           }
          ],
          "scatter": [
           {
            "fillpattern": {
             "fillmode": "overlay",
             "size": 10,
             "solidity": 0.2
            },
            "type": "scatter"
           }
          ],
          "scatter3d": [
           {
            "line": {
             "colorbar": {
              "outlinewidth": 0,
              "ticks": ""
             }
            },
            "marker": {
             "colorbar": {
              "outlinewidth": 0,
              "ticks": ""
             }
            },
            "type": "scatter3d"
           }
          ],
          "scattercarpet": [
           {
            "marker": {
             "colorbar": {
              "outlinewidth": 0,
              "ticks": ""
             }
            },
            "type": "scattercarpet"
           }
          ],
          "scattergeo": [
           {
            "marker": {
             "colorbar": {
              "outlinewidth": 0,
              "ticks": ""
             }
            },
            "type": "scattergeo"
           }
          ],
          "scattergl": [
           {
            "marker": {
             "colorbar": {
              "outlinewidth": 0,
              "ticks": ""
             }
            },
            "type": "scattergl"
           }
          ],
          "scattermap": [
           {
            "marker": {
             "colorbar": {
              "outlinewidth": 0,
              "ticks": ""
             }
            },
            "type": "scattermap"
           }
          ],
          "scattermapbox": [
           {
            "marker": {
             "colorbar": {
              "outlinewidth": 0,
              "ticks": ""
             }
            },
            "type": "scattermapbox"
           }
          ],
          "scatterpolar": [
           {
            "marker": {
             "colorbar": {
              "outlinewidth": 0,
              "ticks": ""
             }
            },
            "type": "scatterpolar"
           }
          ],
          "scatterpolargl": [
           {
            "marker": {
             "colorbar": {
              "outlinewidth": 0,
              "ticks": ""
             }
            },
            "type": "scatterpolargl"
           }
          ],
          "scatterternary": [
           {
            "marker": {
             "colorbar": {
              "outlinewidth": 0,
              "ticks": ""
             }
            },
            "type": "scatterternary"
           }
          ],
          "surface": [
           {
            "colorbar": {
             "outlinewidth": 0,
             "ticks": ""
            },
            "colorscale": [
             [
              0,
              "#0d0887"
             ],
             [
              0.1111111111111111,
              "#46039f"
             ],
             [
              0.2222222222222222,
              "#7201a8"
             ],
             [
              0.3333333333333333,
              "#9c179e"
             ],
             [
              0.4444444444444444,
              "#bd3786"
             ],
             [
              0.5555555555555556,
              "#d8576b"
             ],
             [
              0.6666666666666666,
              "#ed7953"
             ],
             [
              0.7777777777777778,
              "#fb9f3a"
             ],
             [
              0.8888888888888888,
              "#fdca26"
             ],
             [
              1,
              "#f0f921"
             ]
            ],
            "type": "surface"
           }
          ],
          "table": [
           {
            "cells": {
             "fill": {
              "color": "#EBF0F8"
             },
             "line": {
              "color": "white"
             }
            },
            "header": {
             "fill": {
              "color": "#C8D4E3"
             },
             "line": {
              "color": "white"
             }
            },
            "type": "table"
           }
          ]
         },
         "layout": {
          "annotationdefaults": {
           "arrowcolor": "#2a3f5f",
           "arrowhead": 0,
           "arrowwidth": 1
          },
          "autotypenumbers": "strict",
          "coloraxis": {
           "colorbar": {
            "outlinewidth": 0,
            "ticks": ""
           }
          },
          "colorscale": {
           "diverging": [
            [
             0,
             "#8e0152"
            ],
            [
             0.1,
             "#c51b7d"
            ],
            [
             0.2,
             "#de77ae"
            ],
            [
             0.3,
             "#f1b6da"
            ],
            [
             0.4,
             "#fde0ef"
            ],
            [
             0.5,
             "#f7f7f7"
            ],
            [
             0.6,
             "#e6f5d0"
            ],
            [
             0.7,
             "#b8e186"
            ],
            [
             0.8,
             "#7fbc41"
            ],
            [
             0.9,
             "#4d9221"
            ],
            [
             1,
             "#276419"
            ]
           ],
           "sequential": [
            [
             0,
             "#0d0887"
            ],
            [
             0.1111111111111111,
             "#46039f"
            ],
            [
             0.2222222222222222,
             "#7201a8"
            ],
            [
             0.3333333333333333,
             "#9c179e"
            ],
            [
             0.4444444444444444,
             "#bd3786"
            ],
            [
             0.5555555555555556,
             "#d8576b"
            ],
            [
             0.6666666666666666,
             "#ed7953"
            ],
            [
             0.7777777777777778,
             "#fb9f3a"
            ],
            [
             0.8888888888888888,
             "#fdca26"
            ],
            [
             1,
             "#f0f921"
            ]
           ],
           "sequentialminus": [
            [
             0,
             "#0d0887"
            ],
            [
             0.1111111111111111,
             "#46039f"
            ],
            [
             0.2222222222222222,
             "#7201a8"
            ],
            [
             0.3333333333333333,
             "#9c179e"
            ],
            [
             0.4444444444444444,
             "#bd3786"
            ],
            [
             0.5555555555555556,
             "#d8576b"
            ],
            [
             0.6666666666666666,
             "#ed7953"
            ],
            [
             0.7777777777777778,
             "#fb9f3a"
            ],
            [
             0.8888888888888888,
             "#fdca26"
            ],
            [
             1,
             "#f0f921"
            ]
           ]
          },
          "colorway": [
           "#636efa",
           "#EF553B",
           "#00cc96",
           "#ab63fa",
           "#FFA15A",
           "#19d3f3",
           "#FF6692",
           "#B6E880",
           "#FF97FF",
           "#FECB52"
          ],
          "font": {
           "color": "#2a3f5f"
          },
          "geo": {
           "bgcolor": "white",
           "lakecolor": "white",
           "landcolor": "#E5ECF6",
           "showlakes": true,
           "showland": true,
           "subunitcolor": "white"
          },
          "hoverlabel": {
           "align": "left"
          },
          "hovermode": "closest",
          "mapbox": {
           "style": "light"
          },
          "paper_bgcolor": "white",
          "plot_bgcolor": "#E5ECF6",
          "polar": {
           "angularaxis": {
            "gridcolor": "white",
            "linecolor": "white",
            "ticks": ""
           },
           "bgcolor": "#E5ECF6",
           "radialaxis": {
            "gridcolor": "white",
            "linecolor": "white",
            "ticks": ""
           }
          },
          "scene": {
           "xaxis": {
            "backgroundcolor": "#E5ECF6",
            "gridcolor": "white",
            "gridwidth": 2,
            "linecolor": "white",
            "showbackground": true,
            "ticks": "",
            "zerolinecolor": "white"
           },
           "yaxis": {
            "backgroundcolor": "#E5ECF6",
            "gridcolor": "white",
            "gridwidth": 2,
            "linecolor": "white",
            "showbackground": true,
            "ticks": "",
            "zerolinecolor": "white"
           },
           "zaxis": {
            "backgroundcolor": "#E5ECF6",
            "gridcolor": "white",
            "gridwidth": 2,
            "linecolor": "white",
            "showbackground": true,
            "ticks": "",
            "zerolinecolor": "white"
           }
          },
          "shapedefaults": {
           "line": {
            "color": "#2a3f5f"
           }
          },
          "ternary": {
           "aaxis": {
            "gridcolor": "white",
            "linecolor": "white",
            "ticks": ""
           },
           "baxis": {
            "gridcolor": "white",
            "linecolor": "white",
            "ticks": ""
           },
           "bgcolor": "#E5ECF6",
           "caxis": {
            "gridcolor": "white",
            "linecolor": "white",
            "ticks": ""
           }
          },
          "title": {
           "x": 0.05
          },
          "xaxis": {
           "automargin": true,
           "gridcolor": "white",
           "linecolor": "white",
           "ticks": "",
           "title": {
            "standoff": 15
           },
           "zerolinecolor": "white",
           "zerolinewidth": 2
          },
          "yaxis": {
           "automargin": true,
           "gridcolor": "white",
           "linecolor": "white",
           "ticks": "",
           "title": {
            "standoff": 15
           },
           "zerolinecolor": "white",
           "zerolinewidth": 2
          }
         }
        },
        "title": {
         "text": "Comparison of Food Security Indicators Over Time"
        },
        "xaxis": {
         "anchor": "y",
         "domain": [
          0,
          1
         ],
         "title": {
          "text": "Year"
         }
        },
        "yaxis": {
         "anchor": "x",
         "domain": [
          0,
          1
         ],
         "title": {
          "text": "Measurement"
         }
        }
       }
      }
     },
     "metadata": {},
     "output_type": "display_data"
    }
   ],
   "source": [
    "fig = px.line(df, x='Year', y='Value', color='Item', \n",
    "              title='Comparison of Food Security Indicators Over Time',\n",
    "              labels={'Value': 'Measurement'},\n",
    "              markers=True)\n",
    "\n",
    "fig.show()"
   ]
  },
  {
   "cell_type": "markdown",
   "id": "a0adb2ed-f7ac-445f-96c5-bcdc32a31e54",
   "metadata": {},
   "source": [
    "# 04-Scatter Plot – Relationship Between Two Indicators"
   ]
  },
  {
   "cell_type": "code",
   "execution_count": 28,
   "id": "090645ca-a74b-468e-85c7-a0aa1613717b",
   "metadata": {},
   "outputs": [
    {
     "data": {
      "application/vnd.plotly.v1+json": {
       "config": {
        "plotlyServerURL": "https://plot.ly"
       },
       "data": [
        {
         "hovertemplate": "Number of people undernourished=%{x}<br>Prevalence of undernourishment=%{y}<extra></extra>",
         "legendgroup": "",
         "marker": {
          "color": "#636efa",
          "symbol": "circle"
         },
         "mode": "markers",
         "name": "",
         "orientation": "v",
         "showlegend": false,
         "type": "scatter",
         "x": [],
         "xaxis": "x",
         "y": [],
         "yaxis": "y"
        }
       ],
       "layout": {
        "legend": {
         "tracegroupgap": 0
        },
        "template": {
         "data": {
          "bar": [
           {
            "error_x": {
             "color": "#2a3f5f"
            },
            "error_y": {
             "color": "#2a3f5f"
            },
            "marker": {
             "line": {
              "color": "#E5ECF6",
              "width": 0.5
             },
             "pattern": {
              "fillmode": "overlay",
              "size": 10,
              "solidity": 0.2
             }
            },
            "type": "bar"
           }
          ],
          "barpolar": [
           {
            "marker": {
             "line": {
              "color": "#E5ECF6",
              "width": 0.5
             },
             "pattern": {
              "fillmode": "overlay",
              "size": 10,
              "solidity": 0.2
             }
            },
            "type": "barpolar"
           }
          ],
          "carpet": [
           {
            "aaxis": {
             "endlinecolor": "#2a3f5f",
             "gridcolor": "white",
             "linecolor": "white",
             "minorgridcolor": "white",
             "startlinecolor": "#2a3f5f"
            },
            "baxis": {
             "endlinecolor": "#2a3f5f",
             "gridcolor": "white",
             "linecolor": "white",
             "minorgridcolor": "white",
             "startlinecolor": "#2a3f5f"
            },
            "type": "carpet"
           }
          ],
          "choropleth": [
           {
            "colorbar": {
             "outlinewidth": 0,
             "ticks": ""
            },
            "type": "choropleth"
           }
          ],
          "contour": [
           {
            "colorbar": {
             "outlinewidth": 0,
             "ticks": ""
            },
            "colorscale": [
             [
              0,
              "#0d0887"
             ],
             [
              0.1111111111111111,
              "#46039f"
             ],
             [
              0.2222222222222222,
              "#7201a8"
             ],
             [
              0.3333333333333333,
              "#9c179e"
             ],
             [
              0.4444444444444444,
              "#bd3786"
             ],
             [
              0.5555555555555556,
              "#d8576b"
             ],
             [
              0.6666666666666666,
              "#ed7953"
             ],
             [
              0.7777777777777778,
              "#fb9f3a"
             ],
             [
              0.8888888888888888,
              "#fdca26"
             ],
             [
              1,
              "#f0f921"
             ]
            ],
            "type": "contour"
           }
          ],
          "contourcarpet": [
           {
            "colorbar": {
             "outlinewidth": 0,
             "ticks": ""
            },
            "type": "contourcarpet"
           }
          ],
          "heatmap": [
           {
            "colorbar": {
             "outlinewidth": 0,
             "ticks": ""
            },
            "colorscale": [
             [
              0,
              "#0d0887"
             ],
             [
              0.1111111111111111,
              "#46039f"
             ],
             [
              0.2222222222222222,
              "#7201a8"
             ],
             [
              0.3333333333333333,
              "#9c179e"
             ],
             [
              0.4444444444444444,
              "#bd3786"
             ],
             [
              0.5555555555555556,
              "#d8576b"
             ],
             [
              0.6666666666666666,
              "#ed7953"
             ],
             [
              0.7777777777777778,
              "#fb9f3a"
             ],
             [
              0.8888888888888888,
              "#fdca26"
             ],
             [
              1,
              "#f0f921"
             ]
            ],
            "type": "heatmap"
           }
          ],
          "histogram": [
           {
            "marker": {
             "pattern": {
              "fillmode": "overlay",
              "size": 10,
              "solidity": 0.2
             }
            },
            "type": "histogram"
           }
          ],
          "histogram2d": [
           {
            "colorbar": {
             "outlinewidth": 0,
             "ticks": ""
            },
            "colorscale": [
             [
              0,
              "#0d0887"
             ],
             [
              0.1111111111111111,
              "#46039f"
             ],
             [
              0.2222222222222222,
              "#7201a8"
             ],
             [
              0.3333333333333333,
              "#9c179e"
             ],
             [
              0.4444444444444444,
              "#bd3786"
             ],
             [
              0.5555555555555556,
              "#d8576b"
             ],
             [
              0.6666666666666666,
              "#ed7953"
             ],
             [
              0.7777777777777778,
              "#fb9f3a"
             ],
             [
              0.8888888888888888,
              "#fdca26"
             ],
             [
              1,
              "#f0f921"
             ]
            ],
            "type": "histogram2d"
           }
          ],
          "histogram2dcontour": [
           {
            "colorbar": {
             "outlinewidth": 0,
             "ticks": ""
            },
            "colorscale": [
             [
              0,
              "#0d0887"
             ],
             [
              0.1111111111111111,
              "#46039f"
             ],
             [
              0.2222222222222222,
              "#7201a8"
             ],
             [
              0.3333333333333333,
              "#9c179e"
             ],
             [
              0.4444444444444444,
              "#bd3786"
             ],
             [
              0.5555555555555556,
              "#d8576b"
             ],
             [
              0.6666666666666666,
              "#ed7953"
             ],
             [
              0.7777777777777778,
              "#fb9f3a"
             ],
             [
              0.8888888888888888,
              "#fdca26"
             ],
             [
              1,
              "#f0f921"
             ]
            ],
            "type": "histogram2dcontour"
           }
          ],
          "mesh3d": [
           {
            "colorbar": {
             "outlinewidth": 0,
             "ticks": ""
            },
            "type": "mesh3d"
           }
          ],
          "parcoords": [
           {
            "line": {
             "colorbar": {
              "outlinewidth": 0,
              "ticks": ""
             }
            },
            "type": "parcoords"
           }
          ],
          "pie": [
           {
            "automargin": true,
            "type": "pie"
           }
          ],
          "scatter": [
           {
            "fillpattern": {
             "fillmode": "overlay",
             "size": 10,
             "solidity": 0.2
            },
            "type": "scatter"
           }
          ],
          "scatter3d": [
           {
            "line": {
             "colorbar": {
              "outlinewidth": 0,
              "ticks": ""
             }
            },
            "marker": {
             "colorbar": {
              "outlinewidth": 0,
              "ticks": ""
             }
            },
            "type": "scatter3d"
           }
          ],
          "scattercarpet": [
           {
            "marker": {
             "colorbar": {
              "outlinewidth": 0,
              "ticks": ""
             }
            },
            "type": "scattercarpet"
           }
          ],
          "scattergeo": [
           {
            "marker": {
             "colorbar": {
              "outlinewidth": 0,
              "ticks": ""
             }
            },
            "type": "scattergeo"
           }
          ],
          "scattergl": [
           {
            "marker": {
             "colorbar": {
              "outlinewidth": 0,
              "ticks": ""
             }
            },
            "type": "scattergl"
           }
          ],
          "scattermap": [
           {
            "marker": {
             "colorbar": {
              "outlinewidth": 0,
              "ticks": ""
             }
            },
            "type": "scattermap"
           }
          ],
          "scattermapbox": [
           {
            "marker": {
             "colorbar": {
              "outlinewidth": 0,
              "ticks": ""
             }
            },
            "type": "scattermapbox"
           }
          ],
          "scatterpolar": [
           {
            "marker": {
             "colorbar": {
              "outlinewidth": 0,
              "ticks": ""
             }
            },
            "type": "scatterpolar"
           }
          ],
          "scatterpolargl": [
           {
            "marker": {
             "colorbar": {
              "outlinewidth": 0,
              "ticks": ""
             }
            },
            "type": "scatterpolargl"
           }
          ],
          "scatterternary": [
           {
            "marker": {
             "colorbar": {
              "outlinewidth": 0,
              "ticks": ""
             }
            },
            "type": "scatterternary"
           }
          ],
          "surface": [
           {
            "colorbar": {
             "outlinewidth": 0,
             "ticks": ""
            },
            "colorscale": [
             [
              0,
              "#0d0887"
             ],
             [
              0.1111111111111111,
              "#46039f"
             ],
             [
              0.2222222222222222,
              "#7201a8"
             ],
             [
              0.3333333333333333,
              "#9c179e"
             ],
             [
              0.4444444444444444,
              "#bd3786"
             ],
             [
              0.5555555555555556,
              "#d8576b"
             ],
             [
              0.6666666666666666,
              "#ed7953"
             ],
             [
              0.7777777777777778,
              "#fb9f3a"
             ],
             [
              0.8888888888888888,
              "#fdca26"
             ],
             [
              1,
              "#f0f921"
             ]
            ],
            "type": "surface"
           }
          ],
          "table": [
           {
            "cells": {
             "fill": {
              "color": "#EBF0F8"
             },
             "line": {
              "color": "white"
             }
            },
            "header": {
             "fill": {
              "color": "#C8D4E3"
             },
             "line": {
              "color": "white"
             }
            },
            "type": "table"
           }
          ]
         },
         "layout": {
          "annotationdefaults": {
           "arrowcolor": "#2a3f5f",
           "arrowhead": 0,
           "arrowwidth": 1
          },
          "autotypenumbers": "strict",
          "coloraxis": {
           "colorbar": {
            "outlinewidth": 0,
            "ticks": ""
           }
          },
          "colorscale": {
           "diverging": [
            [
             0,
             "#8e0152"
            ],
            [
             0.1,
             "#c51b7d"
            ],
            [
             0.2,
             "#de77ae"
            ],
            [
             0.3,
             "#f1b6da"
            ],
            [
             0.4,
             "#fde0ef"
            ],
            [
             0.5,
             "#f7f7f7"
            ],
            [
             0.6,
             "#e6f5d0"
            ],
            [
             0.7,
             "#b8e186"
            ],
            [
             0.8,
             "#7fbc41"
            ],
            [
             0.9,
             "#4d9221"
            ],
            [
             1,
             "#276419"
            ]
           ],
           "sequential": [
            [
             0,
             "#0d0887"
            ],
            [
             0.1111111111111111,
             "#46039f"
            ],
            [
             0.2222222222222222,
             "#7201a8"
            ],
            [
             0.3333333333333333,
             "#9c179e"
            ],
            [
             0.4444444444444444,
             "#bd3786"
            ],
            [
             0.5555555555555556,
             "#d8576b"
            ],
            [
             0.6666666666666666,
             "#ed7953"
            ],
            [
             0.7777777777777778,
             "#fb9f3a"
            ],
            [
             0.8888888888888888,
             "#fdca26"
            ],
            [
             1,
             "#f0f921"
            ]
           ],
           "sequentialminus": [
            [
             0,
             "#0d0887"
            ],
            [
             0.1111111111111111,
             "#46039f"
            ],
            [
             0.2222222222222222,
             "#7201a8"
            ],
            [
             0.3333333333333333,
             "#9c179e"
            ],
            [
             0.4444444444444444,
             "#bd3786"
            ],
            [
             0.5555555555555556,
             "#d8576b"
            ],
            [
             0.6666666666666666,
             "#ed7953"
            ],
            [
             0.7777777777777778,
             "#fb9f3a"
            ],
            [
             0.8888888888888888,
             "#fdca26"
            ],
            [
             1,
             "#f0f921"
            ]
           ]
          },
          "colorway": [
           "#636efa",
           "#EF553B",
           "#00cc96",
           "#ab63fa",
           "#FFA15A",
           "#19d3f3",
           "#FF6692",
           "#B6E880",
           "#FF97FF",
           "#FECB52"
          ],
          "font": {
           "color": "#2a3f5f"
          },
          "geo": {
           "bgcolor": "white",
           "lakecolor": "white",
           "landcolor": "#E5ECF6",
           "showlakes": true,
           "showland": true,
           "subunitcolor": "white"
          },
          "hoverlabel": {
           "align": "left"
          },
          "hovermode": "closest",
          "mapbox": {
           "style": "light"
          },
          "paper_bgcolor": "white",
          "plot_bgcolor": "#E5ECF6",
          "polar": {
           "angularaxis": {
            "gridcolor": "white",
            "linecolor": "white",
            "ticks": ""
           },
           "bgcolor": "#E5ECF6",
           "radialaxis": {
            "gridcolor": "white",
            "linecolor": "white",
            "ticks": ""
           }
          },
          "scene": {
           "xaxis": {
            "backgroundcolor": "#E5ECF6",
            "gridcolor": "white",
            "gridwidth": 2,
            "linecolor": "white",
            "showbackground": true,
            "ticks": "",
            "zerolinecolor": "white"
           },
           "yaxis": {
            "backgroundcolor": "#E5ECF6",
            "gridcolor": "white",
            "gridwidth": 2,
            "linecolor": "white",
            "showbackground": true,
            "ticks": "",
            "zerolinecolor": "white"
           },
           "zaxis": {
            "backgroundcolor": "#E5ECF6",
            "gridcolor": "white",
            "gridwidth": 2,
            "linecolor": "white",
            "showbackground": true,
            "ticks": "",
            "zerolinecolor": "white"
           }
          },
          "shapedefaults": {
           "line": {
            "color": "#2a3f5f"
           }
          },
          "ternary": {
           "aaxis": {
            "gridcolor": "white",
            "linecolor": "white",
            "ticks": ""
           },
           "baxis": {
            "gridcolor": "white",
            "linecolor": "white",
            "ticks": ""
           },
           "bgcolor": "#E5ECF6",
           "caxis": {
            "gridcolor": "white",
            "linecolor": "white",
            "ticks": ""
           }
          },
          "title": {
           "x": 0.05
          },
          "xaxis": {
           "automargin": true,
           "gridcolor": "white",
           "linecolor": "white",
           "ticks": "",
           "title": {
            "standoff": 15
           },
           "zerolinecolor": "white",
           "zerolinewidth": 2
          },
          "yaxis": {
           "automargin": true,
           "gridcolor": "white",
           "linecolor": "white",
           "ticks": "",
           "title": {
            "standoff": 15
           },
           "zerolinecolor": "white",
           "zerolinewidth": 2
          }
         }
        },
        "title": {
         "text": "Relationship Between Number of people undernourished and Prevalence of undernourishment"
        },
        "xaxis": {
         "anchor": "y",
         "domain": [
          0,
          1
         ],
         "title": {
          "text": "Number of people undernourished"
         }
        },
        "yaxis": {
         "anchor": "x",
         "domain": [
          0,
          1
         ],
         "title": {
          "text": "Prevalence of undernourishment"
         }
        }
       }
      }
     },
     "metadata": {},
     "output_type": "display_data"
    }
   ],
   "source": [
    "# Select two indicators (Modify as needed)\n",
    "indicator_x = 'Number of people undernourished'\n",
    "indicator_y = 'Prevalence of undernourishment'\n",
    "\n",
    "df_scatter = df[df['Item'].str.contains(indicator_x, case=False, na=False)]\n",
    "df_scatter_y = df[df['Item'].str.contains(indicator_y, case=False, na=False)]\n",
    "\n",
    "# Merge both indicators on Year\n",
    "df_merge = df_scatter.merge(df_scatter_y, on='Year', suffixes=('_X', '_Y'))\n",
    "\n",
    "# Scatter Plot\n",
    "fig = px.scatter(df_merge, x='Value_X', y='Value_Y', \n",
    "                 title=f'Relationship Between {indicator_x} and {indicator_y}',\n",
    "                 labels={'Value_X': indicator_x, 'Value_Y': indicator_y})\n",
    "\n",
    "fig.show()\n"
   ]
  },
  {
   "cell_type": "markdown",
   "id": "0f431590-fdc6-46af-b193-3527c85f94b3",
   "metadata": {},
   "source": [
    "# iv- Food Availablity - Average Protein supply (g/capita/day) (3 year average)"
   ]
  },
  {
   "cell_type": "code",
   "execution_count": 29,
   "id": "d5992096-c3ea-46c3-86d1-55382212ca12",
   "metadata": {},
   "outputs": [],
   "source": [
    "#load dataset\n",
    "uae_data = pd.read_csv(r\"F:\\Courses-Learning\\Codanics-Data Science\\datasets_practice\\uae_avg_protein_FAOSTAT_data_en_2-25-2025.csv\")\n",
    "pak_data = pd.read_csv(r\"F:\\Courses-Learning\\Codanics-Data Science\\datasets_practice\\pak_avg_protein_FAOSTAT_data_en_2-25-2025.csv\")"
   ]
  },
  {
   "cell_type": "code",
   "execution_count": 30,
   "id": "7270a949-a3e8-4fbb-8993-3ddaf6ac80ae",
   "metadata": {},
   "outputs": [
    {
     "name": "stdout",
     "output_type": "stream",
     "text": [
      "UAE Data Preview:\n"
     ]
    },
    {
     "data": {
      "application/vnd.microsoft.datawrangler.viewer.v0+json": {
       "columns": [
        {
         "name": "index",
         "rawType": "int64",
         "type": "integer"
        },
        {
         "name": "Domain Code",
         "rawType": "object",
         "type": "string"
        },
        {
         "name": "Domain",
         "rawType": "object",
         "type": "string"
        },
        {
         "name": "Area Code",
         "rawType": "int64",
         "type": "integer"
        },
        {
         "name": "Area",
         "rawType": "object",
         "type": "string"
        },
        {
         "name": "Element Code",
         "rawType": "int64",
         "type": "integer"
        },
        {
         "name": "Element",
         "rawType": "object",
         "type": "string"
        },
        {
         "name": "Item Code",
         "rawType": "int64",
         "type": "integer"
        },
        {
         "name": "Item",
         "rawType": "object",
         "type": "string"
        },
        {
         "name": "Year Code",
         "rawType": "int64",
         "type": "integer"
        },
        {
         "name": "Year",
         "rawType": "object",
         "type": "string"
        },
        {
         "name": "Unit",
         "rawType": "object",
         "type": "string"
        },
        {
         "name": "Value",
         "rawType": "float64",
         "type": "float"
        },
        {
         "name": "Flag",
         "rawType": "object",
         "type": "string"
        },
        {
         "name": "Flag Description",
         "rawType": "object",
         "type": "string"
        },
        {
         "name": "Note",
         "rawType": "float64",
         "type": "float"
        }
       ],
       "conversionMethod": "pd.DataFrame",
       "ref": "8f15cbbb-2e39-4468-bf65-1bce28603646",
       "rows": [
        [
         "0",
         "FS",
         "Suite of Food Security Indicators",
         "225",
         "United Arab Emirates",
         "6123",
         "Value",
         "21013",
         "Average protein supply (g/cap/day) (3-year average)",
         "20002002",
         "2000-2002",
         "g/cap/d",
         "109.1",
         "E",
         "Estimated value",
         null
        ],
        [
         "1",
         "FS",
         "Suite of Food Security Indicators",
         "225",
         "United Arab Emirates",
         "6123",
         "Value",
         "21013",
         "Average protein supply (g/cap/day) (3-year average)",
         "20012003",
         "2001-2003",
         "g/cap/d",
         "112.2",
         "E",
         "Estimated value",
         null
        ],
        [
         "2",
         "FS",
         "Suite of Food Security Indicators",
         "225",
         "United Arab Emirates",
         "6123",
         "Value",
         "21013",
         "Average protein supply (g/cap/day) (3-year average)",
         "20022004",
         "2002-2004",
         "g/cap/d",
         "113.4",
         "E",
         "Estimated value",
         null
        ],
        [
         "3",
         "FS",
         "Suite of Food Security Indicators",
         "225",
         "United Arab Emirates",
         "6123",
         "Value",
         "21013",
         "Average protein supply (g/cap/day) (3-year average)",
         "20032005",
         "2003-2005",
         "g/cap/d",
         "109.1",
         "E",
         "Estimated value",
         null
        ],
        [
         "4",
         "FS",
         "Suite of Food Security Indicators",
         "225",
         "United Arab Emirates",
         "6123",
         "Value",
         "21013",
         "Average protein supply (g/cap/day) (3-year average)",
         "20042006",
         "2004-2006",
         "g/cap/d",
         "104.8",
         "E",
         "Estimated value",
         null
        ]
       ],
       "shape": {
        "columns": 15,
        "rows": 5
       }
      },
      "text/html": [
       "<div>\n",
       "<style scoped>\n",
       "    .dataframe tbody tr th:only-of-type {\n",
       "        vertical-align: middle;\n",
       "    }\n",
       "\n",
       "    .dataframe tbody tr th {\n",
       "        vertical-align: top;\n",
       "    }\n",
       "\n",
       "    .dataframe thead th {\n",
       "        text-align: right;\n",
       "    }\n",
       "</style>\n",
       "<table border=\"1\" class=\"dataframe\">\n",
       "  <thead>\n",
       "    <tr style=\"text-align: right;\">\n",
       "      <th></th>\n",
       "      <th>Domain Code</th>\n",
       "      <th>Domain</th>\n",
       "      <th>Area Code</th>\n",
       "      <th>Area</th>\n",
       "      <th>Element Code</th>\n",
       "      <th>Element</th>\n",
       "      <th>Item Code</th>\n",
       "      <th>Item</th>\n",
       "      <th>Year Code</th>\n",
       "      <th>Year</th>\n",
       "      <th>Unit</th>\n",
       "      <th>Value</th>\n",
       "      <th>Flag</th>\n",
       "      <th>Flag Description</th>\n",
       "      <th>Note</th>\n",
       "    </tr>\n",
       "  </thead>\n",
       "  <tbody>\n",
       "    <tr>\n",
       "      <th>0</th>\n",
       "      <td>FS</td>\n",
       "      <td>Suite of Food Security Indicators</td>\n",
       "      <td>225</td>\n",
       "      <td>United Arab Emirates</td>\n",
       "      <td>6123</td>\n",
       "      <td>Value</td>\n",
       "      <td>21013</td>\n",
       "      <td>Average protein supply (g/cap/day) (3-year ave...</td>\n",
       "      <td>20002002</td>\n",
       "      <td>2000-2002</td>\n",
       "      <td>g/cap/d</td>\n",
       "      <td>109.1</td>\n",
       "      <td>E</td>\n",
       "      <td>Estimated value</td>\n",
       "      <td>NaN</td>\n",
       "    </tr>\n",
       "    <tr>\n",
       "      <th>1</th>\n",
       "      <td>FS</td>\n",
       "      <td>Suite of Food Security Indicators</td>\n",
       "      <td>225</td>\n",
       "      <td>United Arab Emirates</td>\n",
       "      <td>6123</td>\n",
       "      <td>Value</td>\n",
       "      <td>21013</td>\n",
       "      <td>Average protein supply (g/cap/day) (3-year ave...</td>\n",
       "      <td>20012003</td>\n",
       "      <td>2001-2003</td>\n",
       "      <td>g/cap/d</td>\n",
       "      <td>112.2</td>\n",
       "      <td>E</td>\n",
       "      <td>Estimated value</td>\n",
       "      <td>NaN</td>\n",
       "    </tr>\n",
       "    <tr>\n",
       "      <th>2</th>\n",
       "      <td>FS</td>\n",
       "      <td>Suite of Food Security Indicators</td>\n",
       "      <td>225</td>\n",
       "      <td>United Arab Emirates</td>\n",
       "      <td>6123</td>\n",
       "      <td>Value</td>\n",
       "      <td>21013</td>\n",
       "      <td>Average protein supply (g/cap/day) (3-year ave...</td>\n",
       "      <td>20022004</td>\n",
       "      <td>2002-2004</td>\n",
       "      <td>g/cap/d</td>\n",
       "      <td>113.4</td>\n",
       "      <td>E</td>\n",
       "      <td>Estimated value</td>\n",
       "      <td>NaN</td>\n",
       "    </tr>\n",
       "    <tr>\n",
       "      <th>3</th>\n",
       "      <td>FS</td>\n",
       "      <td>Suite of Food Security Indicators</td>\n",
       "      <td>225</td>\n",
       "      <td>United Arab Emirates</td>\n",
       "      <td>6123</td>\n",
       "      <td>Value</td>\n",
       "      <td>21013</td>\n",
       "      <td>Average protein supply (g/cap/day) (3-year ave...</td>\n",
       "      <td>20032005</td>\n",
       "      <td>2003-2005</td>\n",
       "      <td>g/cap/d</td>\n",
       "      <td>109.1</td>\n",
       "      <td>E</td>\n",
       "      <td>Estimated value</td>\n",
       "      <td>NaN</td>\n",
       "    </tr>\n",
       "    <tr>\n",
       "      <th>4</th>\n",
       "      <td>FS</td>\n",
       "      <td>Suite of Food Security Indicators</td>\n",
       "      <td>225</td>\n",
       "      <td>United Arab Emirates</td>\n",
       "      <td>6123</td>\n",
       "      <td>Value</td>\n",
       "      <td>21013</td>\n",
       "      <td>Average protein supply (g/cap/day) (3-year ave...</td>\n",
       "      <td>20042006</td>\n",
       "      <td>2004-2006</td>\n",
       "      <td>g/cap/d</td>\n",
       "      <td>104.8</td>\n",
       "      <td>E</td>\n",
       "      <td>Estimated value</td>\n",
       "      <td>NaN</td>\n",
       "    </tr>\n",
       "  </tbody>\n",
       "</table>\n",
       "</div>"
      ],
      "text/plain": [
       "  Domain Code                             Domain  Area Code  \\\n",
       "0          FS  Suite of Food Security Indicators        225   \n",
       "1          FS  Suite of Food Security Indicators        225   \n",
       "2          FS  Suite of Food Security Indicators        225   \n",
       "3          FS  Suite of Food Security Indicators        225   \n",
       "4          FS  Suite of Food Security Indicators        225   \n",
       "\n",
       "                   Area  Element Code Element  Item Code  \\\n",
       "0  United Arab Emirates          6123   Value      21013   \n",
       "1  United Arab Emirates          6123   Value      21013   \n",
       "2  United Arab Emirates          6123   Value      21013   \n",
       "3  United Arab Emirates          6123   Value      21013   \n",
       "4  United Arab Emirates          6123   Value      21013   \n",
       "\n",
       "                                                Item  Year Code       Year  \\\n",
       "0  Average protein supply (g/cap/day) (3-year ave...   20002002  2000-2002   \n",
       "1  Average protein supply (g/cap/day) (3-year ave...   20012003  2001-2003   \n",
       "2  Average protein supply (g/cap/day) (3-year ave...   20022004  2002-2004   \n",
       "3  Average protein supply (g/cap/day) (3-year ave...   20032005  2003-2005   \n",
       "4  Average protein supply (g/cap/day) (3-year ave...   20042006  2004-2006   \n",
       "\n",
       "      Unit  Value Flag Flag Description  Note  \n",
       "0  g/cap/d  109.1    E  Estimated value   NaN  \n",
       "1  g/cap/d  112.2    E  Estimated value   NaN  \n",
       "2  g/cap/d  113.4    E  Estimated value   NaN  \n",
       "3  g/cap/d  109.1    E  Estimated value   NaN  \n",
       "4  g/cap/d  104.8    E  Estimated value   NaN  "
      ]
     },
     "metadata": {},
     "output_type": "display_data"
    },
    {
     "name": "stdout",
     "output_type": "stream",
     "text": [
      "\n",
      "Pakistan Data Preview:\n"
     ]
    },
    {
     "data": {
      "application/vnd.microsoft.datawrangler.viewer.v0+json": {
       "columns": [
        {
         "name": "index",
         "rawType": "int64",
         "type": "integer"
        },
        {
         "name": "Domain Code",
         "rawType": "object",
         "type": "string"
        },
        {
         "name": "Domain",
         "rawType": "object",
         "type": "string"
        },
        {
         "name": "Area Code",
         "rawType": "int64",
         "type": "integer"
        },
        {
         "name": "Area",
         "rawType": "object",
         "type": "string"
        },
        {
         "name": "Element Code",
         "rawType": "int64",
         "type": "integer"
        },
        {
         "name": "Element",
         "rawType": "object",
         "type": "string"
        },
        {
         "name": "Item Code",
         "rawType": "int64",
         "type": "integer"
        },
        {
         "name": "Item",
         "rawType": "object",
         "type": "string"
        },
        {
         "name": "Year Code",
         "rawType": "int64",
         "type": "integer"
        },
        {
         "name": "Year",
         "rawType": "object",
         "type": "string"
        },
        {
         "name": "Unit",
         "rawType": "object",
         "type": "string"
        },
        {
         "name": "Value",
         "rawType": "float64",
         "type": "float"
        },
        {
         "name": "Flag",
         "rawType": "object",
         "type": "string"
        },
        {
         "name": "Flag Description",
         "rawType": "object",
         "type": "string"
        },
        {
         "name": "Note",
         "rawType": "float64",
         "type": "float"
        }
       ],
       "conversionMethod": "pd.DataFrame",
       "ref": "5b4a2765-8e31-4959-ab8a-11d92fa4c96f",
       "rows": [
        [
         "0",
         "FS",
         "Suite of Food Security Indicators",
         "165",
         "Pakistan",
         "6123",
         "Value",
         "21013",
         "Average protein supply (g/cap/day) (3-year average)",
         "20002002",
         "2000-2002",
         "g/cap/d",
         "59.7",
         "E",
         "Estimated value",
         null
        ],
        [
         "1",
         "FS",
         "Suite of Food Security Indicators",
         "165",
         "Pakistan",
         "6123",
         "Value",
         "21013",
         "Average protein supply (g/cap/day) (3-year average)",
         "20012003",
         "2001-2003",
         "g/cap/d",
         "59.1",
         "E",
         "Estimated value",
         null
        ],
        [
         "2",
         "FS",
         "Suite of Food Security Indicators",
         "165",
         "Pakistan",
         "6123",
         "Value",
         "21013",
         "Average protein supply (g/cap/day) (3-year average)",
         "20022004",
         "2002-2004",
         "g/cap/d",
         "59.0",
         "E",
         "Estimated value",
         null
        ],
        [
         "3",
         "FS",
         "Suite of Food Security Indicators",
         "165",
         "Pakistan",
         "6123",
         "Value",
         "21013",
         "Average protein supply (g/cap/day) (3-year average)",
         "20032005",
         "2003-2005",
         "g/cap/d",
         "59.6",
         "E",
         "Estimated value",
         null
        ],
        [
         "4",
         "FS",
         "Suite of Food Security Indicators",
         "165",
         "Pakistan",
         "6123",
         "Value",
         "21013",
         "Average protein supply (g/cap/day) (3-year average)",
         "20042006",
         "2004-2006",
         "g/cap/d",
         "59.8",
         "E",
         "Estimated value",
         null
        ]
       ],
       "shape": {
        "columns": 15,
        "rows": 5
       }
      },
      "text/html": [
       "<div>\n",
       "<style scoped>\n",
       "    .dataframe tbody tr th:only-of-type {\n",
       "        vertical-align: middle;\n",
       "    }\n",
       "\n",
       "    .dataframe tbody tr th {\n",
       "        vertical-align: top;\n",
       "    }\n",
       "\n",
       "    .dataframe thead th {\n",
       "        text-align: right;\n",
       "    }\n",
       "</style>\n",
       "<table border=\"1\" class=\"dataframe\">\n",
       "  <thead>\n",
       "    <tr style=\"text-align: right;\">\n",
       "      <th></th>\n",
       "      <th>Domain Code</th>\n",
       "      <th>Domain</th>\n",
       "      <th>Area Code</th>\n",
       "      <th>Area</th>\n",
       "      <th>Element Code</th>\n",
       "      <th>Element</th>\n",
       "      <th>Item Code</th>\n",
       "      <th>Item</th>\n",
       "      <th>Year Code</th>\n",
       "      <th>Year</th>\n",
       "      <th>Unit</th>\n",
       "      <th>Value</th>\n",
       "      <th>Flag</th>\n",
       "      <th>Flag Description</th>\n",
       "      <th>Note</th>\n",
       "    </tr>\n",
       "  </thead>\n",
       "  <tbody>\n",
       "    <tr>\n",
       "      <th>0</th>\n",
       "      <td>FS</td>\n",
       "      <td>Suite of Food Security Indicators</td>\n",
       "      <td>165</td>\n",
       "      <td>Pakistan</td>\n",
       "      <td>6123</td>\n",
       "      <td>Value</td>\n",
       "      <td>21013</td>\n",
       "      <td>Average protein supply (g/cap/day) (3-year ave...</td>\n",
       "      <td>20002002</td>\n",
       "      <td>2000-2002</td>\n",
       "      <td>g/cap/d</td>\n",
       "      <td>59.7</td>\n",
       "      <td>E</td>\n",
       "      <td>Estimated value</td>\n",
       "      <td>NaN</td>\n",
       "    </tr>\n",
       "    <tr>\n",
       "      <th>1</th>\n",
       "      <td>FS</td>\n",
       "      <td>Suite of Food Security Indicators</td>\n",
       "      <td>165</td>\n",
       "      <td>Pakistan</td>\n",
       "      <td>6123</td>\n",
       "      <td>Value</td>\n",
       "      <td>21013</td>\n",
       "      <td>Average protein supply (g/cap/day) (3-year ave...</td>\n",
       "      <td>20012003</td>\n",
       "      <td>2001-2003</td>\n",
       "      <td>g/cap/d</td>\n",
       "      <td>59.1</td>\n",
       "      <td>E</td>\n",
       "      <td>Estimated value</td>\n",
       "      <td>NaN</td>\n",
       "    </tr>\n",
       "    <tr>\n",
       "      <th>2</th>\n",
       "      <td>FS</td>\n",
       "      <td>Suite of Food Security Indicators</td>\n",
       "      <td>165</td>\n",
       "      <td>Pakistan</td>\n",
       "      <td>6123</td>\n",
       "      <td>Value</td>\n",
       "      <td>21013</td>\n",
       "      <td>Average protein supply (g/cap/day) (3-year ave...</td>\n",
       "      <td>20022004</td>\n",
       "      <td>2002-2004</td>\n",
       "      <td>g/cap/d</td>\n",
       "      <td>59.0</td>\n",
       "      <td>E</td>\n",
       "      <td>Estimated value</td>\n",
       "      <td>NaN</td>\n",
       "    </tr>\n",
       "    <tr>\n",
       "      <th>3</th>\n",
       "      <td>FS</td>\n",
       "      <td>Suite of Food Security Indicators</td>\n",
       "      <td>165</td>\n",
       "      <td>Pakistan</td>\n",
       "      <td>6123</td>\n",
       "      <td>Value</td>\n",
       "      <td>21013</td>\n",
       "      <td>Average protein supply (g/cap/day) (3-year ave...</td>\n",
       "      <td>20032005</td>\n",
       "      <td>2003-2005</td>\n",
       "      <td>g/cap/d</td>\n",
       "      <td>59.6</td>\n",
       "      <td>E</td>\n",
       "      <td>Estimated value</td>\n",
       "      <td>NaN</td>\n",
       "    </tr>\n",
       "    <tr>\n",
       "      <th>4</th>\n",
       "      <td>FS</td>\n",
       "      <td>Suite of Food Security Indicators</td>\n",
       "      <td>165</td>\n",
       "      <td>Pakistan</td>\n",
       "      <td>6123</td>\n",
       "      <td>Value</td>\n",
       "      <td>21013</td>\n",
       "      <td>Average protein supply (g/cap/day) (3-year ave...</td>\n",
       "      <td>20042006</td>\n",
       "      <td>2004-2006</td>\n",
       "      <td>g/cap/d</td>\n",
       "      <td>59.8</td>\n",
       "      <td>E</td>\n",
       "      <td>Estimated value</td>\n",
       "      <td>NaN</td>\n",
       "    </tr>\n",
       "  </tbody>\n",
       "</table>\n",
       "</div>"
      ],
      "text/plain": [
       "  Domain Code                             Domain  Area Code      Area  \\\n",
       "0          FS  Suite of Food Security Indicators        165  Pakistan   \n",
       "1          FS  Suite of Food Security Indicators        165  Pakistan   \n",
       "2          FS  Suite of Food Security Indicators        165  Pakistan   \n",
       "3          FS  Suite of Food Security Indicators        165  Pakistan   \n",
       "4          FS  Suite of Food Security Indicators        165  Pakistan   \n",
       "\n",
       "   Element Code Element  Item Code  \\\n",
       "0          6123   Value      21013   \n",
       "1          6123   Value      21013   \n",
       "2          6123   Value      21013   \n",
       "3          6123   Value      21013   \n",
       "4          6123   Value      21013   \n",
       "\n",
       "                                                Item  Year Code       Year  \\\n",
       "0  Average protein supply (g/cap/day) (3-year ave...   20002002  2000-2002   \n",
       "1  Average protein supply (g/cap/day) (3-year ave...   20012003  2001-2003   \n",
       "2  Average protein supply (g/cap/day) (3-year ave...   20022004  2002-2004   \n",
       "3  Average protein supply (g/cap/day) (3-year ave...   20032005  2003-2005   \n",
       "4  Average protein supply (g/cap/day) (3-year ave...   20042006  2004-2006   \n",
       "\n",
       "      Unit  Value Flag Flag Description  Note  \n",
       "0  g/cap/d   59.7    E  Estimated value   NaN  \n",
       "1  g/cap/d   59.1    E  Estimated value   NaN  \n",
       "2  g/cap/d   59.0    E  Estimated value   NaN  \n",
       "3  g/cap/d   59.6    E  Estimated value   NaN  \n",
       "4  g/cap/d   59.8    E  Estimated value   NaN  "
      ]
     },
     "metadata": {},
     "output_type": "display_data"
    }
   ],
   "source": [
    "#Preview the dataset\n",
    "print(\"UAE Data Preview:\")\n",
    "display(uae_data.head())\n",
    "\n",
    "print(\"\\nPakistan Data Preview:\")\n",
    "display(pak_data.head())"
   ]
  },
  {
   "cell_type": "code",
   "execution_count": 31,
   "id": "4c4a4b2d-5d0f-4c98-b1d4-9d997ea56de0",
   "metadata": {},
   "outputs": [
    {
     "name": "stdout",
     "output_type": "stream",
     "text": [
      "UAE Columns: Index(['Domain Code', 'Domain', 'Area Code', 'Area', 'Element Code', 'Element',\n",
      "       'Item Code', 'Item', 'Year Code', 'Year', 'Unit', 'Value', 'Flag',\n",
      "       'Flag Description', 'Note'],\n",
      "      dtype='object')\n",
      "\n",
      "Pakistan Columns: Index(['Domain Code', 'Domain', 'Area Code', 'Area', 'Element Code', 'Element',\n",
      "       'Item Code', 'Item', 'Year Code', 'Year', 'Unit', 'Value', 'Flag',\n",
      "       'Flag Description', 'Note'],\n",
      "      dtype='object')\n",
      "\n",
      "UAE Data Types:\n",
      " Domain Code          object\n",
      "Domain               object\n",
      "Area Code             int64\n",
      "Area                 object\n",
      "Element Code          int64\n",
      "Element              object\n",
      "Item Code             int64\n",
      "Item                 object\n",
      "Year Code             int64\n",
      "Year                 object\n",
      "Unit                 object\n",
      "Value               float64\n",
      "Flag                 object\n",
      "Flag Description     object\n",
      "Note                float64\n",
      "dtype: object\n",
      "\n",
      "Pakistan Data Types:\n",
      " Domain Code          object\n",
      "Domain               object\n",
      "Area Code             int64\n",
      "Area                 object\n",
      "Element Code          int64\n",
      "Element              object\n",
      "Item Code             int64\n",
      "Item                 object\n",
      "Year Code             int64\n",
      "Year                 object\n",
      "Unit                 object\n",
      "Value               float64\n",
      "Flag                 object\n",
      "Flag Description     object\n",
      "Note                float64\n",
      "dtype: object\n"
     ]
    }
   ],
   "source": [
    "#Check column name and data types\n",
    "print(\"UAE Columns:\", uae_data.columns)\n",
    "print(\"\\nPakistan Columns:\", pak_data.columns)\n",
    "\n",
    "print(\"\\nUAE Data Types:\\n\", uae_data.dtypes)\n",
    "print(\"\\nPakistan Data Types:\\n\", pak_data.dtypes)"
   ]
  },
  {
   "cell_type": "code",
   "execution_count": 32,
   "id": "baa58a5f-dd2d-4ce4-9c84-53d8cbab08f6",
   "metadata": {},
   "outputs": [
    {
     "name": "stdout",
     "output_type": "stream",
     "text": [
      "Missing Values in UAE Data:\n",
      " Domain Code          0\n",
      "Domain               0\n",
      "Area Code            0\n",
      "Area                 0\n",
      "Element Code         0\n",
      "Element              0\n",
      "Item Code            0\n",
      "Item                 0\n",
      "Year Code            0\n",
      "Year                 0\n",
      "Unit                 0\n",
      "Value                0\n",
      "Flag                 0\n",
      "Flag Description     0\n",
      "Note                21\n",
      "dtype: int64\n",
      "\n",
      "Missing Values in Pakistan Data:\n",
      " Domain Code          0\n",
      "Domain               0\n",
      "Area Code            0\n",
      "Area                 0\n",
      "Element Code         0\n",
      "Element              0\n",
      "Item Code            0\n",
      "Item                 0\n",
      "Year Code            0\n",
      "Year                 0\n",
      "Unit                 0\n",
      "Value                0\n",
      "Flag                 0\n",
      "Flag Description     0\n",
      "Note                21\n",
      "dtype: int64\n"
     ]
    }
   ],
   "source": [
    "#Check for missing values\n",
    "print(\"Missing Values in UAE Data:\\n\", uae_data.isnull().sum())\n",
    "print(\"\\nMissing Values in Pakistan Data:\\n\", pak_data.isnull().sum())"
   ]
  },
  {
   "cell_type": "markdown",
   "id": "ed0bb597-00ca-4813-a627-1561e37ee862",
   "metadata": {},
   "source": [
    "# Combining datasets"
   ]
  },
  {
   "cell_type": "code",
   "execution_count": 33,
   "id": "2c9f16b6-2764-4dd6-bc0f-7d57cf4fff9e",
   "metadata": {},
   "outputs": [],
   "source": [
    "# Combine datasets for comparison\n",
    "pak_data[\"Country\"] = \"Pakistan\"\n",
    "uae_data[\"Country\"] = \"UAE\"\n",
    "df = pd.concat([pak_data, uae_data])"
   ]
  },
  {
   "cell_type": "markdown",
   "id": "7e53542b-5da7-4cf9-abbe-b968516c8624",
   "metadata": {},
   "source": [
    "# 01-Time Series Line Chart – Protein Supply Trend Over Time"
   ]
  },
  {
   "cell_type": "code",
   "execution_count": 34,
   "id": "d7625f9f-d417-4c53-a134-135749e0b670",
   "metadata": {},
   "outputs": [
    {
     "ename": "NameError",
     "evalue": "name 'df_pakistan' is not defined",
     "output_type": "error",
     "traceback": [
      "\u001b[1;31m---------------------------------------------------------------------------\u001b[0m",
      "\u001b[1;31mNameError\u001b[0m                                 Traceback (most recent call last)",
      "Cell \u001b[1;32mIn[34], line 4\u001b[0m\n\u001b[0;32m      1\u001b[0m \u001b[38;5;28;01mimport\u001b[39;00m\u001b[38;5;250m \u001b[39m\u001b[38;5;21;01mplotly\u001b[39;00m\u001b[38;5;21;01m.\u001b[39;00m\u001b[38;5;21;01mexpress\u001b[39;00m\u001b[38;5;250m \u001b[39m\u001b[38;5;28;01mas\u001b[39;00m\u001b[38;5;250m \u001b[39m\u001b[38;5;21;01mpx\u001b[39;00m\n\u001b[0;32m      3\u001b[0m \u001b[38;5;66;03m# Convert Year to string for proper plotting\u001b[39;00m\n\u001b[1;32m----> 4\u001b[0m df_pakistan[\u001b[38;5;124m'\u001b[39m\u001b[38;5;124mYear\u001b[39m\u001b[38;5;124m'\u001b[39m] \u001b[38;5;241m=\u001b[39m \u001b[43mdf_pakistan\u001b[49m[\u001b[38;5;124m'\u001b[39m\u001b[38;5;124mYear\u001b[39m\u001b[38;5;124m'\u001b[39m]\u001b[38;5;241m.\u001b[39mastype(\u001b[38;5;28mstr\u001b[39m)\n\u001b[0;32m      6\u001b[0m \u001b[38;5;66;03m# Line Chart\u001b[39;00m\n\u001b[0;32m      7\u001b[0m fig \u001b[38;5;241m=\u001b[39m px\u001b[38;5;241m.\u001b[39mline(df_pakistan, x\u001b[38;5;241m=\u001b[39m\u001b[38;5;124m'\u001b[39m\u001b[38;5;124mYear\u001b[39m\u001b[38;5;124m'\u001b[39m, y\u001b[38;5;241m=\u001b[39m\u001b[38;5;124m'\u001b[39m\u001b[38;5;124mValue\u001b[39m\u001b[38;5;124m'\u001b[39m, \n\u001b[0;32m      8\u001b[0m               title\u001b[38;5;241m=\u001b[39m\u001b[38;5;124m'\u001b[39m\u001b[38;5;124mAverage Protein Supply Trend Over Time (Pakistan)\u001b[39m\u001b[38;5;124m'\u001b[39m,\n\u001b[0;32m      9\u001b[0m               labels\u001b[38;5;241m=\u001b[39m{\u001b[38;5;124m'\u001b[39m\u001b[38;5;124mValue\u001b[39m\u001b[38;5;124m'\u001b[39m: df_pakistan[\u001b[38;5;124m'\u001b[39m\u001b[38;5;124mUnit\u001b[39m\u001b[38;5;124m'\u001b[39m]\u001b[38;5;241m.\u001b[39miloc[\u001b[38;5;241m0\u001b[39m]},\n\u001b[0;32m     10\u001b[0m               markers\u001b[38;5;241m=\u001b[39m\u001b[38;5;28;01mTrue\u001b[39;00m)\n",
      "\u001b[1;31mNameError\u001b[0m: name 'df_pakistan' is not defined"
     ]
    }
   ],
   "source": [
    "import plotly.express as px\n",
    "\n",
    "# Convert Year to string for proper plotting\n",
    "df_pakistan['Year'] = df_pakistan['Year'].astype(str)\n",
    "\n",
    "# Line Chart\n",
    "fig = px.line(df_pakistan, x='Year', y='Value', \n",
    "              title='Average Protein Supply Trend Over Time (Pakistan)',\n",
    "              labels={'Value': df_pakistan['Unit'].iloc[0]},\n",
    "              markers=True)\n",
    "\n",
    "fig.show()"
   ]
  },
  {
   "cell_type": "markdown",
   "id": "7a93327d-39aa-42f8-8305-ec686995439e",
   "metadata": {},
   "source": [
    "# 02-Bar Chart – Protein Supply in Different Years"
   ]
  },
  {
   "cell_type": "code",
   "execution_count": 53,
   "id": "097a777c-05bf-4a75-81cc-d8a976b8d3d1",
   "metadata": {},
   "outputs": [
    {
     "ename": "NameError",
     "evalue": "name 'df_pakistan' is not defined",
     "output_type": "error",
     "traceback": [
      "\u001b[1;31m---------------------------------------------------------------------------\u001b[0m",
      "\u001b[1;31mNameError\u001b[0m                                 Traceback (most recent call last)",
      "Cell \u001b[1;32mIn[53], line 2\u001b[0m\n\u001b[0;32m      1\u001b[0m \u001b[38;5;66;03m# Bar Chart\u001b[39;00m\n\u001b[1;32m----> 2\u001b[0m fig \u001b[38;5;241m=\u001b[39m px\u001b[38;5;241m.\u001b[39mbar(df_pakistan, x\u001b[38;5;241m=\u001b[39m\u001b[38;5;124m'\u001b[39m\u001b[38;5;124mYear\u001b[39m\u001b[38;5;124m'\u001b[39m, y\u001b[38;5;241m=\u001b[39m\u001b[38;5;124m'\u001b[39m\u001b[38;5;124mValue\u001b[39m\u001b[38;5;124m'\u001b[39m, \n\u001b[0;32m      3\u001b[0m              title\u001b[38;5;241m=\u001b[39m\u001b[38;5;124m'\u001b[39m\u001b[38;5;124mAverage Protein Supply in Different Years (Pakistan)\u001b[39m\u001b[38;5;124m'\u001b[39m,\n\u001b[0;32m      4\u001b[0m              labels\u001b[38;5;241m=\u001b[39m{\u001b[38;5;124m'\u001b[39m\u001b[38;5;124mValue\u001b[39m\u001b[38;5;124m'\u001b[39m: \u001b[38;5;124m'\u001b[39m\u001b[38;5;124mProtein Supply (g/cap/day)\u001b[39m\u001b[38;5;124m'\u001b[39m},\n\u001b[0;32m      5\u001b[0m              text_auto\u001b[38;5;241m=\u001b[39m\u001b[38;5;28;01mTrue\u001b[39;00m)\n\u001b[0;32m      7\u001b[0m fig\u001b[38;5;241m.\u001b[39mupdate_layout(xaxis_tickangle\u001b[38;5;241m=\u001b[39m\u001b[38;5;241m-\u001b[39m\u001b[38;5;241m45\u001b[39m)\n\u001b[0;32m      8\u001b[0m fig\u001b[38;5;241m.\u001b[39mshow()\n",
      "\u001b[1;31mNameError\u001b[0m: name 'df_pakistan' is not defined"
     ]
    }
   ],
   "source": [
    "# Bar Chart\n",
    "fig = px.bar(df_pakistan, x='Year', y='Value', \n",
    "             title='Average Protein Supply in Different Years (Pakistan)',\n",
    "             labels={'Value': 'Protein Supply (g/cap/day)'},\n",
    "             text_auto=True)\n",
    "\n",
    "fig.update_layout(xaxis_tickangle=-45)\n",
    "fig.show()"
   ]
  },
  {
   "cell_type": "code",
   "execution_count": null,
   "id": "c6a35e80-4635-4aa9-a77c-726ce087ccab",
   "metadata": {},
   "outputs": [],
   "source": []
  }
 ],
 "metadata": {
  "kernelspec": {
   "display_name": "Python 3",
   "language": "python",
   "name": "python3"
  },
  "language_info": {
   "codemirror_mode": {
    "name": "ipython",
    "version": 3
   },
   "file_extension": ".py",
   "mimetype": "text/x-python",
   "name": "python",
   "nbconvert_exporter": "python",
   "pygments_lexer": "ipython3",
   "version": "3.13.0"
  }
 },
 "nbformat": 4,
 "nbformat_minor": 5
}
